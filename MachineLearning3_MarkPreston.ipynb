{
 "cells": [
  {
   "cell_type": "markdown",
   "metadata": {},
   "source": [
    "# Machine Learning 3: Principle Components Analysis (PCA) & Logistic Regression \n",
    "\n",
    "## Submission by: Mark Preston"
   ]
  },
  {
   "cell_type": "markdown",
   "metadata": {},
   "source": [
    "This week's assignment will focus on using both Principle Components Analysis (PCA) & multi-class logistic regression using government health care data. Specifically, this data set provides general information on active nursing homes, which includes columns for the number of certified beds, quality measure scores, and staffing, among other variables. All of the numeric fields are filled using a 5-star ranking system with 5 being the best. Each row represents an individual nursing  home. With that in mind, the unit of analysis here is nursing homes, which have a variety of rating metrics. \n",
    "\n",
    "### Data Processing: \n",
    "\n",
    "Kicking off the exercise, I've loaded in the data and imported `pandas` as well. The initial set has 15,617 individual nursing homes, each with 78 variables associated with it."
   ]
  },
  {
   "cell_type": "code",
   "execution_count": 2,
   "metadata": {},
   "outputs": [
    {
     "name": "stdout",
     "output_type": "stream",
     "text": [
      "The initial nursing home data has 15617 rows and 78 columns\n"
     ]
    }
   ],
   "source": [
    "import pandas as pd\n",
    "\n",
    "pd.options.mode.chained_assignment = None\n",
    "\n",
    "nursing_homes = pd.read_csv(\"ProviderInfo.csv\", low_memory=False)\n",
    "\n",
    "print(\"The initial nursing home data has\", \n",
    "      nursing_homes.shape[0], \"rows and\", \n",
    "      nursing_homes.shape[1],  \"columns\")"
   ]
  },
  {
   "cell_type": "markdown",
   "metadata": {},
   "source": [
    "Starting the data cleaning, I've dropped all the non-numeric columns using `select_dtypes`. On top of this, I've also dropped Phone and County SSA, which happen to be numeric, but are not needed for the analysis. Following this, the set has 28 remaining columns."
   ]
  },
  {
   "cell_type": "code",
   "execution_count": 3,
   "metadata": {},
   "outputs": [
    {
     "name": "stdout",
     "output_type": "stream",
     "text": [
      "The data with only numeric columns and 2 other drops now has 15617 rows and 28\n"
     ]
    }
   ],
   "source": [
    "nursing_homes = nursing_homes.select_dtypes(include=[\"number\"])\n",
    "\n",
    "nursing_homes = nursing_homes.drop([\"COUNTY_SSA\", \"PHONE\"], axis=1)\n",
    "\n",
    "print(\"The data with only numeric columns and 2 other drops now has\", \n",
    "      nursing_homes.shape[0], \"rows and\", \n",
    "      nursing_homes.shape[1])"
   ]
  },
  {
   "cell_type": "markdown",
   "metadata": {},
   "source": [
    "Other cleaning tasks need to be performed as well. For example, every column in the set has at least one null value, so these will have to be dropped."
   ]
  },
  {
   "cell_type": "code",
   "execution_count": 4,
   "metadata": {
    "scrolled": true
   },
   "outputs": [
    {
     "data": {
      "text/html": [
       "<div>\n",
       "<style scoped>\n",
       "    .dataframe tbody tr th:only-of-type {\n",
       "        vertical-align: middle;\n",
       "    }\n",
       "\n",
       "    .dataframe tbody tr th {\n",
       "        vertical-align: top;\n",
       "    }\n",
       "\n",
       "    .dataframe thead th {\n",
       "        text-align: right;\n",
       "    }\n",
       "</style>\n",
       "<table border=\"1\" class=\"dataframe\">\n",
       "  <thead>\n",
       "    <tr style=\"text-align: right;\">\n",
       "      <th></th>\n",
       "      <th>is_null_count</th>\n",
       "    </tr>\n",
       "  </thead>\n",
       "  <tbody>\n",
       "    <tr>\n",
       "      <th>ZIP</th>\n",
       "      <td>1</td>\n",
       "    </tr>\n",
       "    <tr>\n",
       "      <th>BEDCERT</th>\n",
       "      <td>1</td>\n",
       "    </tr>\n",
       "    <tr>\n",
       "      <th>RESTOT</th>\n",
       "      <td>512</td>\n",
       "    </tr>\n",
       "    <tr>\n",
       "      <th>OVERALL_RATING</th>\n",
       "      <td>181</td>\n",
       "    </tr>\n",
       "    <tr>\n",
       "      <th>SURVEY_RATING</th>\n",
       "      <td>181</td>\n",
       "    </tr>\n",
       "    <tr>\n",
       "      <th>QUALITY_RATING</th>\n",
       "      <td>214</td>\n",
       "    </tr>\n",
       "    <tr>\n",
       "      <th>STAFFING_RATING</th>\n",
       "      <td>349</td>\n",
       "    </tr>\n",
       "    <tr>\n",
       "      <th>RN_STAFFING_RATING</th>\n",
       "      <td>349</td>\n",
       "    </tr>\n",
       "    <tr>\n",
       "      <th>AIDHRD</th>\n",
       "      <td>947</td>\n",
       "    </tr>\n",
       "    <tr>\n",
       "      <th>VOCHRD</th>\n",
       "      <td>947</td>\n",
       "    </tr>\n",
       "    <tr>\n",
       "      <th>RNHRD</th>\n",
       "      <td>947</td>\n",
       "    </tr>\n",
       "    <tr>\n",
       "      <th>TOTLICHRD</th>\n",
       "      <td>947</td>\n",
       "    </tr>\n",
       "    <tr>\n",
       "      <th>TOTHRD</th>\n",
       "      <td>947</td>\n",
       "    </tr>\n",
       "    <tr>\n",
       "      <th>PTHRD</th>\n",
       "      <td>947</td>\n",
       "    </tr>\n",
       "    <tr>\n",
       "      <th>EXP_AIDE</th>\n",
       "      <td>947</td>\n",
       "    </tr>\n",
       "    <tr>\n",
       "      <th>EXP_LPN</th>\n",
       "      <td>947</td>\n",
       "    </tr>\n",
       "    <tr>\n",
       "      <th>EXP_RN</th>\n",
       "      <td>947</td>\n",
       "    </tr>\n",
       "    <tr>\n",
       "      <th>EXP_TOTAL</th>\n",
       "      <td>947</td>\n",
       "    </tr>\n",
       "    <tr>\n",
       "      <th>ADJ_AIDE</th>\n",
       "      <td>1057</td>\n",
       "    </tr>\n",
       "    <tr>\n",
       "      <th>ADJ_LPN</th>\n",
       "      <td>1057</td>\n",
       "    </tr>\n",
       "    <tr>\n",
       "      <th>ADJ_RN</th>\n",
       "      <td>1057</td>\n",
       "    </tr>\n",
       "    <tr>\n",
       "      <th>ADJ_TOTAL</th>\n",
       "      <td>1057</td>\n",
       "    </tr>\n",
       "    <tr>\n",
       "      <th>INCIDENT_CNT</th>\n",
       "      <td>1</td>\n",
       "    </tr>\n",
       "    <tr>\n",
       "      <th>CMPLNT_CNT</th>\n",
       "      <td>1</td>\n",
       "    </tr>\n",
       "    <tr>\n",
       "      <th>FINE_CNT</th>\n",
       "      <td>1</td>\n",
       "    </tr>\n",
       "    <tr>\n",
       "      <th>FINE_TOT</th>\n",
       "      <td>1</td>\n",
       "    </tr>\n",
       "    <tr>\n",
       "      <th>PAYDEN_CNT</th>\n",
       "      <td>1</td>\n",
       "    </tr>\n",
       "    <tr>\n",
       "      <th>TOT_PENLTY_CNT</th>\n",
       "      <td>1</td>\n",
       "    </tr>\n",
       "  </tbody>\n",
       "</table>\n",
       "</div>"
      ],
      "text/plain": [
       "                    is_null_count\n",
       "ZIP                             1\n",
       "BEDCERT                         1\n",
       "RESTOT                        512\n",
       "OVERALL_RATING                181\n",
       "SURVEY_RATING                 181\n",
       "QUALITY_RATING                214\n",
       "STAFFING_RATING               349\n",
       "RN_STAFFING_RATING            349\n",
       "AIDHRD                        947\n",
       "VOCHRD                        947\n",
       "RNHRD                         947\n",
       "TOTLICHRD                     947\n",
       "TOTHRD                        947\n",
       "PTHRD                         947\n",
       "EXP_AIDE                      947\n",
       "EXP_LPN                       947\n",
       "EXP_RN                        947\n",
       "EXP_TOTAL                     947\n",
       "ADJ_AIDE                     1057\n",
       "ADJ_LPN                      1057\n",
       "ADJ_RN                       1057\n",
       "ADJ_TOTAL                    1057\n",
       "INCIDENT_CNT                    1\n",
       "CMPLNT_CNT                      1\n",
       "FINE_CNT                        1\n",
       "FINE_TOT                        1\n",
       "PAYDEN_CNT                      1\n",
       "TOT_PENLTY_CNT                  1"
      ]
     },
     "execution_count": 4,
     "metadata": {},
     "output_type": "execute_result"
    }
   ],
   "source": [
    "pd.DataFrame({\"is_null_count\": nursing_homes.isnull().sum()})"
   ]
  },
  {
   "cell_type": "markdown",
   "metadata": {},
   "source": [
    "To get rid of these records, I've used the `dropna` function. Following this, 14,557 nursing home records remain, which matches the assignment specifications."
   ]
  },
  {
   "cell_type": "code",
   "execution_count": 5,
   "metadata": {},
   "outputs": [
    {
     "name": "stdout",
     "output_type": "stream",
     "text": [
      "The cleaned data now has 14557 rows and 28 columns\n"
     ]
    }
   ],
   "source": [
    "nursing_clean = nursing_homes.dropna()\n",
    "\n",
    "print(\"The cleaned data now has\", \n",
    "      nursing_clean.shape[0], \"rows and\", \n",
    "      nursing_clean.shape[1], \"columns\")"
   ]
  },
  {
   "cell_type": "markdown",
   "metadata": {},
   "source": [
    "Following this, the modelling set is ready to go. With this, I've used the set to develop a train and test split using 80/20 proportions. I've verified the correct dimensions below."
   ]
  },
  {
   "cell_type": "code",
   "execution_count": 6,
   "metadata": {},
   "outputs": [
    {
     "name": "stdout",
     "output_type": "stream",
     "text": [
      "Training set rows: 11645 which is 80.0 percent of total records\n",
      "Test set rows: 2912 which is 20.0 percent of total records\n"
     ]
    }
   ],
   "source": [
    "from sklearn.model_selection import train_test_split\n",
    "import numpy as np\n",
    "\n",
    "predictors = nursing_clean.drop(columns=[\"OVERALL_RATING\"], axis=1)\n",
    "\n",
    "outcome = nursing_clean[[\"OVERALL_RATING\"]]\n",
    "\n",
    "X_train, X_test, y_train, y_test = train_test_split(predictors, outcome, random_state=1017, test_size=.2)\n",
    "\n",
    "print(\n",
    "\"Training set rows:\", X_train.shape[0], \"which is\", \n",
    "    np.round(X_train.shape[0] / nursing_clean.shape[0] * 100), \n",
    "    \"percent of total records\"\n",
    ")\n",
    "\n",
    "print(\n",
    "\"Test set rows:\", X_test.shape[0], \"which is\", \n",
    "    np.round(X_test.shape[0] / nursing_clean.shape[0] * 100),\n",
    "    \"percent of total records\"\n",
    ")"
   ]
  },
  {
   "cell_type": "markdown",
   "metadata": {},
   "source": [
    "With the set split, I've also scaled both sets using a mixture of the Sci-Kit Learn `StandardScaler` and a for loop to apply the appropriate mean and variance to each column so the values are converted to z-scores. This operation completes the data cleaning work and sets up the modelling phase."
   ]
  },
  {
   "cell_type": "code",
   "execution_count": 7,
   "metadata": {},
   "outputs": [
    {
     "data": {
      "text/html": [
       "<div>\n",
       "<style scoped>\n",
       "    .dataframe tbody tr th:only-of-type {\n",
       "        vertical-align: middle;\n",
       "    }\n",
       "\n",
       "    .dataframe tbody tr th {\n",
       "        vertical-align: top;\n",
       "    }\n",
       "\n",
       "    .dataframe thead th {\n",
       "        text-align: right;\n",
       "    }\n",
       "</style>\n",
       "<table border=\"1\" class=\"dataframe\">\n",
       "  <thead>\n",
       "    <tr style=\"text-align: right;\">\n",
       "      <th></th>\n",
       "      <th>ZIP</th>\n",
       "      <th>SURVEY_RATING</th>\n",
       "      <th>QUALITY_RATING</th>\n",
       "      <th>STAFFING_RATING</th>\n",
       "      <th>RN_STAFFING_RATING</th>\n",
       "    </tr>\n",
       "  </thead>\n",
       "  <tbody>\n",
       "    <tr>\n",
       "      <th>0</th>\n",
       "      <td>1.129530</td>\n",
       "      <td>-1.414497</td>\n",
       "      <td>0.822147</td>\n",
       "      <td>0.694693</td>\n",
       "      <td>1.276307</td>\n",
       "    </tr>\n",
       "    <tr>\n",
       "      <th>1</th>\n",
       "      <td>-0.664537</td>\n",
       "      <td>0.915212</td>\n",
       "      <td>0.822147</td>\n",
       "      <td>-0.133237</td>\n",
       "      <td>-1.077729</td>\n",
       "    </tr>\n",
       "    <tr>\n",
       "      <th>2</th>\n",
       "      <td>-0.211445</td>\n",
       "      <td>0.915212</td>\n",
       "      <td>0.822147</td>\n",
       "      <td>0.694693</td>\n",
       "      <td>0.491629</td>\n",
       "    </tr>\n",
       "    <tr>\n",
       "      <th>3</th>\n",
       "      <td>1.499774</td>\n",
       "      <td>-0.637928</td>\n",
       "      <td>0.822147</td>\n",
       "      <td>-0.961166</td>\n",
       "      <td>-1.862407</td>\n",
       "    </tr>\n",
       "    <tr>\n",
       "      <th>4</th>\n",
       "      <td>0.943549</td>\n",
       "      <td>1.691782</td>\n",
       "      <td>0.822147</td>\n",
       "      <td>-1.789095</td>\n",
       "      <td>-1.862407</td>\n",
       "    </tr>\n",
       "  </tbody>\n",
       "</table>\n",
       "</div>"
      ],
      "text/plain": [
       "        ZIP  SURVEY_RATING  QUALITY_RATING  STAFFING_RATING  \\\n",
       "0  1.129530      -1.414497        0.822147         0.694693   \n",
       "1 -0.664537       0.915212        0.822147        -0.133237   \n",
       "2 -0.211445       0.915212        0.822147         0.694693   \n",
       "3  1.499774      -0.637928        0.822147        -0.961166   \n",
       "4  0.943549       1.691782        0.822147        -1.789095   \n",
       "\n",
       "   RN_STAFFING_RATING  \n",
       "0            1.276307  \n",
       "1           -1.077729  \n",
       "2            0.491629  \n",
       "3           -1.862407  \n",
       "4           -1.862407  "
      ]
     },
     "execution_count": 7,
     "metadata": {},
     "output_type": "execute_result"
    }
   ],
   "source": [
    "from sklearn.preprocessing import StandardScaler\n",
    "\n",
    "scaler = StandardScaler()\n",
    "scaler.fit(X_train)\n",
    "X_train_scaled = pd.DataFrame(scaler.fit_transform(X_train), columns=list(predictors.head(0)))\n",
    "X_test_scaled = pd.DataFrame(scaler.transform(X_test), columns=list(X_test.head(0)))\n",
    "\n",
    "X_test_scaled[[\"ZIP\", \"SURVEY_RATING\", \"QUALITY_RATING\", \"STAFFING_RATING\", \"RN_STAFFING_RATING\"]].head()"
   ]
  },
  {
   "cell_type": "markdown",
   "metadata": {},
   "source": [
    "### Model 1: Logistic Regression\n",
    "\n",
    "Before getting into the modelling, I wanted to understand the class balance. Of interest, I wanted to see how many nursing homes were rated between 1 and 5. The data frame below highlights that a 5-rating is the most common score (which seems like a very positive thing for nursing homes!). In fact, the rating counts are nearly cascading, with the exception of 2 and 3 switching spots. My intuition here is that 5-star ratings should be the highest accuracy given the abundance of cases. "
   ]
  },
  {
   "cell_type": "code",
   "execution_count": 8,
   "metadata": {},
   "outputs": [
    {
     "data": {
      "text/html": [
       "<div>\n",
       "<style scoped>\n",
       "    .dataframe tbody tr th:only-of-type {\n",
       "        vertical-align: middle;\n",
       "    }\n",
       "\n",
       "    .dataframe tbody tr th {\n",
       "        vertical-align: top;\n",
       "    }\n",
       "\n",
       "    .dataframe thead th {\n",
       "        text-align: right;\n",
       "    }\n",
       "</style>\n",
       "<table border=\"1\" class=\"dataframe\">\n",
       "  <thead>\n",
       "    <tr style=\"text-align: right;\">\n",
       "      <th></th>\n",
       "      <th>OVERALL_RATING</th>\n",
       "    </tr>\n",
       "  </thead>\n",
       "  <tbody>\n",
       "    <tr>\n",
       "      <th>5.0</th>\n",
       "      <td>831</td>\n",
       "    </tr>\n",
       "    <tr>\n",
       "      <th>4.0</th>\n",
       "      <td>664</td>\n",
       "    </tr>\n",
       "    <tr>\n",
       "      <th>2.0</th>\n",
       "      <td>574</td>\n",
       "    </tr>\n",
       "    <tr>\n",
       "      <th>3.0</th>\n",
       "      <td>501</td>\n",
       "    </tr>\n",
       "    <tr>\n",
       "      <th>1.0</th>\n",
       "      <td>342</td>\n",
       "    </tr>\n",
       "  </tbody>\n",
       "</table>\n",
       "</div>"
      ],
      "text/plain": [
       "     OVERALL_RATING\n",
       "5.0             831\n",
       "4.0             664\n",
       "2.0             574\n",
       "3.0             501\n",
       "1.0             342"
      ]
     },
     "execution_count": 8,
     "metadata": {},
     "output_type": "execute_result"
    }
   ],
   "source": [
    "pd.DataFrame(y_test[\"OVERALL_RATING\"].value_counts())"
   ]
  },
  {
   "cell_type": "markdown",
   "metadata": {},
   "source": [
    "With the class proportions reviewed, the first model I've developed here is a logistic regression model with all 27 variables. The `score` function, which provides the classification model's mean accuracy, shows .686. For a multi-class prediction on a \"real world\" set with imbalanced levels, this seems like a reasonable starting point. It also highlights that there is likely some classes where the predictions are not very good. The first 10 rows comparing the actual values and predictions show some congruency though with 3-star ratings being the only misses. "
   ]
  },
  {
   "cell_type": "code",
   "execution_count": 9,
   "metadata": {
    "scrolled": true
   },
   "outputs": [
    {
     "name": "stdout",
     "output_type": "stream",
     "text": [
      "Test mean accuracy: 0.686\n",
      "First 10 rows printed below:\n"
     ]
    },
    {
     "data": {
      "text/html": [
       "<div>\n",
       "<style scoped>\n",
       "    .dataframe tbody tr th:only-of-type {\n",
       "        vertical-align: middle;\n",
       "    }\n",
       "\n",
       "    .dataframe tbody tr th {\n",
       "        vertical-align: top;\n",
       "    }\n",
       "\n",
       "    .dataframe thead th {\n",
       "        text-align: right;\n",
       "    }\n",
       "</style>\n",
       "<table border=\"1\" class=\"dataframe\">\n",
       "  <thead>\n",
       "    <tr style=\"text-align: right;\">\n",
       "      <th></th>\n",
       "      <th>OVERALL_RATING</th>\n",
       "      <th>rating_predict</th>\n",
       "    </tr>\n",
       "  </thead>\n",
       "  <tbody>\n",
       "    <tr>\n",
       "      <th>1393</th>\n",
       "      <td>2.0</td>\n",
       "      <td>2.0</td>\n",
       "    </tr>\n",
       "    <tr>\n",
       "      <th>2211</th>\n",
       "      <td>5.0</td>\n",
       "      <td>5.0</td>\n",
       "    </tr>\n",
       "    <tr>\n",
       "      <th>10618</th>\n",
       "      <td>5.0</td>\n",
       "      <td>5.0</td>\n",
       "    </tr>\n",
       "    <tr>\n",
       "      <th>1021</th>\n",
       "      <td>3.0</td>\n",
       "      <td>2.0</td>\n",
       "    </tr>\n",
       "    <tr>\n",
       "      <th>14848</th>\n",
       "      <td>5.0</td>\n",
       "      <td>5.0</td>\n",
       "    </tr>\n",
       "    <tr>\n",
       "      <th>3208</th>\n",
       "      <td>3.0</td>\n",
       "      <td>2.0</td>\n",
       "    </tr>\n",
       "    <tr>\n",
       "      <th>14289</th>\n",
       "      <td>1.0</td>\n",
       "      <td>1.0</td>\n",
       "    </tr>\n",
       "    <tr>\n",
       "      <th>6803</th>\n",
       "      <td>2.0</td>\n",
       "      <td>2.0</td>\n",
       "    </tr>\n",
       "    <tr>\n",
       "      <th>3072</th>\n",
       "      <td>3.0</td>\n",
       "      <td>4.0</td>\n",
       "    </tr>\n",
       "    <tr>\n",
       "      <th>11696</th>\n",
       "      <td>5.0</td>\n",
       "      <td>5.0</td>\n",
       "    </tr>\n",
       "  </tbody>\n",
       "</table>\n",
       "</div>"
      ],
      "text/plain": [
       "       OVERALL_RATING  rating_predict\n",
       "1393              2.0             2.0\n",
       "2211              5.0             5.0\n",
       "10618             5.0             5.0\n",
       "1021              3.0             2.0\n",
       "14848             5.0             5.0\n",
       "3208              3.0             2.0\n",
       "14289             1.0             1.0\n",
       "6803              2.0             2.0\n",
       "3072              3.0             4.0\n",
       "11696             5.0             5.0"
      ]
     },
     "execution_count": 9,
     "metadata": {},
     "output_type": "execute_result"
    }
   ],
   "source": [
    "from sklearn.linear_model import LogisticRegression\n",
    "\n",
    "rating_log = LogisticRegression()\n",
    "\n",
    "rating_log.fit(X_train_scaled, y_train[\"OVERALL_RATING\"].values.ravel())\n",
    "\n",
    "y_test[\"rating_predict\"] = rating_log.predict(X_test_scaled)\n",
    "\n",
    "test_mean_score = rating_log.score(X=X_test_scaled, y=y_test[\"OVERALL_RATING\"]).round(3)\n",
    "\n",
    "print(\"Test mean accuracy:\", test_mean_score)\n",
    "print(\"First 10 rows printed below:\")\n",
    "\n",
    "y_test.head(10)"
   ]
  },
  {
   "cell_type": "markdown",
   "metadata": {},
   "source": [
    "The initial 3-start ratings I pointed out as being misclassified were indicative of accuracy issues with that class. The confusion matrix below (actuals as rows, predictions as columns) shows that only 65 of 501 cases were correctly classified, which stands out as the worst performance here. 5 seems to have the best accuracy while the other classes seem fairly even, with the exception of 3 as noted above."
   ]
  },
  {
   "cell_type": "code",
   "execution_count": 10,
   "metadata": {},
   "outputs": [
    {
     "data": {
      "text/html": [
       "<div>\n",
       "<style scoped>\n",
       "    .dataframe tbody tr th:only-of-type {\n",
       "        vertical-align: middle;\n",
       "    }\n",
       "\n",
       "    .dataframe tbody tr th {\n",
       "        vertical-align: top;\n",
       "    }\n",
       "\n",
       "    .dataframe thead th {\n",
       "        text-align: right;\n",
       "    }\n",
       "</style>\n",
       "<table border=\"1\" class=\"dataframe\">\n",
       "  <thead>\n",
       "    <tr style=\"text-align: right;\">\n",
       "      <th></th>\n",
       "      <th>1</th>\n",
       "      <th>2</th>\n",
       "      <th>3</th>\n",
       "      <th>4</th>\n",
       "      <th>5</th>\n",
       "    </tr>\n",
       "  </thead>\n",
       "  <tbody>\n",
       "    <tr>\n",
       "      <th>1</th>\n",
       "      <td>264</td>\n",
       "      <td>78</td>\n",
       "      <td>0</td>\n",
       "      <td>0</td>\n",
       "      <td>0</td>\n",
       "    </tr>\n",
       "    <tr>\n",
       "      <th>2</th>\n",
       "      <td>68</td>\n",
       "      <td>418</td>\n",
       "      <td>78</td>\n",
       "      <td>10</td>\n",
       "      <td>0</td>\n",
       "    </tr>\n",
       "    <tr>\n",
       "      <th>3</th>\n",
       "      <td>0</td>\n",
       "      <td>202</td>\n",
       "      <td>65</td>\n",
       "      <td>234</td>\n",
       "      <td>0</td>\n",
       "    </tr>\n",
       "    <tr>\n",
       "      <th>4</th>\n",
       "      <td>0</td>\n",
       "      <td>98</td>\n",
       "      <td>2</td>\n",
       "      <td>442</td>\n",
       "      <td>122</td>\n",
       "    </tr>\n",
       "    <tr>\n",
       "      <th>5</th>\n",
       "      <td>0</td>\n",
       "      <td>0</td>\n",
       "      <td>0</td>\n",
       "      <td>21</td>\n",
       "      <td>810</td>\n",
       "    </tr>\n",
       "  </tbody>\n",
       "</table>\n",
       "</div>"
      ],
      "text/plain": [
       "     1    2   3    4    5\n",
       "1  264   78   0    0    0\n",
       "2   68  418  78   10    0\n",
       "3    0  202  65  234    0\n",
       "4    0   98   2  442  122\n",
       "5    0    0   0   21  810"
      ]
     },
     "execution_count": 10,
     "metadata": {},
     "output_type": "execute_result"
    }
   ],
   "source": [
    "from sklearn.metrics import confusion_matrix\n",
    "\n",
    "rating_cm = pd.DataFrame(confusion_matrix(y_true=y_test[\"OVERALL_RATING\"], y_pred=y_test[\"rating_predict\"]), \n",
    "                         index= np.array([1,2,3,4,5]), \n",
    "                         columns= np.array([1,2,3,4,5]))\n",
    "\n",
    "rating_cm"
   ]
  },
  {
   "cell_type": "markdown",
   "metadata": {},
   "source": [
    "Visualizing the confusion matrix re-emphasizes the accuracy metrics. For example, the row for 3 has a mix of dark purple colours highlighting that the predictions here are spread out across several incorrect classes. In contrast, the row for 5 is almost all black with the overwhelming number of predictions being correct. The ideal colour mix here would be black cells throughout, save for the diagonals. This is fairly close in reality, though the 3 class really throws off the model accuracy."
   ]
  },
  {
   "cell_type": "code",
   "execution_count": 35,
   "metadata": {},
   "outputs": [
    {
     "data": {
      "text/plain": [
       "Text(0.5,1,'Confusion Matrix for Nursing Home Rating Predictions: Classifier does well at 5 / 5 predictions')"
      ]
     },
     "execution_count": 35,
     "metadata": {},
     "output_type": "execute_result"
    },
    {
     "data": {
      "image/png": "[encoded data removed]",
      "text/plain": [
       "<matplotlib.figure.Figure at 0x25b806e8c88>"
      ]
     },
     "metadata": {},
     "output_type": "display_data"
    }
   ],
   "source": [
    "import matplotlib.pyplot as plt\n",
    "import seaborn as sns\n",
    "\n",
    "plt.figure(figsize = (12, 7))\n",
    "\n",
    "sns.heatmap(rating_cm, \n",
    "            annot=True).set_title(\"Confusion Matrix for Nursing Home Rating Predictions: Classifier does well at 5 / 5 predictions\")"
   ]
  },
  {
   "cell_type": "markdown",
   "metadata": {},
   "source": [
    "#### Based on the confusion matrix and classification report, do any of the classes get predicted exceptionally poorly?\n",
    "\n",
    "Before interpreting the report, it's important to go over the definition for each metric:\n",
    "\n",
    "$Precision = \\frac{\\text{True Positives}}{\\text{True Positives + False Positives}}$\n",
    "\n",
    "$Recall = \\frac{\\text{True Positives}}{\\text{True Positives + False Negatives}}$\n",
    "\n",
    "$F1 = 2 * \\frac{\\text{Precision * Recall}}{\\text{Precision + Recall}}$\n",
    "\n",
    "The classification report bolsters the cases that the predictions for 3-star ratings are the poorest amongst all classes. It has the lowest precision, recall, and F1-score. Given this class has the worst accuracy metrics, I think these are exceptionally poor predictions.\n",
    "\n",
    "My guess here would be because it's the most ill-defined, middling class, the variables defining it are much less clear than an extreme rating, like 5. I think this intuition is strengthened by the fact that most of the misclassified cases here are split between 2 and 4, which are more extreme. This highlights that the classification differences between a 2 or 4 rating and three is possibly marginal. While this isn't definitive, I think this seems plausible given the report and confusion matrix."
   ]
  },
  {
   "cell_type": "code",
   "execution_count": 12,
   "metadata": {},
   "outputs": [
    {
     "name": "stdout",
     "output_type": "stream",
     "text": [
      "             precision    recall  f1-score   support\n",
      "\n",
      "        1.0       0.80      0.77      0.78       342\n",
      "        2.0       0.53      0.73      0.61       574\n",
      "        3.0       0.45      0.13      0.20       501\n",
      "        4.0       0.63      0.67      0.64       664\n",
      "        5.0       0.87      0.97      0.92       831\n",
      "\n",
      "avg / total       0.66      0.69      0.66      2912\n",
      "\n",
      "Manual F-1 for class 1: 0.78 which matches the report score\n"
     ]
    }
   ],
   "source": [
    "from sklearn.metrics import classification_report\n",
    "\n",
    "print(classification_report(y_test[\"OVERALL_RATING\"], y_test[\"rating_predict\"]))\n",
    "\n",
    "class_1_F1 = 2 * ((.8 * .77) / (.8 + .77))\n",
    "\n",
    "print(\"Manual F-1 for class 1:\", str(round(class_1_F1, 2)), \"which matches the report score\")"
   ]
  },
  {
   "cell_type": "markdown",
   "metadata": {},
   "source": [
    "#### Calculate predictions for the training data & build the confusion matrix and classification report. Are there signs of overfitting? Why or why not?\n",
    "\n",
    "To gather the training set classifications, I've used predict on the original fit using the scaled training set. As with before, I've included the mean accuracy here alongside the test value. There's about an 1.3% drop off in mean accuracy from train to test indicating some overfitting."
   ]
  },
  {
   "cell_type": "code",
   "execution_count": 13,
   "metadata": {
    "scrolled": true
   },
   "outputs": [
    {
     "name": "stdout",
     "output_type": "stream",
     "text": [
      "Training mean accuracy: 0.699\n",
      "Test mean accuracy: 0.686\n",
      "First 10 rows printed below:\n"
     ]
    },
    {
     "data": {
      "text/html": [
       "<div>\n",
       "<style scoped>\n",
       "    .dataframe tbody tr th:only-of-type {\n",
       "        vertical-align: middle;\n",
       "    }\n",
       "\n",
       "    .dataframe tbody tr th {\n",
       "        vertical-align: top;\n",
       "    }\n",
       "\n",
       "    .dataframe thead th {\n",
       "        text-align: right;\n",
       "    }\n",
       "</style>\n",
       "<table border=\"1\" class=\"dataframe\">\n",
       "  <thead>\n",
       "    <tr style=\"text-align: right;\">\n",
       "      <th></th>\n",
       "      <th>OVERALL_RATING</th>\n",
       "      <th>rating_fitted</th>\n",
       "    </tr>\n",
       "  </thead>\n",
       "  <tbody>\n",
       "    <tr>\n",
       "      <th>8958</th>\n",
       "      <td>1.0</td>\n",
       "      <td>1.0</td>\n",
       "    </tr>\n",
       "    <tr>\n",
       "      <th>7779</th>\n",
       "      <td>4.0</td>\n",
       "      <td>4.0</td>\n",
       "    </tr>\n",
       "    <tr>\n",
       "      <th>8403</th>\n",
       "      <td>5.0</td>\n",
       "      <td>5.0</td>\n",
       "    </tr>\n",
       "    <tr>\n",
       "      <th>6120</th>\n",
       "      <td>4.0</td>\n",
       "      <td>4.0</td>\n",
       "    </tr>\n",
       "    <tr>\n",
       "      <th>7981</th>\n",
       "      <td>2.0</td>\n",
       "      <td>1.0</td>\n",
       "    </tr>\n",
       "    <tr>\n",
       "      <th>11756</th>\n",
       "      <td>1.0</td>\n",
       "      <td>1.0</td>\n",
       "    </tr>\n",
       "    <tr>\n",
       "      <th>12327</th>\n",
       "      <td>2.0</td>\n",
       "      <td>2.0</td>\n",
       "    </tr>\n",
       "    <tr>\n",
       "      <th>10991</th>\n",
       "      <td>2.0</td>\n",
       "      <td>3.0</td>\n",
       "    </tr>\n",
       "    <tr>\n",
       "      <th>6275</th>\n",
       "      <td>3.0</td>\n",
       "      <td>4.0</td>\n",
       "    </tr>\n",
       "    <tr>\n",
       "      <th>4682</th>\n",
       "      <td>1.0</td>\n",
       "      <td>2.0</td>\n",
       "    </tr>\n",
       "  </tbody>\n",
       "</table>\n",
       "</div>"
      ],
      "text/plain": [
       "       OVERALL_RATING  rating_fitted\n",
       "8958              1.0            1.0\n",
       "7779              4.0            4.0\n",
       "8403              5.0            5.0\n",
       "6120              4.0            4.0\n",
       "7981              2.0            1.0\n",
       "11756             1.0            1.0\n",
       "12327             2.0            2.0\n",
       "10991             2.0            3.0\n",
       "6275              3.0            4.0\n",
       "4682              1.0            2.0"
      ]
     },
     "execution_count": 13,
     "metadata": {},
     "output_type": "execute_result"
    }
   ],
   "source": [
    "y_train[\"rating_fitted\"] = rating_log.predict(X_train_scaled)\n",
    "\n",
    "train_mean_score = rating_log.score(X=X_train_scaled, y=y_train[\"OVERALL_RATING\"]).round(3)\n",
    "\n",
    "print(\"Training mean accuracy:\", train_mean_score)\n",
    "print(\"Test mean accuracy:\", test_mean_score)\n",
    "\n",
    "print(\"First 10 rows printed below:\")\n",
    "\n",
    "y_train.head(10)"
   ]
  },
  {
   "cell_type": "markdown",
   "metadata": {},
   "source": [
    "The training matrix again highlights that there might be some overfitting. For example, the classifications for 1 appear much stronger."
   ]
  },
  {
   "cell_type": "code",
   "execution_count": 14,
   "metadata": {
    "scrolled": true
   },
   "outputs": [
    {
     "data": {
      "text/html": [
       "<div>\n",
       "<style scoped>\n",
       "    .dataframe tbody tr th:only-of-type {\n",
       "        vertical-align: middle;\n",
       "    }\n",
       "\n",
       "    .dataframe tbody tr th {\n",
       "        vertical-align: top;\n",
       "    }\n",
       "\n",
       "    .dataframe thead th {\n",
       "        text-align: right;\n",
       "    }\n",
       "</style>\n",
       "<table border=\"1\" class=\"dataframe\">\n",
       "  <thead>\n",
       "    <tr style=\"text-align: right;\">\n",
       "      <th></th>\n",
       "      <th>1</th>\n",
       "      <th>2</th>\n",
       "      <th>3</th>\n",
       "      <th>4</th>\n",
       "      <th>5</th>\n",
       "    </tr>\n",
       "  </thead>\n",
       "  <tbody>\n",
       "    <tr>\n",
       "      <th>1</th>\n",
       "      <td>1063</td>\n",
       "      <td>292</td>\n",
       "      <td>2</td>\n",
       "      <td>0</td>\n",
       "      <td>0</td>\n",
       "    </tr>\n",
       "    <tr>\n",
       "      <th>2</th>\n",
       "      <td>241</td>\n",
       "      <td>1718</td>\n",
       "      <td>312</td>\n",
       "      <td>53</td>\n",
       "      <td>0</td>\n",
       "    </tr>\n",
       "    <tr>\n",
       "      <th>3</th>\n",
       "      <td>1</td>\n",
       "      <td>755</td>\n",
       "      <td>224</td>\n",
       "      <td>912</td>\n",
       "      <td>0</td>\n",
       "    </tr>\n",
       "    <tr>\n",
       "      <th>4</th>\n",
       "      <td>0</td>\n",
       "      <td>411</td>\n",
       "      <td>14</td>\n",
       "      <td>1805</td>\n",
       "      <td>424</td>\n",
       "    </tr>\n",
       "    <tr>\n",
       "      <th>5</th>\n",
       "      <td>0</td>\n",
       "      <td>0</td>\n",
       "      <td>0</td>\n",
       "      <td>84</td>\n",
       "      <td>3334</td>\n",
       "    </tr>\n",
       "  </tbody>\n",
       "</table>\n",
       "</div>"
      ],
      "text/plain": [
       "      1     2    3     4     5\n",
       "1  1063   292    2     0     0\n",
       "2   241  1718  312    53     0\n",
       "3     1   755  224   912     0\n",
       "4     0   411   14  1805   424\n",
       "5     0     0    0    84  3334"
      ]
     },
     "execution_count": 14,
     "metadata": {},
     "output_type": "execute_result"
    }
   ],
   "source": [
    "train_rating_cm = pd.DataFrame(confusion_matrix(y_true=y_train[\"OVERALL_RATING\"], y_pred=y_train[\"rating_fitted\"]), \n",
    "                               index= np.array([1,2,3,4,5]), \n",
    "                               columns= np.array([1,2,3,4,5]))\n",
    "\n",
    "train_rating_cm"
   ]
  },
  {
   "cell_type": "markdown",
   "metadata": {},
   "source": [
    "Finally, the classification report shows a drop between the accuracy metrics from train to test, which is a sign of overfitting. However, each average per metrics only drops by .1, so it isn't a huge issue."
   ]
  },
  {
   "cell_type": "code",
   "execution_count": 15,
   "metadata": {},
   "outputs": [
    {
     "name": "stdout",
     "output_type": "stream",
     "text": [
      "             precision    recall  f1-score   support\n",
      "\n",
      "        1.0       0.81      0.78      0.80      1357\n",
      "        2.0       0.54      0.74      0.62      2324\n",
      "        3.0       0.41      0.12      0.18      1892\n",
      "        4.0       0.63      0.68      0.66      2654\n",
      "        5.0       0.89      0.98      0.93      3418\n",
      "\n",
      "avg / total       0.67      0.70      0.67     11645\n",
      "\n"
     ]
    }
   ],
   "source": [
    "print(classification_report(y_train[\"OVERALL_RATING\"], y_train[\"rating_fitted\"]))"
   ]
  },
  {
   "cell_type": "markdown",
   "metadata": {},
   "source": [
    "#### Print out an example of the predicted probability\n",
    "\n",
    "Below, instead of the actual class predictions, I've included the probabilities for belonging to certain classes. For example, there's about 70% chance of the nursing home in row 1 (index 0) having a 2-star rating. In this way, the confidence of each classification can be gauged."
   ]
  },
  {
   "cell_type": "code",
   "execution_count": 16,
   "metadata": {},
   "outputs": [
    {
     "data": {
      "text/html": [
       "<div>\n",
       "<style scoped>\n",
       "    .dataframe tbody tr th:only-of-type {\n",
       "        vertical-align: middle;\n",
       "    }\n",
       "\n",
       "    .dataframe tbody tr th {\n",
       "        vertical-align: top;\n",
       "    }\n",
       "\n",
       "    .dataframe thead th {\n",
       "        text-align: right;\n",
       "    }\n",
       "</style>\n",
       "<table border=\"1\" class=\"dataframe\">\n",
       "  <thead>\n",
       "    <tr style=\"text-align: right;\">\n",
       "      <th></th>\n",
       "      <th>1</th>\n",
       "      <th>2</th>\n",
       "      <th>3</th>\n",
       "      <th>4</th>\n",
       "      <th>5</th>\n",
       "    </tr>\n",
       "  </thead>\n",
       "  <tbody>\n",
       "    <tr>\n",
       "      <th>0</th>\n",
       "      <td>7.144949e-03</td>\n",
       "      <td>0.694841</td>\n",
       "      <td>0.166608</td>\n",
       "      <td>0.131308</td>\n",
       "      <td>0.000099</td>\n",
       "    </tr>\n",
       "    <tr>\n",
       "      <th>1</th>\n",
       "      <td>3.988809e-07</td>\n",
       "      <td>0.016271</td>\n",
       "      <td>0.082154</td>\n",
       "      <td>0.202108</td>\n",
       "      <td>0.699466</td>\n",
       "    </tr>\n",
       "    <tr>\n",
       "      <th>2</th>\n",
       "      <td>5.007430e-08</td>\n",
       "      <td>0.011217</td>\n",
       "      <td>0.084588</td>\n",
       "      <td>0.242368</td>\n",
       "      <td>0.661827</td>\n",
       "    </tr>\n",
       "    <tr>\n",
       "      <th>3</th>\n",
       "      <td>9.525500e-03</td>\n",
       "      <td>0.473684</td>\n",
       "      <td>0.281362</td>\n",
       "      <td>0.235376</td>\n",
       "      <td>0.000053</td>\n",
       "    </tr>\n",
       "    <tr>\n",
       "      <th>4</th>\n",
       "      <td>3.907084e-07</td>\n",
       "      <td>0.004835</td>\n",
       "      <td>0.088969</td>\n",
       "      <td>0.192382</td>\n",
       "      <td>0.713813</td>\n",
       "    </tr>\n",
       "  </tbody>\n",
       "</table>\n",
       "</div>"
      ],
      "text/plain": [
       "              1         2         3         4         5\n",
       "0  7.144949e-03  0.694841  0.166608  0.131308  0.000099\n",
       "1  3.988809e-07  0.016271  0.082154  0.202108  0.699466\n",
       "2  5.007430e-08  0.011217  0.084588  0.242368  0.661827\n",
       "3  9.525500e-03  0.473684  0.281362  0.235376  0.000053\n",
       "4  3.907084e-07  0.004835  0.088969  0.192382  0.713813"
      ]
     },
     "execution_count": 16,
     "metadata": {},
     "output_type": "execute_result"
    }
   ],
   "source": [
    "pd.DataFrame(rating_log.predict_proba(X_test_scaled), columns=np.array([1,2,3,4,5])).head()"
   ]
  },
  {
   "cell_type": "markdown",
   "metadata": {},
   "source": [
    "### Model 2: PCA (n_components = 2) + Logistic Regression\n",
    "\n",
    "As with last week, this section calls for model building and evaluation with small variants between iterations. With this in mind, I've developed a function to streamline the process and reduce code. `pca_logistic` only takes one argument, which specifies how many components that pca logistic model should use. It then returns the necessary evaluation metrics for both train and test so the model can be reviewed. With the function created, I've developed the first model by specifying it should include 2 principle components."
   ]
  },
  {
   "cell_type": "code",
   "execution_count": 18,
   "metadata": {},
   "outputs": [],
   "source": [
    "from sklearn.decomposition import PCA\n",
    "\n",
    "def pca_logistic(n_components):\n",
    "    #pca steps\n",
    "    pca = PCA(n_components=n_components)\n",
    "    pca.fit(X_train_scaled)\n",
    "    exp_var = pd.DataFrame({\"variance_exp_ratio\": pca.explained_variance_ratio_}).round(3)\n",
    "    X_train_pca = pd.DataFrame(pca.fit_transform(X_train_scaled)) \n",
    "    X_test_pca = pd.DataFrame(pca.transform(X_test_scaled))\n",
    "    \n",
    "    #pca logistic regression model\n",
    "    rating_log.fit(X_train_pca, y_train[\"OVERALL_RATING\"].values.ravel())\n",
    "    \n",
    "    pca_test_preds = rating_log.predict(X_test_pca)\n",
    "    test_mean_score = rating_log.score(X=X_test_pca, y=y_test[\"OVERALL_RATING\"]).round(3)\n",
    "    \n",
    "    pca_train_preds = rating_log.predict(X_train_pca)\n",
    "    train_mean_score = rating_log.score(X=X_train_pca, y=y_train[\"OVERALL_RATING\"]).round(3)\n",
    "    \n",
    "    #pca confusion matrices\n",
    "    test_pca_cm = pd.DataFrame(confusion_matrix(y_true=y_test[\"OVERALL_RATING\"], y_pred=pca_test_preds), \n",
    "                          index= np.array([1,2,3,4,5]), \n",
    "                          columns= np.array([1,2,3,4,5]))\n",
    "    \n",
    "    train_pca_cm = pd.DataFrame(confusion_matrix(y_true=y_train[\"OVERALL_RATING\"], y_pred=pca_train_preds), \n",
    "                          index= np.array([1,2,3,4,5]), \n",
    "                          columns= np.array([1,2,3,4,5]))\n",
    "    \n",
    "    \n",
    "    #pca classification reports\n",
    "    test_pca_class_report = classification_report(y_test[\"OVERALL_RATING\"], pca_test_preds)\n",
    "    train_pca_class_report = classification_report(y_train[\"OVERALL_RATING\"], pca_train_preds)\n",
    "    \n",
    "    output = {\"variance_explained\": exp_var,\n",
    "              \"test_mean\": test_mean_score,\n",
    "              \"train_mean\": train_mean_score,\n",
    "              \"test_cm\": test_pca_cm,\n",
    "              \"train_cm\": train_pca_cm,\n",
    "              \"test_report\": test_pca_class_report,\n",
    "              \"train_report\": train_pca_class_report,\n",
    "              }\n",
    "    \n",
    "    \n",
    "    return(output)\n",
    "\n",
    "pca_logistic_n2 = pca_logistic(n_components=2)"
   ]
  },
  {
   "cell_type": "markdown",
   "metadata": {},
   "source": [
    "The first metric I'm looking at here is the mean accuracy score for train and test. These show a precipitous decline from the initial full model. The train and test split is pretty much even so there isn't really overfitting here, though this will be checked further going forward."
   ]
  },
  {
   "cell_type": "code",
   "execution_count": 19,
   "metadata": {
    "scrolled": true
   },
   "outputs": [
    {
     "name": "stdout",
     "output_type": "stream",
     "text": [
      "PCA (n = 2) logistic model  train mean: 0.383\n",
      "PCA (n = 2) logistic model test mean: 0.381\n"
     ]
    }
   ],
   "source": [
    "print(\"PCA (n = 2) logistic model  train mean:\", pca_logistic_n2[\"train_mean\"])\n",
    "print(\"PCA (n = 2) logistic model test mean:\", pca_logistic_n2[\"test_mean\"])"
   ]
  },
  {
   "cell_type": "markdown",
   "metadata": {},
   "source": [
    "The confusion matrices below show the same poor fit. One of the biggest accuracy drops is seen in class 5, which was the strongest in the initial model. Perhaps more shocking though is not a single correct class 3 prediction in test."
   ]
  },
  {
   "cell_type": "code",
   "execution_count": 20,
   "metadata": {},
   "outputs": [
    {
     "data": {
      "text/html": [
       "<div>\n",
       "<style scoped>\n",
       "    .dataframe tbody tr th:only-of-type {\n",
       "        vertical-align: middle;\n",
       "    }\n",
       "\n",
       "    .dataframe tbody tr th {\n",
       "        vertical-align: top;\n",
       "    }\n",
       "\n",
       "    .dataframe thead th {\n",
       "        text-align: right;\n",
       "    }\n",
       "</style>\n",
       "<table border=\"1\" class=\"dataframe\">\n",
       "  <thead>\n",
       "    <tr style=\"text-align: right;\">\n",
       "      <th></th>\n",
       "      <th>1</th>\n",
       "      <th>2</th>\n",
       "      <th>3</th>\n",
       "      <th>4</th>\n",
       "      <th>5</th>\n",
       "    </tr>\n",
       "  </thead>\n",
       "  <tbody>\n",
       "    <tr>\n",
       "      <th>1</th>\n",
       "      <td>539</td>\n",
       "      <td>637</td>\n",
       "      <td>6</td>\n",
       "      <td>31</td>\n",
       "      <td>144</td>\n",
       "    </tr>\n",
       "    <tr>\n",
       "      <th>2</th>\n",
       "      <td>397</td>\n",
       "      <td>961</td>\n",
       "      <td>5</td>\n",
       "      <td>82</td>\n",
       "      <td>879</td>\n",
       "    </tr>\n",
       "    <tr>\n",
       "      <th>3</th>\n",
       "      <td>159</td>\n",
       "      <td>743</td>\n",
       "      <td>3</td>\n",
       "      <td>91</td>\n",
       "      <td>896</td>\n",
       "    </tr>\n",
       "    <tr>\n",
       "      <th>4</th>\n",
       "      <td>95</td>\n",
       "      <td>617</td>\n",
       "      <td>0</td>\n",
       "      <td>97</td>\n",
       "      <td>1845</td>\n",
       "    </tr>\n",
       "    <tr>\n",
       "      <th>5</th>\n",
       "      <td>37</td>\n",
       "      <td>435</td>\n",
       "      <td>4</td>\n",
       "      <td>87</td>\n",
       "      <td>2855</td>\n",
       "    </tr>\n",
       "  </tbody>\n",
       "</table>\n",
       "</div>"
      ],
      "text/plain": [
       "     1    2  3   4     5\n",
       "1  539  637  6  31   144\n",
       "2  397  961  5  82   879\n",
       "3  159  743  3  91   896\n",
       "4   95  617  0  97  1845\n",
       "5   37  435  4  87  2855"
      ]
     },
     "execution_count": 20,
     "metadata": {},
     "output_type": "execute_result"
    }
   ],
   "source": [
    "pca_logistic_n2[\"train_cm\"]"
   ]
  },
  {
   "cell_type": "code",
   "execution_count": 21,
   "metadata": {
    "scrolled": false
   },
   "outputs": [
    {
     "data": {
      "text/html": [
       "<div>\n",
       "<style scoped>\n",
       "    .dataframe tbody tr th:only-of-type {\n",
       "        vertical-align: middle;\n",
       "    }\n",
       "\n",
       "    .dataframe tbody tr th {\n",
       "        vertical-align: top;\n",
       "    }\n",
       "\n",
       "    .dataframe thead th {\n",
       "        text-align: right;\n",
       "    }\n",
       "</style>\n",
       "<table border=\"1\" class=\"dataframe\">\n",
       "  <thead>\n",
       "    <tr style=\"text-align: right;\">\n",
       "      <th></th>\n",
       "      <th>1</th>\n",
       "      <th>2</th>\n",
       "      <th>3</th>\n",
       "      <th>4</th>\n",
       "      <th>5</th>\n",
       "    </tr>\n",
       "  </thead>\n",
       "  <tbody>\n",
       "    <tr>\n",
       "      <th>1</th>\n",
       "      <td>120</td>\n",
       "      <td>178</td>\n",
       "      <td>1</td>\n",
       "      <td>10</td>\n",
       "      <td>33</td>\n",
       "    </tr>\n",
       "    <tr>\n",
       "      <th>2</th>\n",
       "      <td>96</td>\n",
       "      <td>263</td>\n",
       "      <td>0</td>\n",
       "      <td>19</td>\n",
       "      <td>196</td>\n",
       "    </tr>\n",
       "    <tr>\n",
       "      <th>3</th>\n",
       "      <td>37</td>\n",
       "      <td>193</td>\n",
       "      <td>0</td>\n",
       "      <td>18</td>\n",
       "      <td>253</td>\n",
       "    </tr>\n",
       "    <tr>\n",
       "      <th>4</th>\n",
       "      <td>24</td>\n",
       "      <td>131</td>\n",
       "      <td>1</td>\n",
       "      <td>21</td>\n",
       "      <td>487</td>\n",
       "    </tr>\n",
       "    <tr>\n",
       "      <th>5</th>\n",
       "      <td>7</td>\n",
       "      <td>97</td>\n",
       "      <td>0</td>\n",
       "      <td>21</td>\n",
       "      <td>706</td>\n",
       "    </tr>\n",
       "  </tbody>\n",
       "</table>\n",
       "</div>"
      ],
      "text/plain": [
       "     1    2  3   4    5\n",
       "1  120  178  1  10   33\n",
       "2   96  263  0  19  196\n",
       "3   37  193  0  18  253\n",
       "4   24  131  1  21  487\n",
       "5    7   97  0  21  706"
      ]
     },
     "execution_count": 21,
     "metadata": {},
     "output_type": "execute_result"
    }
   ],
   "source": [
    "pca_logistic_n2[\"test_cm\"]"
   ]
  },
  {
   "cell_type": "markdown",
   "metadata": {},
   "source": [
    "Both reports continue to highlight the model's poor prediction performance. Overall though, there doesn't seem to be much overfitting despite some small variance between train and test accuracy metrics."
   ]
  },
  {
   "cell_type": "code",
   "execution_count": 22,
   "metadata": {},
   "outputs": [
    {
     "name": "stdout",
     "output_type": "stream",
     "text": [
      "             precision    recall  f1-score   support\n",
      "\n",
      "        1.0       0.44      0.40      0.42      1357\n",
      "        2.0       0.28      0.41      0.34      2324\n",
      "        3.0       0.17      0.00      0.00      1892\n",
      "        4.0       0.25      0.04      0.06      2654\n",
      "        5.0       0.43      0.84      0.57      3418\n",
      "\n",
      "avg / total       0.32      0.38      0.30     11645\n",
      "\n"
     ]
    }
   ],
   "source": [
    "print(pca_logistic_n2[\"train_report\"])"
   ]
  },
  {
   "cell_type": "code",
   "execution_count": 23,
   "metadata": {},
   "outputs": [
    {
     "name": "stdout",
     "output_type": "stream",
     "text": [
      "             precision    recall  f1-score   support\n",
      "\n",
      "        1.0       0.42      0.35      0.38       342\n",
      "        2.0       0.31      0.46      0.37       574\n",
      "        3.0       0.00      0.00      0.00       501\n",
      "        4.0       0.24      0.03      0.06       664\n",
      "        5.0       0.42      0.85      0.56       831\n",
      "\n",
      "avg / total       0.28      0.38      0.29      2912\n",
      "\n"
     ]
    }
   ],
   "source": [
    "print(pca_logistic_n2[\"test_report\"])"
   ]
  },
  {
   "cell_type": "markdown",
   "metadata": {},
   "source": [
    "#### How well does this model perform relative to Model 1? Explain why there is a shift in performance.\n",
    "\n",
    "This model performs significantly worse than the full variable logistic regression. The performance shift is linked to reducing the 27 variables into two principle components, which inherently reduces the amount of information captured by the new set. As seen below, these new variables only capture a fraction of the variance the full set does. "
   ]
  },
  {
   "cell_type": "code",
   "execution_count": 24,
   "metadata": {},
   "outputs": [
    {
     "name": "stdout",
     "output_type": "stream",
     "text": [
      "Percent variance captured by two principle components: 0.383\n"
     ]
    }
   ],
   "source": [
    "two_pca_var = pca_logistic_n2[\"variance_explained\"]\n",
    "two_pca_var = two_pca_var[\"variance_exp_ratio\"].sum().round(4)\n",
    "\n",
    "print(\"Percent variance captured by two principle components:\", two_pca_var)"
   ]
  },
  {
   "cell_type": "markdown",
   "metadata": {},
   "source": [
    "Using these variance explanations is how the number of components is loosely picked. The visualization below highlights this as every principle component's variance explanation is plotted. Using this scree plot, the sweet spot is finding the component where the variance explanation begins to even out. In this case, it's around 16 but, could probably go as high as 19.  "
   ]
  },
  {
   "cell_type": "code",
   "execution_count": 26,
   "metadata": {
    "scrolled": true
   },
   "outputs": [
    {
     "data": {
      "text/plain": [
       "Text(0.5,1,'PCA Screeplot for Nursing Home Data \\n Variance explanation evens out around 16 components')"
      ]
     },
     "execution_count": 26,
     "metadata": {},
     "output_type": "execute_result"
    },
    {
     "data": {
      "image/png": "[encoded data removed]",
      "text/plain": [
       "<matplotlib.figure.Figure at 0x25bdb358dd8>"
      ]
     },
     "metadata": {},
     "output_type": "display_data"
    }
   ],
   "source": [
    "pca_logistic_n27 = pca_logistic(n_components=27)\n",
    "\n",
    "%matplotlib inline\n",
    "plt.figure(figsize = (12, 7))\n",
    "plt.plot(pca_logistic_n27[\"variance_explained\"])\n",
    "plt.title(\"PCA Screeplot for Nursing Home Data \\n Variance explanation evens out around 16 components\")"
   ]
  },
  {
   "cell_type": "markdown",
   "metadata": {},
   "source": [
    "### Model 3: PCA (n_components = 16) + Logistic Regression\n",
    "\n",
    "Using the scree plot, it appears 16 principle components is a reasonable number to construct a model with. It also happens to be the next modelling choice as per the assignment. I've followed the same process a the two component model below. "
   ]
  },
  {
   "cell_type": "code",
   "execution_count": 40,
   "metadata": {},
   "outputs": [],
   "source": [
    "pca_logistic_n16 = pca_logistic(n_components=16)"
   ]
  },
  {
   "cell_type": "markdown",
   "metadata": {},
   "source": [
    "The first metric I'm looking at here again is the mean accuracy score for train and test. These are almost in line with the original metrics, save for small differences. As with before, there might be minor overfitting but, they look quite close."
   ]
  },
  {
   "cell_type": "code",
   "execution_count": 41,
   "metadata": {
    "scrolled": true
   },
   "outputs": [
    {
     "name": "stdout",
     "output_type": "stream",
     "text": [
      "PCA (n = 16) logistic model  train mean: 0.696\n",
      "Training mean accuracy with 27 variables: 0.699\n",
      "PCA (n = 16) logistic model test mean: 0.677\n",
      "Test mean accuracy with 27 variables: 0.686\n"
     ]
    }
   ],
   "source": [
    "print(\"PCA (n = 16) logistic model  train mean:\", pca_logistic_n16[\"train_mean\"])\n",
    "print(\"Training mean accuracy with 27 variables:\", train_mean_score)\n",
    "print(\"PCA (n = 16) logistic model test mean:\", pca_logistic_n16[\"test_mean\"])\n",
    "print(\"Test mean accuracy with 27 variables:\", test_mean_score)"
   ]
  },
  {
   "cell_type": "markdown",
   "metadata": {},
   "source": [
    "The confusion matrices below show a similar fit to the original model as well."
   ]
  },
  {
   "cell_type": "code",
   "execution_count": 42,
   "metadata": {},
   "outputs": [
    {
     "data": {
      "text/html": [
       "<div>\n",
       "<style scoped>\n",
       "    .dataframe tbody tr th:only-of-type {\n",
       "        vertical-align: middle;\n",
       "    }\n",
       "\n",
       "    .dataframe tbody tr th {\n",
       "        vertical-align: top;\n",
       "    }\n",
       "\n",
       "    .dataframe thead th {\n",
       "        text-align: right;\n",
       "    }\n",
       "</style>\n",
       "<table border=\"1\" class=\"dataframe\">\n",
       "  <thead>\n",
       "    <tr style=\"text-align: right;\">\n",
       "      <th></th>\n",
       "      <th>1</th>\n",
       "      <th>2</th>\n",
       "      <th>3</th>\n",
       "      <th>4</th>\n",
       "      <th>5</th>\n",
       "    </tr>\n",
       "  </thead>\n",
       "  <tbody>\n",
       "    <tr>\n",
       "      <th>1</th>\n",
       "      <td>1061</td>\n",
       "      <td>295</td>\n",
       "      <td>1</td>\n",
       "      <td>0</td>\n",
       "      <td>0</td>\n",
       "    </tr>\n",
       "    <tr>\n",
       "      <th>2</th>\n",
       "      <td>247</td>\n",
       "      <td>1715</td>\n",
       "      <td>298</td>\n",
       "      <td>64</td>\n",
       "      <td>0</td>\n",
       "    </tr>\n",
       "    <tr>\n",
       "      <th>3</th>\n",
       "      <td>1</td>\n",
       "      <td>757</td>\n",
       "      <td>219</td>\n",
       "      <td>915</td>\n",
       "      <td>0</td>\n",
       "    </tr>\n",
       "    <tr>\n",
       "      <th>4</th>\n",
       "      <td>0</td>\n",
       "      <td>406</td>\n",
       "      <td>7</td>\n",
       "      <td>1776</td>\n",
       "      <td>465</td>\n",
       "    </tr>\n",
       "    <tr>\n",
       "      <th>5</th>\n",
       "      <td>0</td>\n",
       "      <td>0</td>\n",
       "      <td>0</td>\n",
       "      <td>82</td>\n",
       "      <td>3336</td>\n",
       "    </tr>\n",
       "  </tbody>\n",
       "</table>\n",
       "</div>"
      ],
      "text/plain": [
       "      1     2    3     4     5\n",
       "1  1061   295    1     0     0\n",
       "2   247  1715  298    64     0\n",
       "3     1   757  219   915     0\n",
       "4     0   406    7  1776   465\n",
       "5     0     0    0    82  3336"
      ]
     },
     "execution_count": 42,
     "metadata": {},
     "output_type": "execute_result"
    }
   ],
   "source": [
    "pca_logistic_n16[\"train_cm\"]"
   ]
  },
  {
   "cell_type": "code",
   "execution_count": 43,
   "metadata": {
    "scrolled": false
   },
   "outputs": [
    {
     "data": {
      "text/html": [
       "<div>\n",
       "<style scoped>\n",
       "    .dataframe tbody tr th:only-of-type {\n",
       "        vertical-align: middle;\n",
       "    }\n",
       "\n",
       "    .dataframe tbody tr th {\n",
       "        vertical-align: top;\n",
       "    }\n",
       "\n",
       "    .dataframe thead th {\n",
       "        text-align: right;\n",
       "    }\n",
       "</style>\n",
       "<table border=\"1\" class=\"dataframe\">\n",
       "  <thead>\n",
       "    <tr style=\"text-align: right;\">\n",
       "      <th></th>\n",
       "      <th>1</th>\n",
       "      <th>2</th>\n",
       "      <th>3</th>\n",
       "      <th>4</th>\n",
       "      <th>5</th>\n",
       "    </tr>\n",
       "  </thead>\n",
       "  <tbody>\n",
       "    <tr>\n",
       "      <th>1</th>\n",
       "      <td>262</td>\n",
       "      <td>80</td>\n",
       "      <td>0</td>\n",
       "      <td>0</td>\n",
       "      <td>0</td>\n",
       "    </tr>\n",
       "    <tr>\n",
       "      <th>2</th>\n",
       "      <td>81</td>\n",
       "      <td>410</td>\n",
       "      <td>72</td>\n",
       "      <td>11</td>\n",
       "      <td>0</td>\n",
       "    </tr>\n",
       "    <tr>\n",
       "      <th>3</th>\n",
       "      <td>0</td>\n",
       "      <td>204</td>\n",
       "      <td>63</td>\n",
       "      <td>234</td>\n",
       "      <td>0</td>\n",
       "    </tr>\n",
       "    <tr>\n",
       "      <th>4</th>\n",
       "      <td>0</td>\n",
       "      <td>102</td>\n",
       "      <td>2</td>\n",
       "      <td>423</td>\n",
       "      <td>137</td>\n",
       "    </tr>\n",
       "    <tr>\n",
       "      <th>5</th>\n",
       "      <td>0</td>\n",
       "      <td>0</td>\n",
       "      <td>0</td>\n",
       "      <td>18</td>\n",
       "      <td>813</td>\n",
       "    </tr>\n",
       "  </tbody>\n",
       "</table>\n",
       "</div>"
      ],
      "text/plain": [
       "     1    2   3    4    5\n",
       "1  262   80   0    0    0\n",
       "2   81  410  72   11    0\n",
       "3    0  204  63  234    0\n",
       "4    0  102   2  423  137\n",
       "5    0    0   0   18  813"
      ]
     },
     "execution_count": 43,
     "metadata": {},
     "output_type": "execute_result"
    }
   ],
   "source": [
    "pca_logistic_n16[\"test_cm\"]"
   ]
  },
  {
   "cell_type": "markdown",
   "metadata": {},
   "source": [
    "Both reports also align with the original model. In addition, the evaluation metrics don't drop too much between train and test so while there might be minor overfitting, it's relatively small."
   ]
  },
  {
   "cell_type": "code",
   "execution_count": 44,
   "metadata": {},
   "outputs": [
    {
     "name": "stdout",
     "output_type": "stream",
     "text": [
      "             precision    recall  f1-score   support\n",
      "\n",
      "        1.0       0.81      0.78      0.80      1357\n",
      "        2.0       0.54      0.74      0.62      2324\n",
      "        3.0       0.42      0.12      0.18      1892\n",
      "        4.0       0.63      0.67      0.65      2654\n",
      "        5.0       0.88      0.98      0.92      3418\n",
      "\n",
      "avg / total       0.67      0.70      0.67     11645\n",
      "\n"
     ]
    }
   ],
   "source": [
    "print(pca_logistic_n16[\"train_report\"])"
   ]
  },
  {
   "cell_type": "code",
   "execution_count": 45,
   "metadata": {},
   "outputs": [
    {
     "name": "stdout",
     "output_type": "stream",
     "text": [
      "             precision    recall  f1-score   support\n",
      "\n",
      "        1.0       0.76      0.77      0.76       342\n",
      "        2.0       0.52      0.71      0.60       574\n",
      "        3.0       0.46      0.13      0.20       501\n",
      "        4.0       0.62      0.64      0.63       664\n",
      "        5.0       0.86      0.98      0.91       831\n",
      "\n",
      "avg / total       0.66      0.68      0.65      2912\n",
      "\n"
     ]
    }
   ],
   "source": [
    "print(pca_logistic_n16[\"test_report\"])"
   ]
  },
  {
   "cell_type": "markdown",
   "metadata": {},
   "source": [
    "### Conceptual Questions\n",
    "\n",
    "#### In order to better understand what is happening in Model 2 & Model 3, re-run PCA without specifying a number of components. Plot out the cumulative explained variance ratio vs number of components for the original scaled data. Describe what the plot is showing as well as what the cumulative explained variance tells us about our data.\n",
    "\n",
    "I conducted this analysis as part of the assignment because I felt it added a clear logic between moving from 2 to 16 components. The plot below is shown again for consistency though. It shows how each principle component, which are eigenvalues stemming from the matrix decomposition, slowly reduces in variance explanation. The first component here represents about 23% of the set's total variance. Beyond that, each component represents slightly less. The first eigenvalue representing about 23% is indicative of a set that doesn't have a high degree of multicollinearity. Data that is very highly correlated usually makes for a first principle component that captures a large amount of variance from the set. Each principle component could be analyzed further to understand what variance is being captured using the eigenvector matrix, which are also known as factor loadings. Here though, it's probably enough to say that the variables seems reasonably spread across the principle components with a few eigenvalues containing most of the variance explanation but, up to around 16 being useful for analysis.  "
   ]
  },
  {
   "cell_type": "code",
   "execution_count": 47,
   "metadata": {
    "scrolled": true
   },
   "outputs": [
    {
     "data": {
      "text/plain": [
       "Text(0.5,1,'PCA Screeplot for Nursing Home Data \\n Variance explanation evens out around 16 components')"
      ]
     },
     "execution_count": 47,
     "metadata": {},
     "output_type": "execute_result"
    },
    {
     "data": {
      "image/png": "[encoded data removed]",
      "text/plain": [
       "<matplotlib.figure.Figure at 0x25b820b6b70>"
      ]
     },
     "metadata": {},
     "output_type": "display_data"
    }
   ],
   "source": [
    "plt.figure(figsize = (12, 7))\n",
    "plt.plot(pca_logistic_n27[\"variance_explained\"])\n",
    "plt.title(\"PCA Screeplot for Nursing Home Data \\n Variance explanation evens out around 16 components\")"
   ]
  },
  {
   "cell_type": "markdown",
   "metadata": {},
   "source": [
    "Building on the previous point, I've included the correlation matrix here. While there are some strong correlations, there doesn't appear to be any major multicollinearity, which helps explain why the first few principle components don't capture as much variance. Essentially, the variable's explanatory power is spread across 16 factors, at which point the variance explanation plateaus."
   ]
  },
  {
   "cell_type": "code",
   "execution_count": 48,
   "metadata": {},
   "outputs": [
    {
     "data": {
      "text/plain": [
       "Text(0.5,1,'Confusion Matrix for Nursing Home Rating Variables')"
      ]
     },
     "execution_count": 48,
     "metadata": {},
     "output_type": "execute_result"
    },
    {
     "data": {
      "image/png": "[encoded data removed]",
      "text/plain": [
       "<matplotlib.figure.Figure at 0x25b8228dd68>"
      ]
     },
     "metadata": {},
     "output_type": "display_data"
    }
   ],
   "source": [
    "var_corr = X_train_scaled.corr()\n",
    "\n",
    "plt.figure(figsize = (12, 7))\n",
    "\n",
    "\n",
    "sns.heatmap(var_corr, \n",
    "            xticklabels=var_corr.columns.values,\n",
    "            yticklabels=var_corr.columns.values).set_title(\"Confusion Matrix for Nursing Home Rating Variables\")"
   ]
  },
  {
   "cell_type": "markdown",
   "metadata": {},
   "source": [
    "#### Between Model 2 and Model 3, which performed the best? Explain why this is.\n",
    "\n",
    "This question connects nicely from the previous explanation of how much variance is explained between the different principle components. The performance comes down to how much variance is represented by two versus sixteen principle components. As seen below, two only captures about 38% of the set variance while 16 captures about 99%. Given this, it's no surprise that the sixteen component model 3 shows such superior performance since it's nearly equivalent to the original set from a variance explanation perspective. Indeed, the evaluation metrics highlight it being nearly equal to the full variable set, which makes sense having seen how much variance these components explain. This also furthers the case that there are numerous predictors amongst the original 27 that do no provide a great deal of explanatory power in the model and therefore, could be dropped. This could be further explored with a formal factor analysis, among other model refinement tactics."
   ]
  },
  {
   "cell_type": "code",
   "execution_count": 50,
   "metadata": {},
   "outputs": [
    {
     "name": "stdout",
     "output_type": "stream",
     "text": [
      "Percent variance captured by two principle components: 0.383\n",
      "Percent variance captured by sixteen principle components: 0.987\n"
     ]
    }
   ],
   "source": [
    "sixteen_pca_var = pca_logistic_n16[\"variance_explained\"]\n",
    "sixteen_pca_var = sixteen_pca_var[\"variance_exp_ratio\"].sum().round(4)\n",
    "\n",
    "print(\"Percent variance captured by two principle components:\", two_pca_var)\n",
    "print(\"Percent variance captured by sixteen principle components:\", sixteen_pca_var)"
   ]
  },
  {
   "cell_type": "markdown",
   "metadata": {},
   "source": [
    "#### Assuming you are working with a company on a modeling project with a massive data set, what would be some of the benefits of utilizing PCA?  Provide counterarguments for using the method as well.\n",
    "\n",
    "The case for principle components analysis lies in the computational savings stemming from dimensional reduction. As displayed above, the sixteen component model performs more or less equally to the full 27 variable set. This saves 9 variables from being included in the model, which inherently reduces complexity and saves on computational costs. A set with higher multicollinearity would see this effect even more. Overall, this approach doesn't necessarily sacrifice performance while providing less complex models. Another advantage would be using the approach for factor analysis and visualization. Using the factor loadings, each principle component can be assessed and named. For example, the first component might represent information on nurse ratings. In this way, the resulting factor score columns don't lose meaning during dimensional reduction. Taking this a step further, complex, multidimensional sets can be simplified to two or three components and visualized so some underlying pattern in the set can be explored. \n",
    "\n",
    "The obvious trade off here is interpretability and information loss. Starting with the factor scores, the columns often lose any intrinsic interpretability once they have been converted. If the factor loadings do not provide clear naming conventions, any inferential modelling work is greatly hindered. If the project requires clear explanation of what might be driving results, sometimes PCA falls short. Probably more importantly, PCA inherently leads to information loss from the data set. I've documented that included only a few principle components in a model reduces model performance. Even with the sixteen model, some variance is being excluded that could boost performance. There is a trade-off being computational complexity and results using PCA. Additionally, the method doesn't work well on every data. If there isn't reasonable multicollinearity to start with, the factor scores will essentially be the original columns scrambled. In the case here, there was enough to make it successful but, that's isn't guaranteed. Building on this point, the set itself has to be comprised of only numeric variables. Technically, categorical columns can be converted to dummies but, this approahc belies the linear algebra underpinnings and is generally not great practice. All considered, there are some downfalls to PCA so the use case has to be carefully reviewed.\n",
    "\n",
    "#### Sklearn offers a variety of methods to solve a multi-class logistic regression problem. One option is the \"one-vs-the-rest\" (also known as \"one-vs-all\" method). Explain in detail what this process does.\n",
    "\n",
    "I mentioned this before but, the one-vs-all method constructs probabilities of an entry belonging to a certain class. More specifically though, the method constructs a series of binary classifiers for each class in the multi-class arrangement. In the work here, a specific nursing home rating is identified between 1 and 5, so there are 5 binary classifiers, or one per rating.This means that during the model training, each nursing home is being assessed different ways. For example, the first set of probabilities provides some level of confidence for the question of whether the home is, or is not, rated 1. This procedure continues until there is a probability for each class at which point, the highest confidence becomes the rating prediction.\n",
    "\n",
    "#### Each of the three models utilized logistic regression. The Hands-On ML book describes the logistic function (sometimes called the sigmoid function) in detail. Using Equation 4-14, plot out the logistic function & describe why it is useful in classification problems of the nature covered in this homework assignment.\n",
    "\n",
    "A logistic regression model computes the weighted sum of features and then uses a link function to transform the values into a number between 0 and 1. These correspond to probabilities of being in a certain class when used for prediction. This is why logistic regression is so useful for classification problems: it provides easy to understand probabilities that can be converted to classes using some decision boundary or threshold. Traditionally, if the probability is greater than or equal to .5, it becomes a positive class (1) and otherwise a negative class (0). This is formalized below: \n",
    "\n",
    "$$\\hat{p} = {\\text{predicted probability of belonging to a class}}$$\n",
    "\n",
    "$$\\hat{p} =\n",
    "\\begin{cases}\n",
    "0,  & \\text{if $x$ < 0.5} \\\\\n",
    "1, & \\text{if $x$ >= 0.5}\n",
    "\\end{cases}$$\n",
    "\n",
    " The sigmoid function below highlights this where the observations above and below the green line are classified differently. Further, in this example, the x-axis values for that prediction can be ascertained as well adding further interpretability. For all these reasons, logistic regression makes an excellent and interpretable classifier choice."
   ]
  },
  {
   "cell_type": "code",
   "execution_count": 6,
   "metadata": {},
   "outputs": [
    {
     "data": {
      "text/plain": [
       "Text(3,0.6,'$\\\\sigma(t)=\\\\frac{1}{1+e^{-t}}$')"
      ]
     },
     "execution_count": 6,
     "metadata": {},
     "output_type": "execute_result"
    },
    {
     "data": {
      "image/png": "[encoded data removed]",
      "text/plain": [
       "<matplotlib.figure.Figure at 0x1e8ecc969e8>"
      ]
     },
     "metadata": {},
     "output_type": "display_data"
    }
   ],
   "source": [
    "def sigmoid_function(t):\n",
    "    return (1 / (1 + np.exp(-t)))\n",
    "\n",
    "t =  np.arange(-10, 10, 0.01)\n",
    "plt.figure(figsize = (12, 7))\n",
    "\n",
    "plt.plot(t, sigmoid_function(t), color = \"blue\", linewidth=5)\n",
    "plt.axvline(x = 0, color=\"orange\")\n",
    "plt.axhline(y= 0, color=\"purple\")\n",
    "plt.axhline(y =.5, color=\"green\")\n",
    "plt.axhline(y = 1, color=\"purple\")\n",
    "plt.title(\"Manual Sigmoid Function using line space (-10, 10, .01)- set derived using np.arrange\")\n",
    "plt.text(3, 0.6, r\"$\\sigma(t)=\\frac{1}{1+e^{-t}}$\", fontsize = 20)"
   ]
  },
  {
   "cell_type": "code",
   "execution_count": 471,
   "metadata": {},
   "outputs": [
    {
     "data": {
      "text/plain": [
       "'C:\\\\Users\\\\Mark\\\\Machine Learning 3'"
      ]
     },
     "execution_count": 471,
     "metadata": {},
     "output_type": "execute_result"
    }
   ],
   "source": [
    "import os\n",
    "os.getcwd()"
   ]
  }
 ],
 "metadata": {
  "kernelspec": {
   "display_name": "Python 3",
   "language": "python",
   "name": "python3"
  },
  "language_info": {
   "codemirror_mode": {
    "name": "ipython",
    "version": 3
   },
   "file_extension": ".py",
   "mimetype": "text/x-python",
   "name": "python",
   "nbconvert_exporter": "python",
   "pygments_lexer": "ipython3",
   "version": "3.6.4"
  }
 },
 "nbformat": 4,
 "nbformat_minor": 2
}
