{
 "cells": [
  {
   "cell_type": "code",
   "execution_count": 1,
   "metadata": {
    "_cell_guid": "b1076dfc-b9ad-4769-8c92-a6c4dae69d19",
    "_uuid": "8f2839f25d086af736a60e9eeb907d3b93b6e0e5"
   },
   "outputs": [
    {
     "name": "stdout",
     "output_type": "stream",
     "text": [
      "Cancer image data set count: 220025\n"
     ]
    },
    {
     "data": {
      "text/html": [
       "<div>\n",
       "<style scoped>\n",
       "    .dataframe tbody tr th:only-of-type {\n",
       "        vertical-align: middle;\n",
       "    }\n",
       "\n",
       "    .dataframe tbody tr th {\n",
       "        vertical-align: top;\n",
       "    }\n",
       "\n",
       "    .dataframe thead th {\n",
       "        text-align: right;\n",
       "    }\n",
       "</style>\n",
       "<table border=\"1\" class=\"dataframe\">\n",
       "  <thead>\n",
       "    <tr style=\"text-align: right;\">\n",
       "      <th></th>\n",
       "      <th>id</th>\n",
       "      <th>label</th>\n",
       "    </tr>\n",
       "  </thead>\n",
       "  <tbody>\n",
       "    <tr>\n",
       "      <th>0</th>\n",
       "      <td>f38a6374c348f90b587e046aac6079959adf3835.tif</td>\n",
       "      <td>0</td>\n",
       "    </tr>\n",
       "    <tr>\n",
       "      <th>1</th>\n",
       "      <td>c18f2d887b7ae4f6742ee445113fa1aef383ed77.tif</td>\n",
       "      <td>1</td>\n",
       "    </tr>\n",
       "    <tr>\n",
       "      <th>2</th>\n",
       "      <td>755db6279dae599ebb4d39a9123cce439965282d.tif</td>\n",
       "      <td>0</td>\n",
       "    </tr>\n",
       "    <tr>\n",
       "      <th>3</th>\n",
       "      <td>bc3f0c64fb968ff4a8bd33af6971ecae77c75e08.tif</td>\n",
       "      <td>0</td>\n",
       "    </tr>\n",
       "    <tr>\n",
       "      <th>4</th>\n",
       "      <td>068aba587a4950175d04c680d38943fd488d6a9d.tif</td>\n",
       "      <td>0</td>\n",
       "    </tr>\n",
       "  </tbody>\n",
       "</table>\n",
       "</div>"
      ],
      "text/plain": [
       "                                             id label\n",
       "0  f38a6374c348f90b587e046aac6079959adf3835.tif     0\n",
       "1  c18f2d887b7ae4f6742ee445113fa1aef383ed77.tif     1\n",
       "2  755db6279dae599ebb4d39a9123cce439965282d.tif     0\n",
       "3  bc3f0c64fb968ff4a8bd33af6971ecae77c75e08.tif     0\n",
       "4  068aba587a4950175d04c680d38943fd488d6a9d.tif     0"
      ]
     },
     "execution_count": 1,
     "metadata": {},
     "output_type": "execute_result"
    }
   ],
   "source": [
    "import numpy as np\n",
    "import pandas as pd\n",
    "import os\n",
    "\n",
    "#print(os.listdir(\"../input\"))\n",
    "\n",
    "cancer_labs = pd.read_csv('../input/histopathologic-cancer-detection/train_labels.csv', \n",
    "                          dtype=str)\n",
    "\n",
    "def append_ext(fn):\n",
    "    return fn+\".tif\"\n",
    "\n",
    "cancer_labs[\"id\"]=cancer_labs[\"id\"].apply(append_ext)\n",
    "\n",
    "print(\"Cancer image data set count:\", cancer_labs.shape[0])\n",
    "\n",
    "cancer_labs.head()"
   ]
  },
  {
   "cell_type": "code",
   "execution_count": 2,
   "metadata": {
    "_uuid": "f4008af1b8b9c9e44bbc1c5fcd9ae894af9e5f48"
   },
   "outputs": [
    {
     "name": "stdout",
     "output_type": "stream",
     "text": [
      "Positive cancer scans: 89117\n",
      "Positive cancer scans percent: 41.0\n",
      "Negative cancer scans: 130908\n",
      "Negative cancer scans percent: 59.0\n"
     ]
    }
   ],
   "source": [
    "class_count = cancer_labs[\"label\"].value_counts()\n",
    "\n",
    "print(\"Positive cancer scans:\", class_count[1])\n",
    "print(\"Positive cancer scans percent:\", round(class_count[1] / cancer_labs.shape[0], 2) * 100)\n",
    "print(\"Negative cancer scans:\", class_count[0])\n",
    "print(\"Negative cancer scans percent:\", round(class_count[0] / cancer_labs.shape[0], 2) * 100)"
   ]
  },
  {
   "cell_type": "code",
   "execution_count": 3,
   "metadata": {
    "_cell_guid": "79c7e3d0-c299-4dcb-8224-4455121ee9b0",
    "_uuid": "d629ff2d2480ee46fbb7e2d37f6b5fab8052498a",
    "scrolled": true
   },
   "outputs": [
    {
     "name": "stdout",
     "output_type": "stream",
     "text": [
      "Cancer image training set rows: 176020\n",
      "Cancer image test set rows: 44005\n"
     ]
    }
   ],
   "source": [
    "from sklearn.model_selection import train_test_split\n",
    "\n",
    "train, test = train_test_split(cancer_labs, test_size=0.2, random_state=1017)\n",
    "\n",
    "print(\"Cancer image training set rows:\", train.shape[0])\n",
    "print(\"Cancer image test set rows:\", test.shape[0])"
   ]
  },
  {
   "cell_type": "code",
   "execution_count": 4,
   "metadata": {
    "_uuid": "a50e045737b23fe182167101fe90fc0f5dc563e4"
   },
   "outputs": [
    {
     "name": "stderr",
     "output_type": "stream",
     "text": [
      "Using TensorFlow backend.\n"
     ]
    },
    {
     "name": "stdout",
     "output_type": "stream",
     "text": [
      "Found 176020 images belonging to 2 classes.\n",
      "Found 44005 images belonging to 2 classes.\n"
     ]
    }
   ],
   "source": [
    "from keras.preprocessing.image import ImageDataGenerator\n",
    "\n",
    "batch_size = 128\n",
    "\n",
    "image_size = (96, 96)\n",
    "\n",
    "train_datagen = ImageDataGenerator(\n",
    "        rescale=1./255,\n",
    "        shear_range=0.2,\n",
    "        zoom_range=0.2,\n",
    "        horizontal_flip=True\n",
    ")\n",
    "\n",
    "test_datagen = ImageDataGenerator(rescale=1./255)\n",
    "\n",
    "train_generator = train_datagen.flow_from_dataframe(\n",
    "    dataframe=train, \n",
    "    directory='../input/histopathologic-cancer-detection/train/', \n",
    "    x_col='id', \n",
    "    y_col='label',\n",
    "    target_size=image_size,\n",
    "    batch_size=batch_size,\n",
    "    class_mode=\"binary\",\n",
    "    has_ext=False\n",
    ")\n",
    "\n",
    "test_generator = test_datagen.flow_from_dataframe(\n",
    "    dataframe=test, \n",
    "    directory='../input/histopathologic-cancer-detection/train/', \n",
    "    x_col='id', \n",
    "    y_col='label',\n",
    "    target_size=image_size,\n",
    "    batch_size=batch_size,\n",
    "    class_mode=\"binary\",\n",
    "    has_ext=False\n",
    ")"
   ]
  },
  {
   "cell_type": "code",
   "execution_count": 5,
   "metadata": {
    "_uuid": "b5205bb0ee19b4ecae04f24c8a2ba74d5f3d5b35",
    "scrolled": true
   },
   "outputs": [
    {
     "name": "stdout",
     "output_type": "stream",
     "text": [
      "_________________________________________________________________\n",
      "Layer (type)                 Output Shape              Param #   \n",
      "=================================================================\n",
      "conv2d_1 (Conv2D)            (None, 94, 94, 32)        896       \n",
      "_________________________________________________________________\n",
      "batch_normalization_1 (Batch (None, 94, 94, 32)        128       \n",
      "_________________________________________________________________\n",
      "activation_1 (Activation)    (None, 94, 94, 32)        0         \n",
      "_________________________________________________________________\n",
      "max_pooling2d_1 (MaxPooling2 (None, 47, 47, 32)        0         \n",
      "_________________________________________________________________\n",
      "dropout_1 (Dropout)          (None, 47, 47, 32)        0         \n",
      "_________________________________________________________________\n",
      "conv2d_2 (Conv2D)            (None, 45, 45, 64)        18496     \n",
      "_________________________________________________________________\n",
      "batch_normalization_2 (Batch (None, 45, 45, 64)        256       \n",
      "_________________________________________________________________\n",
      "activation_2 (Activation)    (None, 45, 45, 64)        0         \n",
      "_________________________________________________________________\n",
      "max_pooling2d_2 (MaxPooling2 (None, 22, 22, 64)        0         \n",
      "_________________________________________________________________\n",
      "dropout_2 (Dropout)          (None, 22, 22, 64)        0         \n",
      "_________________________________________________________________\n",
      "conv2d_3 (Conv2D)            (None, 20, 20, 128)       73856     \n",
      "_________________________________________________________________\n",
      "activation_3 (Activation)    (None, 20, 20, 128)       0         \n",
      "_________________________________________________________________\n",
      "max_pooling2d_3 (MaxPooling2 (None, 10, 10, 128)       0         \n",
      "_________________________________________________________________\n",
      "dropout_3 (Dropout)          (None, 10, 10, 128)       0         \n",
      "_________________________________________________________________\n",
      "conv2d_4 (Conv2D)            (None, 8, 8, 256)         295168    \n",
      "_________________________________________________________________\n",
      "activation_4 (Activation)    (None, 8, 8, 256)         0         \n",
      "_________________________________________________________________\n",
      "max_pooling2d_4 (MaxPooling2 (None, 4, 4, 256)         0         \n",
      "_________________________________________________________________\n",
      "dropout_4 (Dropout)          (None, 4, 4, 256)         0         \n",
      "_________________________________________________________________\n",
      "flatten_1 (Flatten)          (None, 4096)              0         \n",
      "_________________________________________________________________\n",
      "dense_1 (Dense)              (None, 512)               2097664   \n",
      "_________________________________________________________________\n",
      "batch_normalization_3 (Batch (None, 512)               2048      \n",
      "_________________________________________________________________\n",
      "activation_5 (Activation)    (None, 512)               0         \n",
      "_________________________________________________________________\n",
      "dropout_5 (Dropout)          (None, 512)               0         \n",
      "_________________________________________________________________\n",
      "dense_2 (Dense)              (None, 1)                 513       \n",
      "_________________________________________________________________\n",
      "activation_6 (Activation)    (None, 1)                 0         \n",
      "=================================================================\n",
      "Total params: 2,489,025\n",
      "Trainable params: 2,487,809\n",
      "Non-trainable params: 1,216\n",
      "_________________________________________________________________\n"
     ]
    }
   ],
   "source": [
    "from keras.models import Sequential\n",
    "from keras.layers import Conv2D, MaxPooling2D\n",
    "from keras.layers import Activation, Dropout, Flatten, Dense, BatchNormalization\n",
    "\n",
    "kernel_size = (3,3)\n",
    "pool_size= (2,2)\n",
    "dropout = .5\n",
    "\n",
    "model = Sequential()\n",
    "model.add(Conv2D(32, kernel_size, input_shape=(96, 96, 3)))\n",
    "model.add(BatchNormalization())\n",
    "model.add(Activation(\"relu\"))\n",
    "model.add(MaxPooling2D(pool_size=pool_size))\n",
    "model.add(Dropout(dropout))\n",
    "\n",
    "model.add(Conv2D(64, kernel_size))\n",
    "model.add(BatchNormalization())\n",
    "model.add(Activation(\"relu\"))\n",
    "model.add(MaxPooling2D(pool_size=pool_size))\n",
    "model.add(Dropout(dropout))\n",
    "\n",
    "model.add(Conv2D(128, kernel_size))\n",
    "model.add(Activation(\"relu\"))\n",
    "model.add(MaxPooling2D(pool_size=pool_size))\n",
    "model.add(Dropout(dropout))\n",
    "\n",
    "model.add(Conv2D(256, kernel_size))\n",
    "model.add(Activation(\"relu\"))\n",
    "model.add(MaxPooling2D(pool_size=pool_size))\n",
    "model.add(Dropout(dropout))\n",
    "\n",
    "model.add(Flatten())\n",
    "model.add(Dense(512))\n",
    "model.add(BatchNormalization())\n",
    "model.add(Activation(\"relu\"))\n",
    "model.add(Dropout(dropout))\n",
    "model.add(Dense(1))\n",
    "model.add(Activation(\"sigmoid\"))\n",
    "\n",
    "model.compile(loss=\"binary_crossentropy\",\n",
    "              optimizer=\"rmsprop\",\n",
    "              metrics=[\"binary_accuracy\"])\n",
    "\n",
    "model.summary()"
   ]
  },
  {
   "cell_type": "code",
   "execution_count": 6,
   "metadata": {
    "_uuid": "defa8d0551d08b24e3871591ea19ced9b26bcca4",
    "scrolled": true
   },
   "outputs": [
    {
     "name": "stdout",
     "output_type": "stream",
     "text": [
      "Epoch 1/25\n",
      "512/512 [==============================] - 354s 691ms/step - loss: 0.4880 - binary_accuracy: 0.7853 - val_loss: 0.6459 - val_binary_accuracy: 0.6279\n",
      "Epoch 2/25\n",
      "512/512 [==============================] - 343s 670ms/step - loss: 0.3865 - binary_accuracy: 0.8326 - val_loss: 0.6051 - val_binary_accuracy: 0.6952\n",
      "Epoch 3/25\n",
      "512/512 [==============================] - 335s 654ms/step - loss: 0.3678 - binary_accuracy: 0.8438 - val_loss: 0.5012 - val_binary_accuracy: 0.7840\n",
      "Epoch 4/25\n",
      "512/512 [==============================] - 323s 631ms/step - loss: 0.3479 - binary_accuracy: 0.8505 - val_loss: 0.4217 - val_binary_accuracy: 0.8093\n",
      "Epoch 5/25\n",
      "512/512 [==============================] - 319s 622ms/step - loss: 0.3418 - binary_accuracy: 0.8546 - val_loss: 0.4382 - val_binary_accuracy: 0.8126\n",
      "Epoch 6/25\n",
      "512/512 [==============================] - 318s 622ms/step - loss: 0.3343 - binary_accuracy: 0.8577 - val_loss: 0.4563 - val_binary_accuracy: 0.8019\n",
      "Epoch 7/25\n",
      "512/512 [==============================] - 319s 623ms/step - loss: 0.3177 - binary_accuracy: 0.8672 - val_loss: 0.4937 - val_binary_accuracy: 0.7652\n",
      "Epoch 8/25\n",
      "512/512 [==============================] - 320s 624ms/step - loss: 0.3146 - binary_accuracy: 0.8676 - val_loss: 0.6024 - val_binary_accuracy: 0.6688\n",
      "Epoch 9/25\n",
      "512/512 [==============================] - 319s 622ms/step - loss: 0.3069 - binary_accuracy: 0.8724 - val_loss: 0.4612 - val_binary_accuracy: 0.7305\n",
      "Epoch 10/25\n",
      "512/512 [==============================] - 318s 620ms/step - loss: 0.3027 - binary_accuracy: 0.8743 - val_loss: 0.4721 - val_binary_accuracy: 0.7717\n",
      "Epoch 11/25\n",
      "512/512 [==============================] - 320s 624ms/step - loss: 0.2959 - binary_accuracy: 0.8772 - val_loss: 0.7446 - val_binary_accuracy: 0.6811\n",
      "Epoch 12/25\n",
      "373/512 [====================>.........] - ETA: 1:20 - loss: 0.2908 - binary_accuracy: 0.8819"
     ]
    }
   ],
   "source": [
    "model_hist = model.fit_generator(generator=train_generator, \n",
    "                                 epochs=25, \n",
    "                                 steps_per_epoch=batch_size * 4, \n",
    "                                 validation_data=test_generator, \n",
    "                                 validation_steps=batch_size)"
   ]
  },
  {
   "cell_type": "code",
   "execution_count": 7,
   "metadata": {
    "_uuid": "17a4d9b7b14c2f067c0f30e556649826f1f89e72"
   },
   "outputs": [
    {
     "data": {
      "image/png": "[encoded data removed]",
      "text/plain": [
       "<Figure size 1008x504 with 2 Axes>"
      ]
     },
     "metadata": {},
     "output_type": "display_data"
    }
   ],
   "source": [
    "import matplotlib.pyplot as plt\n",
    "\n",
    "def plot_history(history):\n",
    "    acc = history.history[\"binary_accuracy\"]\n",
    "    val_acc = history.history[\"val_binary_accuracy\"]\n",
    "    loss = history.history[\"loss\"]\n",
    "    val_loss = history.history[\"val_loss\"]\n",
    "    x = range(1, len(acc) + 1)\n",
    "    \n",
    "    plt.figure(figsize=(14, 7))\n",
    "    plt.subplot(1, 2, 1)\n",
    "    plt.plot(x, acc, \"b\", label=\"Training acc\")\n",
    "    plt.plot(x, val_acc, \"r\", label=\"Validation acc\")\n",
    "    plt.title(\"Training and validation accuracy\")\n",
    "    plt.legend()\n",
    "    \n",
    "    plt.subplot(1, 2, 2)\n",
    "    plt.plot(x, loss, \"b\", label=\"Training loss\")\n",
    "    plt.plot(x, val_loss, \"r\", label=\"Validation loss\")\n",
    "    plt.title(\"Training and validation loss\")\n",
    "    plt.legend()\n",
    "    \n",
    "plot_history(history=model_hist)"
   ]
  },
  {
   "cell_type": "code",
   "execution_count": 8,
   "metadata": {
    "_uuid": "12a90851fb36062039bb7ae1a06865f274d915e4",
    "scrolled": true
   },
   "outputs": [
    {
     "name": "stdout",
     "output_type": "stream",
     "text": [
      "344/344 [==============================] - 57s 164ms/step\n",
      "Loss Value: 0.2962\n",
      "Model Test Accuracy: 0.8895\n"
     ]
    }
   ],
   "source": [
    "model_eval = model.evaluate_generator(generator = test_generator, \n",
    "                                      steps = np.ceil(len(test_generator.filenames) / batch_size),\n",
    "                                      verbose = 1)\n",
    "\n",
    "print(\"Loss Value:\", model_eval[0].round(4))\n",
    "print(\"Model Test Accuracy:\", model_eval[1].round(4))"
   ]
  },
  {
   "cell_type": "code",
   "execution_count": 9,
   "metadata": {
    "_uuid": "972572871700174cb93ddda080ef8633e67f6b0d"
   },
   "outputs": [
    {
     "name": "stdout",
     "output_type": "stream",
     "text": [
      "Found 44005 images belonging to 2 classes.\n",
      "344/344 [==============================] - 57s 165ms/step\n",
      "Model AUC: 0.9495\n"
     ]
    }
   ],
   "source": [
    "from sklearn.metrics import roc_curve, auc, roc_auc_score\n",
    "\n",
    "val_datagen = ImageDataGenerator(rescale=1./255)\n",
    "\n",
    "val_generator = val_datagen.flow_from_dataframe(\n",
    "    dataframe=test, \n",
    "    directory='../input/histopathologic-cancer-detection/train/', \n",
    "    x_col='id', \n",
    "    y_col='label',\n",
    "    target_size=image_size,\n",
    "    batch_size=batch_size,\n",
    "    class_mode=\"binary\",\n",
    "    has_ext=False,\n",
    "    shuffle=False\n",
    ")\n",
    "\n",
    "model_probs = model.predict_generator(generator = val_generator, \n",
    "                                      steps = np.ceil(len(val_generator.filenames) / batch_size),\n",
    "                                      verbose = 1)\n",
    "\n",
    "fpr_keras, tpr_keras, thresholds_keras = roc_curve(val_generator.classes, model_probs)\n",
    "\n",
    "print(\"Model AUC:\", auc(fpr_keras, tpr_keras).round(4))"
   ]
  },
  {
   "cell_type": "code",
   "execution_count": 10,
   "metadata": {
    "_uuid": "727f56ef49fc90f6af3de62b39d8c934d24e73c6",
    "scrolled": true
   },
   "outputs": [
    {
     "name": "stderr",
     "output_type": "stream",
     "text": [
      "/opt/conda/lib/python3.6/site-packages/keras_applications/resnet50.py:265: UserWarning: The output shape of `ResNet50(include_top=False)` has been changed since Keras 2.2.0.\n",
      "  warnings.warn('The output shape of `ResNet50(include_top=False)` '\n"
     ]
    },
    {
     "name": "stdout",
     "output_type": "stream",
     "text": [
      "_________________________________________________________________\n",
      "Layer (type)                 Output Shape              Param #   \n",
      "=================================================================\n",
      "resnet50 (Model)             (None, 3, 3, 2048)        23587712  \n",
      "_________________________________________________________________\n",
      "flatten_2 (Flatten)          (None, 18432)             0         \n",
      "_________________________________________________________________\n",
      "dense_3 (Dense)              (None, 256)               4718592   \n",
      "_________________________________________________________________\n",
      "batch_normalization_4 (Batch (None, 256)               1024      \n",
      "_________________________________________________________________\n",
      "activation_56 (Activation)   (None, 256)               0         \n",
      "_________________________________________________________________\n",
      "dropout_6 (Dropout)          (None, 256)               0         \n",
      "_________________________________________________________________\n",
      "dense_4 (Dense)              (None, 1)                 257       \n",
      "=================================================================\n",
      "Total params: 28,307,585\n",
      "Trainable params: 19,695,361\n",
      "Non-trainable params: 8,612,224\n",
      "_________________________________________________________________\n"
     ]
    }
   ],
   "source": [
    "from keras.applications.resnet50 import ResNet50\n",
    "\n",
    "resnet_weights = '../input/resnet50/resnet50_weights_tf_dim_ordering_tf_kernels_notop.h5'\n",
    "\n",
    "convulution = ResNet50(\n",
    "    weights= resnet_weights,\n",
    "    include_top=False,\n",
    "    input_shape= (96, 96, 3)\n",
    ")  \n",
    "\n",
    "model_two = Sequential()\n",
    "model_two.add(convulution)\n",
    "model_two.add(Flatten())\n",
    "model_two.add(Dense(256, use_bias=False))\n",
    "model_two.add(BatchNormalization())\n",
    "model_two.add(Activation(\"relu\"))\n",
    "model_two.add(Dropout(dropout))\n",
    "model_two.add(Dense(1, activation = \"sigmoid\"))\n",
    "\n",
    "convulution.Trainable=True\n",
    "\n",
    "set_trainable=False\n",
    "for layer in convulution.layers:\n",
    "    if layer.name == 'res5a_branch2a':\n",
    "        set_trainable = True\n",
    "    if set_trainable:\n",
    "        layer.trainable = True\n",
    "    else:\n",
    "        layer.trainable = False\n",
    "        \n",
    "model_two.compile(loss=\"binary_crossentropy\",\n",
    "                  optimizer=\"rmsprop\",\n",
    "                  metrics=[\"binary_accuracy\"])        \n",
    "\n",
    "model_two.summary()"
   ]
  },
  {
   "cell_type": "code",
   "execution_count": 11,
   "metadata": {
    "_uuid": "1684b478cd5001af8cbc5e9fde1b5a5b2753bcac",
    "scrolled": true
   },
   "outputs": [
    {
     "name": "stdout",
     "output_type": "stream",
     "text": [
      "Epoch 1/25\n",
      "512/512 [==============================] - 349s 682ms/step - loss: 0.3031 - binary_accuracy: 0.8791 - val_loss: 1.1456 - val_binary_accuracy: 0.8364\n",
      "Epoch 2/25\n",
      "512/512 [==============================] - 335s 655ms/step - loss: 0.2456 - binary_accuracy: 0.9040 - val_loss: 0.2995 - val_binary_accuracy: 0.9104\n",
      "Epoch 3/25\n",
      "512/512 [==============================] - 335s 655ms/step - loss: 0.2289 - binary_accuracy: 0.9115 - val_loss: 0.2844 - val_binary_accuracy: 0.9022\n",
      "Epoch 4/25\n",
      "512/512 [==============================] - 339s 662ms/step - loss: 0.2243 - binary_accuracy: 0.9133 - val_loss: 0.2398 - val_binary_accuracy: 0.9131\n",
      "Epoch 5/25\n",
      "512/512 [==============================] - 337s 658ms/step - loss: 0.2096 - binary_accuracy: 0.9199 - val_loss: 0.2778 - val_binary_accuracy: 0.9055\n",
      "Epoch 6/25\n",
      "512/512 [==============================] - 338s 660ms/step - loss: 0.2061 - binary_accuracy: 0.9208 - val_loss: 0.2459 - val_binary_accuracy: 0.9180\n",
      "Epoch 7/25\n",
      "512/512 [==============================] - 334s 653ms/step - loss: 0.1963 - binary_accuracy: 0.9247 - val_loss: 0.2174 - val_binary_accuracy: 0.9238\n",
      "Epoch 8/25\n",
      "512/512 [==============================] - 337s 658ms/step - loss: 0.1896 - binary_accuracy: 0.9280 - val_loss: 0.2113 - val_binary_accuracy: 0.9234\n",
      "Epoch 9/25\n",
      "512/512 [==============================] - 336s 656ms/step - loss: 0.1871 - binary_accuracy: 0.9288 - val_loss: 0.2734 - val_binary_accuracy: 0.9016\n",
      "Epoch 10/25\n",
      "512/512 [==============================] - 338s 659ms/step - loss: 0.1890 - binary_accuracy: 0.9285 - val_loss: 0.2063 - val_binary_accuracy: 0.9288\n",
      "Epoch 11/25\n",
      "512/512 [==============================] - 337s 658ms/step - loss: 0.1794 - binary_accuracy: 0.9323 - val_loss: 0.2094 - val_binary_accuracy: 0.9222\n",
      "Epoch 12/25\n",
      "512/512 [==============================] - 337s 658ms/step - loss: 0.1767 - binary_accuracy: 0.9331 - val_loss: 0.1908 - val_binary_accuracy: 0.9303\n",
      "Epoch 13/25\n",
      "512/512 [==============================] - 336s 656ms/step - loss: 0.1734 - binary_accuracy: 0.9360 - val_loss: 0.2060 - val_binary_accuracy: 0.9269\n",
      "Epoch 14/25\n",
      "512/512 [==============================] - 339s 661ms/step - loss: 0.1695 - binary_accuracy: 0.9356 - val_loss: 0.2270 - val_binary_accuracy: 0.9232\n",
      "Epoch 15/25\n",
      "512/512 [==============================] - 339s 663ms/step - loss: 0.1701 - binary_accuracy: 0.9357 - val_loss: 0.1994 - val_binary_accuracy: 0.9302\n",
      "Epoch 16/25\n",
      "512/512 [==============================] - 337s 658ms/step - loss: 0.1616 - binary_accuracy: 0.9394 - val_loss: 0.1934 - val_binary_accuracy: 0.9293\n",
      "Epoch 17/25\n",
      "512/512 [==============================] - 335s 653ms/step - loss: 0.1611 - binary_accuracy: 0.9392 - val_loss: 0.2001 - val_binary_accuracy: 0.9310\n",
      "Epoch 18/25\n",
      "512/512 [==============================] - 336s 656ms/step - loss: 0.1628 - binary_accuracy: 0.9397 - val_loss: 0.2067 - val_binary_accuracy: 0.9276\n",
      "Epoch 19/25\n",
      "512/512 [==============================] - 337s 658ms/step - loss: 0.1557 - binary_accuracy: 0.9421 - val_loss: 0.1966 - val_binary_accuracy: 0.9305\n",
      "Epoch 20/25\n",
      "512/512 [==============================] - 336s 656ms/step - loss: 0.1563 - binary_accuracy: 0.9406 - val_loss: 0.1882 - val_binary_accuracy: 0.9318\n",
      "Epoch 21/25\n",
      "512/512 [==============================] - 337s 658ms/step - loss: 0.1526 - binary_accuracy: 0.9423 - val_loss: 0.1923 - val_binary_accuracy: 0.9304\n",
      "Epoch 22/25\n",
      "512/512 [==============================] - 336s 656ms/step - loss: 0.1507 - binary_accuracy: 0.9446 - val_loss: 0.1695 - val_binary_accuracy: 0.9384\n",
      "Epoch 23/25\n",
      "512/512 [==============================] - 336s 657ms/step - loss: 0.1479 - binary_accuracy: 0.9444 - val_loss: 0.1913 - val_binary_accuracy: 0.9317\n",
      "Epoch 24/25\n",
      "449/512 [=========================>....] - ETA: 37s - loss: 0.1452 - binary_accuracy: 0.9456"
     ]
    }
   ],
   "source": [
    "model_two_hist = model_two.fit_generator(generator=train_generator, \n",
    "                                         epochs=25, \n",
    "                                         steps_per_epoch=batch_size * 4, \n",
    "                                         validation_data=test_generator, \n",
    "                                         validation_steps=batch_size)"
   ]
  },
  {
   "cell_type": "code",
   "execution_count": 12,
   "metadata": {
    "_uuid": "2f1926b974dce4f2bd2b7959c793daac08de2441"
   },
   "outputs": [
    {
     "data": {
      "image/png": "[encoded data removed]",
      "text/plain": [
       "<Figure size 1008x504 with 2 Axes>"
      ]
     },
     "metadata": {},
     "output_type": "display_data"
    }
   ],
   "source": [
    "plot_history(history = model_two_hist)"
   ]
  },
  {
   "cell_type": "code",
   "execution_count": 13,
   "metadata": {
    "_uuid": "b632d03d7a7a2702b5b2795baeab163eb96fda05"
   },
   "outputs": [
    {
     "name": "stdout",
     "output_type": "stream",
     "text": [
      "Loss Value: 0.1779\n",
      "Model Test Accuracy: 0.9382\n"
     ]
    }
   ],
   "source": [
    "model_two_eval = model_two.evaluate_generator(generator = test_generator, \n",
    "                                              steps = np.ceil(len(test_generator.filenames) / batch_size))\n",
    "\n",
    "print(\"Loss Value:\", model_two_eval[0].round(4))\n",
    "print(\"Model Test Accuracy:\", model_two_eval[1].round(4))"
   ]
  },
  {
   "cell_type": "code",
   "execution_count": 14,
   "metadata": {
    "_uuid": "622c50974084db1708ddbcfdab157d32b523834c"
   },
   "outputs": [
    {
     "name": "stdout",
     "output_type": "stream",
     "text": [
      "Found 44005 images belonging to 2 classes.\n",
      "Model AUC: 0.9821\n"
     ]
    }
   ],
   "source": [
    "val_datagen = ImageDataGenerator(rescale=1./255)\n",
    "\n",
    "val_generator = val_datagen.flow_from_dataframe(\n",
    "    dataframe=test, \n",
    "    directory='../input/histopathologic-cancer-detection/train/', \n",
    "    x_col='id', \n",
    "    y_col='label',\n",
    "    target_size=image_size,\n",
    "    batch_size=batch_size,\n",
    "    class_mode=\"binary\",\n",
    "    has_ext=False,\n",
    "    shuffle=False\n",
    ")\n",
    "\n",
    "model_two_probs = model_two.predict_generator(generator = val_generator, \n",
    "                                              steps = np.ceil(len(val_generator.filenames) / batch_size))\n",
    "\n",
    "fpr_keras, tpr_keras, thresholds_keras = roc_curve(val_generator.classes, model_two_probs)\n",
    "\n",
    "print(\"Model AUC:\", auc(fpr_keras, tpr_keras).round(4))"
   ]
  }
 ],
 "metadata": {
  "kernelspec": {
   "display_name": "Python 3",
   "language": "python",
   "name": "python3"
  },
  "language_info": {
   "codemirror_mode": {
    "name": "ipython",
    "version": 3
   },
   "file_extension": ".py",
   "mimetype": "text/x-python",
   "name": "python",
   "nbconvert_exporter": "python",
   "pygments_lexer": "ipython3",
   "version": "3.6.6"
  }
 },
 "nbformat": 4,
 "nbformat_minor": 1
}
