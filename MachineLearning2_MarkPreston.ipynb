{
 "cells": [
  {
   "cell_type": "markdown",
   "metadata": {},
   "source": [
    "# Machine Learning 2: Regression with Gradient Descent\n",
    "\n",
    "## Submission by: Mark Preston"
   ]
  },
  {
   "cell_type": "markdown",
   "metadata": {},
   "source": [
    "### Loading Data\n",
    "\n",
    "This week, I'll be using the same basic data set from last week to develop a linear regression model to predict temperature. However, this time I'll utilized gradient descent as part of the model fitting. "
   ]
  },
  {
   "cell_type": "code",
   "execution_count": 1,
   "metadata": {},
   "outputs": [],
   "source": [
    "import pandas as pd\n",
    "\n",
    "pd.options.mode.chained_assignment = None\n",
    "\n",
    "water_data = pd.read_csv(\"bottle.csv\", low_memory=False)"
   ]
  },
  {
   "cell_type": "markdown",
   "metadata": {},
   "source": [
    "### Part A: Data Cleaning\n",
    "\n",
    "For the assignment, I'll need to use the following variables:\n",
    "\n",
    "- T_degC\n",
    "- Salnty\n",
    "- STheta\n",
    "- O2ml_L\n",
    "- Depthm\n",
    "\n",
    "As such, I'll start by paring down the initial data frame. The printout below shows a new data frame was created specifically for the modelling work."
   ]
  },
  {
   "cell_type": "code",
   "execution_count": 2,
   "metadata": {},
   "outputs": [
    {
     "data": {
      "text/html": [
       "<div>\n",
       "<style scoped>\n",
       "    .dataframe tbody tr th:only-of-type {\n",
       "        vertical-align: middle;\n",
       "    }\n",
       "\n",
       "    .dataframe tbody tr th {\n",
       "        vertical-align: top;\n",
       "    }\n",
       "\n",
       "    .dataframe thead th {\n",
       "        text-align: right;\n",
       "    }\n",
       "</style>\n",
       "<table border=\"1\" class=\"dataframe\">\n",
       "  <thead>\n",
       "    <tr style=\"text-align: right;\">\n",
       "      <th></th>\n",
       "      <th>T_degC</th>\n",
       "      <th>Salnty</th>\n",
       "      <th>STheta</th>\n",
       "      <th>O2ml_L</th>\n",
       "      <th>Depthm</th>\n",
       "    </tr>\n",
       "  </thead>\n",
       "  <tbody>\n",
       "    <tr>\n",
       "      <th>0</th>\n",
       "      <td>10.50</td>\n",
       "      <td>33.440</td>\n",
       "      <td>25.649</td>\n",
       "      <td>NaN</td>\n",
       "      <td>0</td>\n",
       "    </tr>\n",
       "    <tr>\n",
       "      <th>1</th>\n",
       "      <td>10.46</td>\n",
       "      <td>33.440</td>\n",
       "      <td>25.656</td>\n",
       "      <td>NaN</td>\n",
       "      <td>8</td>\n",
       "    </tr>\n",
       "    <tr>\n",
       "      <th>2</th>\n",
       "      <td>10.46</td>\n",
       "      <td>33.437</td>\n",
       "      <td>25.654</td>\n",
       "      <td>NaN</td>\n",
       "      <td>10</td>\n",
       "    </tr>\n",
       "    <tr>\n",
       "      <th>3</th>\n",
       "      <td>10.45</td>\n",
       "      <td>33.420</td>\n",
       "      <td>25.643</td>\n",
       "      <td>NaN</td>\n",
       "      <td>19</td>\n",
       "    </tr>\n",
       "    <tr>\n",
       "      <th>4</th>\n",
       "      <td>10.45</td>\n",
       "      <td>33.421</td>\n",
       "      <td>25.643</td>\n",
       "      <td>NaN</td>\n",
       "      <td>20</td>\n",
       "    </tr>\n",
       "  </tbody>\n",
       "</table>\n",
       "</div>"
      ],
      "text/plain": [
       "   T_degC  Salnty  STheta  O2ml_L  Depthm\n",
       "0   10.50  33.440  25.649     NaN       0\n",
       "1   10.46  33.440  25.656     NaN       8\n",
       "2   10.46  33.437  25.654     NaN      10\n",
       "3   10.45  33.420  25.643     NaN      19\n",
       "4   10.45  33.421  25.643     NaN      20"
      ]
     },
     "execution_count": 2,
     "metadata": {},
     "output_type": "execute_result"
    }
   ],
   "source": [
    "water_modelling = water_data[[\"T_degC\", \"Salnty\", \"STheta\", \"O2ml_L\", \"Depthm\"]]\n",
    "\n",
    "water_modelling.head()"
   ]
  },
  {
   "cell_type": "markdown",
   "metadata": {},
   "source": [
    "#### Remove NaN / NA values from dataset\n",
    "\n",
    "To ensure the set has all missing values dropped, I'm using the `dropna` function on the new data frame. The new dimensions match the assignment specifications."
   ]
  },
  {
   "cell_type": "code",
   "execution_count": 3,
   "metadata": {},
   "outputs": [
    {
     "name": "stdout",
     "output_type": "stream",
     "text": [
      "The cleaned data now has 661268 rows and 5 columns. First 10 rows shown below:\n"
     ]
    },
    {
     "data": {
      "text/html": [
       "<div>\n",
       "<style scoped>\n",
       "    .dataframe tbody tr th:only-of-type {\n",
       "        vertical-align: middle;\n",
       "    }\n",
       "\n",
       "    .dataframe tbody tr th {\n",
       "        vertical-align: top;\n",
       "    }\n",
       "\n",
       "    .dataframe thead th {\n",
       "        text-align: right;\n",
       "    }\n",
       "</style>\n",
       "<table border=\"1\" class=\"dataframe\">\n",
       "  <thead>\n",
       "    <tr style=\"text-align: right;\">\n",
       "      <th></th>\n",
       "      <th>T_degC</th>\n",
       "      <th>Salnty</th>\n",
       "      <th>STheta</th>\n",
       "      <th>O2ml_L</th>\n",
       "      <th>Depthm</th>\n",
       "    </tr>\n",
       "  </thead>\n",
       "  <tbody>\n",
       "    <tr>\n",
       "      <th>2160</th>\n",
       "      <td>10.30</td>\n",
       "      <td>33.030</td>\n",
       "      <td>25.364</td>\n",
       "      <td>5.90</td>\n",
       "      <td>0</td>\n",
       "    </tr>\n",
       "    <tr>\n",
       "      <th>2161</th>\n",
       "      <td>18.46</td>\n",
       "      <td>32.920</td>\n",
       "      <td>23.568</td>\n",
       "      <td>6.02</td>\n",
       "      <td>6</td>\n",
       "    </tr>\n",
       "    <tr>\n",
       "      <th>2162</th>\n",
       "      <td>10.29</td>\n",
       "      <td>32.951</td>\n",
       "      <td>25.304</td>\n",
       "      <td>6.04</td>\n",
       "      <td>10</td>\n",
       "    </tr>\n",
       "    <tr>\n",
       "      <th>2163</th>\n",
       "      <td>10.29</td>\n",
       "      <td>32.990</td>\n",
       "      <td>25.335</td>\n",
       "      <td>6.06</td>\n",
       "      <td>15</td>\n",
       "    </tr>\n",
       "    <tr>\n",
       "      <th>2164</th>\n",
       "      <td>10.33</td>\n",
       "      <td>33.005</td>\n",
       "      <td>25.339</td>\n",
       "      <td>6.04</td>\n",
       "      <td>20</td>\n",
       "    </tr>\n",
       "    <tr>\n",
       "      <th>2165</th>\n",
       "      <td>10.39</td>\n",
       "      <td>33.054</td>\n",
       "      <td>25.368</td>\n",
       "      <td>6.01</td>\n",
       "      <td>30</td>\n",
       "    </tr>\n",
       "    <tr>\n",
       "      <th>2166</th>\n",
       "      <td>10.40</td>\n",
       "      <td>33.060</td>\n",
       "      <td>25.371</td>\n",
       "      <td>6.01</td>\n",
       "      <td>31</td>\n",
       "    </tr>\n",
       "    <tr>\n",
       "      <th>2167</th>\n",
       "      <td>10.36</td>\n",
       "      <td>33.150</td>\n",
       "      <td>25.448</td>\n",
       "      <td>5.78</td>\n",
       "      <td>47</td>\n",
       "    </tr>\n",
       "    <tr>\n",
       "      <th>2168</th>\n",
       "      <td>10.35</td>\n",
       "      <td>33.167</td>\n",
       "      <td>25.463</td>\n",
       "      <td>5.76</td>\n",
       "      <td>50</td>\n",
       "    </tr>\n",
       "    <tr>\n",
       "      <th>2169</th>\n",
       "      <td>10.25</td>\n",
       "      <td>33.260</td>\n",
       "      <td>25.553</td>\n",
       "      <td>5.60</td>\n",
       "      <td>64</td>\n",
       "    </tr>\n",
       "  </tbody>\n",
       "</table>\n",
       "</div>"
      ],
      "text/plain": [
       "      T_degC  Salnty  STheta  O2ml_L  Depthm\n",
       "2160   10.30  33.030  25.364    5.90       0\n",
       "2161   18.46  32.920  23.568    6.02       6\n",
       "2162   10.29  32.951  25.304    6.04      10\n",
       "2163   10.29  32.990  25.335    6.06      15\n",
       "2164   10.33  33.005  25.339    6.04      20\n",
       "2165   10.39  33.054  25.368    6.01      30\n",
       "2166   10.40  33.060  25.371    6.01      31\n",
       "2167   10.36  33.150  25.448    5.78      47\n",
       "2168   10.35  33.167  25.463    5.76      50\n",
       "2169   10.25  33.260  25.553    5.60      64"
      ]
     },
     "execution_count": 3,
     "metadata": {},
     "output_type": "execute_result"
    }
   ],
   "source": [
    "water_modelling = water_modelling.dropna()\n",
    "\n",
    "print(\"The cleaned data now has\", \n",
    "      water_modelling.shape[0], \"rows and\", \n",
    "      water_modelling.shape[1], \"columns. First 10 rows shown below:\")\n",
    "\n",
    "water_modelling.head(10)"
   ]
  },
  {
   "cell_type": "markdown",
   "metadata": {},
   "source": [
    "#### Remove obvious outliers for STheta\n",
    "\n",
    "As with last week, there are several outliers present in STheta that need to be removed. To do so, I'm using the same boolean logic that identifies values less than 100 to filter the outliers. Evidently, when adding the new variables and subsequently filtering out the missing values, the STheta outliers were dropped. This can be seen as the number of data frame rows did not change from the previous cleaning steps. As such, the dimensions match the given assignment values."
   ]
  },
  {
   "cell_type": "code",
   "execution_count": 4,
   "metadata": {},
   "outputs": [
    {
     "name": "stdout",
     "output_type": "stream",
     "text": [
      "Data set has 661268 rows and 5 columns following outlier removal\n"
     ]
    }
   ],
   "source": [
    "outlier_identify = water_modelling[\"STheta\"] < 100\n",
    "\n",
    "water_modelling = water_modelling[outlier_identify]\n",
    "\n",
    "print(\"Data set has\", water_modelling.shape[0], \n",
    "      \"rows and\", water_modelling.shape[1], \n",
    "      \"columns following outlier removal\")"
   ]
  },
  {
   "cell_type": "markdown",
   "metadata": {},
   "source": [
    "Since two new predictors were added for the assignment, I've included a quick exploratory review of the variables. The pairs plot shows that both new predictors do not have normal distributions. O2 appears to be bimodal, though almost uniform, while Depthm shows a high positive skew. Additionally, Depthm shows a negative correlation with temperature but, the association is highly non-linear so standard correlation is somewhat misleading here. There appears to be a positive correlation between temperature and O2 though."
   ]
  },
  {
   "cell_type": "code",
   "execution_count": 25,
   "metadata": {},
   "outputs": [
    {
     "data": {
      "text/plain": [
       "<seaborn.axisgrid.PairGrid at 0x2741c4917f0>"
      ]
     },
     "execution_count": 25,
     "metadata": {},
     "output_type": "execute_result"
    },
    {
     "data": {
      "image/png": "[encoded data removed]",
      "text/plain": [
       "<matplotlib.figure.Figure at 0x2741c491898>"
      ]
     },
     "metadata": {},
     "output_type": "display_data"
    }
   ],
   "source": [
    "import seaborn as sns\n",
    "\n",
    "sns.pairplot(water_modelling[[\"T_degC\", \"O2ml_L\", \"Depthm\"]])"
   ]
  },
  {
   "cell_type": "markdown",
   "metadata": {},
   "source": [
    "These correlation observations are confirmed using the matrix below. "
   ]
  },
  {
   "cell_type": "code",
   "execution_count": 14,
   "metadata": {},
   "outputs": [
    {
     "data": {
      "text/plain": [
       "Text(0.5,1,'Correlation matric for water modelling set')"
      ]
     },
     "execution_count": 14,
     "metadata": {},
     "output_type": "execute_result"
    },
    {
     "data": {
      "image/png": "[encoded data removed]",
      "text/plain": [
       "<matplotlib.figure.Figure at 0x2741492da58>"
      ]
     },
     "metadata": {},
     "output_type": "display_data"
    }
   ],
   "source": [
    "var_corr = water_modelling.corr()\n",
    "\n",
    "sns.heatmap(var_corr, annot=True, \n",
    "            xticklabels=var_corr.columns.values,\n",
    "            yticklabels=var_corr.columns.values).set_title(\"Correlation matrix for water modelling set\")"
   ]
  },
  {
   "cell_type": "markdown",
   "metadata": {},
   "source": [
    "### Part B: Train / Test Split & Scaling\n",
    "\n",
    "Moving into the modelling phase, I'll work towards setting up the data sets for the prediction task.\n",
    "\n",
    "#### Create X & y objects\n",
    "\n",
    "Starting here, I've split the predictors and outcome variable into separate objects. Again, the dimensions match the instructions."
   ]
  },
  {
   "cell_type": "code",
   "execution_count": 12,
   "metadata": {},
   "outputs": [
    {
     "name": "stdout",
     "output_type": "stream",
     "text": [
      "Predictors data shape: 661268 rows and 4 columns\n",
      "Outcome data shape: 661268 rows and 1 column\n"
     ]
    }
   ],
   "source": [
    "from sklearn.model_selection import train_test_split\n",
    "\n",
    "predictors = water_modelling[[\"Salnty\", \"STheta\", \"O2ml_L\", \"Depthm\"]]\n",
    "\n",
    "outcome = water_modelling[[\"T_degC\"]]\n",
    "\n",
    "print(\"Predictors data shape:\", predictors.shape[0], \"rows and\", predictors.shape[1], \"columns\")\n",
    "print(\"Outcome data shape:\", outcome.shape[0], \"rows and\", outcome.shape[1], \"column\")"
   ]
  },
  {
   "cell_type": "markdown",
   "metadata": {},
   "source": [
    "#### Generate X_train, X_test, y_train & y_test. Use 80% for train & 20% for test.\n",
    "\n",
    "Approaching the modelling work, I've conducted the train and test split below. The default proportions using `train_test_split` are usually 75/25, so I've augmented this to ensure an 80/20 split. To confirm this, I've printed out the train and test dimensions."
   ]
  },
  {
   "cell_type": "code",
   "execution_count": 16,
   "metadata": {},
   "outputs": [
    {
     "name": "stdout",
     "output_type": "stream",
     "text": [
      "Training set rows: 529014 which is 80.0 percent of total records\n",
      "Test set rows: 132254 which is 20.0 percent of total records\n"
     ]
    }
   ],
   "source": [
    "import numpy as np\n",
    "\n",
    "X_train, X_test, y_train, y_test = train_test_split(predictors, outcome, random_state=1017, test_size=.2)\n",
    "\n",
    "print(\n",
    "\"Training set rows:\", X_train.shape[0], \"which is\", \n",
    "    np.round(X_train.shape[0] / water_modelling.shape[0] * 100), \n",
    "    \"percent of total records\"\n",
    ")\n",
    "\n",
    "print(\n",
    "\"Test set rows:\", X_test.shape[0], \"which is\", \n",
    "    np.round(X_test.shape[0] / water_modelling.shape[0] * 100),\n",
    "    \"percent of total records\"\n",
    ")"
   ]
  },
  {
   "cell_type": "markdown",
   "metadata": {},
   "source": [
    "#### Scale all features to improve convergence in Gradient Descent\n",
    "\n",
    "To ensure that the gradient descent works optimally, I've scaled the train and test set. This standardization is done so all the predictors are on the same scale. Otherwise, the wide variety of value ranges can make the operation bounce from side-to-side. Standardizing each column means subtracting the mean form each value and then dividing them by the standard deviation. I've opted to do this manually to start, which is seen below.\n",
    "\n",
    "To collect each column's mean and standard deviation, I've used `apply` for both operations and saved the results to a data frame. Following this, each row contains the mean and standard deviation for one column. With this data frame developed, I've created the new standardized training set by turning each column into z-scores. The first five rows of the new set can be seen below."
   ]
  },
  {
   "cell_type": "code",
   "execution_count": 17,
   "metadata": {},
   "outputs": [
    {
     "data": {
      "text/html": [
       "<div>\n",
       "<style scoped>\n",
       "    .dataframe tbody tr th:only-of-type {\n",
       "        vertical-align: middle;\n",
       "    }\n",
       "\n",
       "    .dataframe tbody tr th {\n",
       "        vertical-align: top;\n",
       "    }\n",
       "\n",
       "    .dataframe thead th {\n",
       "        text-align: right;\n",
       "    }\n",
       "</style>\n",
       "<table border=\"1\" class=\"dataframe\">\n",
       "  <thead>\n",
       "    <tr style=\"text-align: right;\">\n",
       "      <th></th>\n",
       "      <th>Salnty</th>\n",
       "      <th>STheta</th>\n",
       "      <th>O2ml_L</th>\n",
       "      <th>Depthm</th>\n",
       "    </tr>\n",
       "  </thead>\n",
       "  <tbody>\n",
       "    <tr>\n",
       "      <th>3267</th>\n",
       "      <td>-0.897090</td>\n",
       "      <td>0.006684</td>\n",
       "      <td>0.597124</td>\n",
       "      <td>-0.288835</td>\n",
       "    </tr>\n",
       "    <tr>\n",
       "      <th>311485</th>\n",
       "      <td>1.187976</td>\n",
       "      <td>1.263266</td>\n",
       "      <td>-1.558559</td>\n",
       "      <td>1.072631</td>\n",
       "    </tr>\n",
       "    <tr>\n",
       "      <th>617217</th>\n",
       "      <td>-0.934013</td>\n",
       "      <td>-1.854919</td>\n",
       "      <td>1.003127</td>\n",
       "      <td>-0.704034</td>\n",
       "    </tr>\n",
       "    <tr>\n",
       "      <th>123633</th>\n",
       "      <td>0.514673</td>\n",
       "      <td>0.326523</td>\n",
       "      <td>-0.543551</td>\n",
       "      <td>-0.395049</td>\n",
       "    </tr>\n",
       "    <tr>\n",
       "      <th>292627</th>\n",
       "      <td>0.075940</td>\n",
       "      <td>0.360191</td>\n",
       "      <td>-0.345383</td>\n",
       "      <td>-0.304928</td>\n",
       "    </tr>\n",
       "  </tbody>\n",
       "</table>\n",
       "</div>"
      ],
      "text/plain": [
       "          Salnty    STheta    O2ml_L    Depthm\n",
       "3267   -0.897090  0.006684  0.597124 -0.288835\n",
       "311485  1.187976  1.263266 -1.558559  1.072631\n",
       "617217 -0.934013 -1.854919  1.003127 -0.704034\n",
       "123633  0.514673  0.326523 -0.543551 -0.395049\n",
       "292627  0.075940  0.360191 -0.345383 -0.304928"
      ]
     },
     "execution_count": 17,
     "metadata": {},
     "output_type": "execute_result"
    }
   ],
   "source": [
    "train_stats =  pd.DataFrame({\"var_means\": X_train.apply(axis=0, func=np.mean),\n",
    "                             \"var_std\": X_train.apply(axis=0, func=np.std)}) \n",
    "\n",
    "X_train_scaled = pd.DataFrame((X_train[[\"Salnty\"]] - train_stats[\"var_means\"][0]) / train_stats[\"var_std\"][0])\n",
    "\n",
    "X_train_scaled[\"STheta\"] = (X_train[[\"STheta\"]] - train_stats[\"var_means\"][1]) / train_stats[\"var_std\"][1]\n",
    "X_train_scaled[\"O2ml_L\"] = (X_train[[\"O2ml_L\"]] - train_stats[\"var_means\"][2]) / train_stats[\"var_std\"][2]\n",
    "X_train_scaled[\"Depthm\"] = (X_train[[\"Depthm\"]] - train_stats[\"var_means\"][3]) / train_stats[\"var_std\"][3]\n",
    "\n",
    "X_train_scaled.head()"
   ]
  },
  {
   "cell_type": "markdown",
   "metadata": {},
   "source": [
    "Just to verify this work, I've also conducted the same process but, with the `StandardScaler` function. The `head` output shows that it matches the manual approach."
   ]
  },
  {
   "cell_type": "code",
   "execution_count": 18,
   "metadata": {
    "scrolled": true
   },
   "outputs": [
    {
     "data": {
      "text/html": [
       "<div>\n",
       "<style scoped>\n",
       "    .dataframe tbody tr th:only-of-type {\n",
       "        vertical-align: middle;\n",
       "    }\n",
       "\n",
       "    .dataframe tbody tr th {\n",
       "        vertical-align: top;\n",
       "    }\n",
       "\n",
       "    .dataframe thead tr th {\n",
       "        text-align: left;\n",
       "    }\n",
       "</style>\n",
       "<table border=\"1\" class=\"dataframe\">\n",
       "  <thead>\n",
       "    <tr>\n",
       "      <th></th>\n",
       "      <th>Salnty</th>\n",
       "      <th>STheta</th>\n",
       "      <th>O2ml_L</th>\n",
       "      <th>Depthm</th>\n",
       "    </tr>\n",
       "  </thead>\n",
       "  <tbody>\n",
       "    <tr>\n",
       "      <th>0</th>\n",
       "      <td>-0.897090</td>\n",
       "      <td>0.006684</td>\n",
       "      <td>0.597124</td>\n",
       "      <td>-0.288835</td>\n",
       "    </tr>\n",
       "    <tr>\n",
       "      <th>1</th>\n",
       "      <td>1.187976</td>\n",
       "      <td>1.263266</td>\n",
       "      <td>-1.558559</td>\n",
       "      <td>1.072631</td>\n",
       "    </tr>\n",
       "    <tr>\n",
       "      <th>2</th>\n",
       "      <td>-0.934013</td>\n",
       "      <td>-1.854919</td>\n",
       "      <td>1.003127</td>\n",
       "      <td>-0.704034</td>\n",
       "    </tr>\n",
       "    <tr>\n",
       "      <th>3</th>\n",
       "      <td>0.514673</td>\n",
       "      <td>0.326523</td>\n",
       "      <td>-0.543551</td>\n",
       "      <td>-0.395049</td>\n",
       "    </tr>\n",
       "    <tr>\n",
       "      <th>4</th>\n",
       "      <td>0.075940</td>\n",
       "      <td>0.360191</td>\n",
       "      <td>-0.345383</td>\n",
       "      <td>-0.304928</td>\n",
       "    </tr>\n",
       "  </tbody>\n",
       "</table>\n",
       "</div>"
      ],
      "text/plain": [
       "     Salnty    STheta    O2ml_L    Depthm\n",
       "0 -0.897090  0.006684  0.597124 -0.288835\n",
       "1  1.187976  1.263266 -1.558559  1.072631\n",
       "2 -0.934013 -1.854919  1.003127 -0.704034\n",
       "3  0.514673  0.326523 -0.543551 -0.395049\n",
       "4  0.075940  0.360191 -0.345383 -0.304928"
      ]
     },
     "execution_count": 18,
     "metadata": {},
     "output_type": "execute_result"
    }
   ],
   "source": [
    "from sklearn.preprocessing import StandardScaler\n",
    "\n",
    "scaler = StandardScaler()\n",
    "scaler.fit(X_train)\n",
    "sci_kit_scaled = pd.DataFrame(scaler.transform(X_train), columns=[[\"Salnty\", \"STheta\", \"O2ml_L\", \"Depthm\"]])\n",
    "sci_kit_scaled.head()"
   ]
  },
  {
   "cell_type": "markdown",
   "metadata": {},
   "source": [
    "One of the benefits about doing the transformation manually is that the training statistics have been stored to a data frame. This is useful because the test set has to be standardized using the training column means and standard deviations. To do this, I've followed the same standardization procedure here to develop the scaled test set."
   ]
  },
  {
   "cell_type": "code",
   "execution_count": 19,
   "metadata": {},
   "outputs": [
    {
     "data": {
      "text/html": [
       "<div>\n",
       "<style scoped>\n",
       "    .dataframe tbody tr th:only-of-type {\n",
       "        vertical-align: middle;\n",
       "    }\n",
       "\n",
       "    .dataframe tbody tr th {\n",
       "        vertical-align: top;\n",
       "    }\n",
       "\n",
       "    .dataframe thead th {\n",
       "        text-align: right;\n",
       "    }\n",
       "</style>\n",
       "<table border=\"1\" class=\"dataframe\">\n",
       "  <thead>\n",
       "    <tr style=\"text-align: right;\">\n",
       "      <th></th>\n",
       "      <th>Salnty</th>\n",
       "      <th>STheta</th>\n",
       "      <th>O2ml_L</th>\n",
       "      <th>Depthm</th>\n",
       "    </tr>\n",
       "  </thead>\n",
       "  <tbody>\n",
       "    <tr>\n",
       "      <th>369164</th>\n",
       "      <td>1.565894</td>\n",
       "      <td>1.578154</td>\n",
       "      <td>-1.423225</td>\n",
       "      <td>2.492032</td>\n",
       "    </tr>\n",
       "    <tr>\n",
       "      <th>687155</th>\n",
       "      <td>-0.393199</td>\n",
       "      <td>-0.094318</td>\n",
       "      <td>0.669625</td>\n",
       "      <td>-0.675067</td>\n",
       "    </tr>\n",
       "    <tr>\n",
       "      <th>310468</th>\n",
       "      <td>-0.571299</td>\n",
       "      <td>-0.793409</td>\n",
       "      <td>1.143295</td>\n",
       "      <td>-0.642881</td>\n",
       "    </tr>\n",
       "    <tr>\n",
       "      <th>210295</th>\n",
       "      <td>0.145443</td>\n",
       "      <td>0.245326</td>\n",
       "      <td>-0.466218</td>\n",
       "      <td>-0.385393</td>\n",
       "    </tr>\n",
       "    <tr>\n",
       "      <th>721907</th>\n",
       "      <td>-0.977452</td>\n",
       "      <td>-1.102356</td>\n",
       "      <td>1.157795</td>\n",
       "      <td>-0.675067</td>\n",
       "    </tr>\n",
       "  </tbody>\n",
       "</table>\n",
       "</div>"
      ],
      "text/plain": [
       "          Salnty    STheta    O2ml_L    Depthm\n",
       "369164  1.565894  1.578154 -1.423225  2.492032\n",
       "687155 -0.393199 -0.094318  0.669625 -0.675067\n",
       "310468 -0.571299 -0.793409  1.143295 -0.642881\n",
       "210295  0.145443  0.245326 -0.466218 -0.385393\n",
       "721907 -0.977452 -1.102356  1.157795 -0.675067"
      ]
     },
     "execution_count": 19,
     "metadata": {},
     "output_type": "execute_result"
    }
   ],
   "source": [
    "X_test_scaled = pd.DataFrame((X_test[[\"Salnty\"]] - train_stats[\"var_means\"][0]) / train_stats[\"var_std\"][0])\n",
    "\n",
    "X_test_scaled[\"STheta\"] = (X_test[[\"STheta\"]] - train_stats[\"var_means\"][1]) / train_stats[\"var_std\"][1]\n",
    "X_test_scaled[\"O2ml_L\"] = (X_test[[\"O2ml_L\"]] - train_stats[\"var_means\"][2]) / train_stats[\"var_std\"][2]\n",
    "X_test_scaled[\"Depthm\"] = (X_test[[\"Depthm\"]] - train_stats[\"var_means\"][3]) / train_stats[\"var_std\"][3]\n",
    "\n",
    "X_test_scaled.head()"
   ]
  },
  {
   "cell_type": "markdown",
   "metadata": {},
   "source": [
    "### Part C: Linear Regression with sklearn \n",
    "\n",
    "#### Create an instance of the LinearRegression class called \"lin_reg\". Print out the coefficients (including the intercept).\n",
    "\n",
    "Moving into the modelling phase, I've developed a linear regression model using Sci-Kit Learn here. The intercept and slope coefficients for each predictor are included."
   ]
  },
  {
   "cell_type": "code",
   "execution_count": 20,
   "metadata": {},
   "outputs": [
    {
     "name": "stdout",
     "output_type": "stream",
     "text": [
      "Temperature model intercept: 10.916207986932454\n",
      "Temperature model coefficients for Salnty: 1.6316697736471633\n",
      "Temperature model coefficients for STheta: -4.634727452069108\n",
      "Temperature model coefficients for O2ml_L: 0.3013397048854958\n",
      "Temperature model coefficients for Depthm: -0.47520777626713706\n"
     ]
    }
   ],
   "source": [
    "from sklearn.linear_model import LinearRegression\n",
    "import sklearn.metrics as metrics\n",
    "\n",
    "lin_reg = LinearRegression()\n",
    "lin_reg.fit(X_train_scaled, y_train)\n",
    "\n",
    "print(\"Temperature model intercept:\", lin_reg.intercept_[0])\n",
    "print(\"Temperature model coefficients for Salnty:\", lin_reg.coef_[0,0])\n",
    "print(\"Temperature model coefficients for STheta:\", lin_reg.coef_[0,1])\n",
    "print(\"Temperature model coefficients for O2ml_L:\", lin_reg.coef_[0,2])\n",
    "print(\"Temperature model coefficients for Depthm:\", lin_reg.coef_[0,3])"
   ]
  },
  {
   "cell_type": "markdown",
   "metadata": {},
   "source": [
    "#### Predict T_degC for the test data using lin_reg\n",
    "\n",
    "The initial predictions shows a close fit the actual temperature values. As a guess, it looks like these may be an improvement on the previous assignment owing to additional predictors."
   ]
  },
  {
   "cell_type": "code",
   "execution_count": 21,
   "metadata": {},
   "outputs": [
    {
     "data": {
      "text/html": [
       "<div>\n",
       "<style scoped>\n",
       "    .dataframe tbody tr th:only-of-type {\n",
       "        vertical-align: middle;\n",
       "    }\n",
       "\n",
       "    .dataframe tbody tr th {\n",
       "        vertical-align: top;\n",
       "    }\n",
       "\n",
       "    .dataframe thead th {\n",
       "        text-align: right;\n",
       "    }\n",
       "</style>\n",
       "<table border=\"1\" class=\"dataframe\">\n",
       "  <thead>\n",
       "    <tr style=\"text-align: right;\">\n",
       "      <th></th>\n",
       "      <th>T_degC</th>\n",
       "      <th>y_pred_sklearn</th>\n",
       "    </tr>\n",
       "  </thead>\n",
       "  <tbody>\n",
       "    <tr>\n",
       "      <th>369164</th>\n",
       "      <td>4.45</td>\n",
       "      <td>4.543807</td>\n",
       "    </tr>\n",
       "    <tr>\n",
       "      <th>687155</th>\n",
       "      <td>11.13</td>\n",
       "      <td>11.234354</td>\n",
       "    </tr>\n",
       "    <tr>\n",
       "      <th>310468</th>\n",
       "      <td>14.41</td>\n",
       "      <td>14.311293</td>\n",
       "    </tr>\n",
       "    <tr>\n",
       "      <th>210295</th>\n",
       "      <td>10.29</td>\n",
       "      <td>10.059156</td>\n",
       "    </tr>\n",
       "    <tr>\n",
       "      <th>721907</th>\n",
       "      <td>15.19</td>\n",
       "      <td>15.100134</td>\n",
       "    </tr>\n",
       "    <tr>\n",
       "      <th>411022</th>\n",
       "      <td>8.24</td>\n",
       "      <td>8.407105</td>\n",
       "    </tr>\n",
       "    <tr>\n",
       "      <th>818821</th>\n",
       "      <td>13.81</td>\n",
       "      <td>13.844015</td>\n",
       "    </tr>\n",
       "    <tr>\n",
       "      <th>798092</th>\n",
       "      <td>8.67</td>\n",
       "      <td>8.763513</td>\n",
       "    </tr>\n",
       "    <tr>\n",
       "      <th>2504</th>\n",
       "      <td>9.37</td>\n",
       "      <td>9.979576</td>\n",
       "    </tr>\n",
       "    <tr>\n",
       "      <th>373526</th>\n",
       "      <td>15.17</td>\n",
       "      <td>15.066403</td>\n",
       "    </tr>\n",
       "  </tbody>\n",
       "</table>\n",
       "</div>"
      ],
      "text/plain": [
       "        T_degC  y_pred_sklearn\n",
       "369164    4.45        4.543807\n",
       "687155   11.13       11.234354\n",
       "310468   14.41       14.311293\n",
       "210295   10.29       10.059156\n",
       "721907   15.19       15.100134\n",
       "411022    8.24        8.407105\n",
       "818821   13.81       13.844015\n",
       "798092    8.67        8.763513\n",
       "2504      9.37        9.979576\n",
       "373526   15.17       15.066403"
      ]
     },
     "execution_count": 21,
     "metadata": {},
     "output_type": "execute_result"
    }
   ],
   "source": [
    "y_test[\"y_pred_sklearn\"] = lin_reg.predict(X_test_scaled)\n",
    "\n",
    "y_test.head(10)"
   ]
  },
  {
   "cell_type": "markdown",
   "metadata": {},
   "source": [
    "#### Calculate the following for the test data: mean squared error, r-squared, and explained variance\n",
    "\n",
    "Each evaluation metric is included below. All of them show the model has a very good fit with very accurate predictions. Statring with Mean Squared Error (MSE), a .11 indicates the the predictions are very close to the actuals. Zero is the ideal number here so it's about as low as you could reasonably expect. The  $R^2$  is .994, which shows a very good fit. As a metric, $R^2  =  1 − \\frac{SSE}{SST}$ , which is the sum of squared errors divided by the some of squares total. This provides the amount of variance explained by the model about the outcome variable. In this case, this suggests that the linear regression model with Salnty and STheta explains about 99.38% of the variance in temperature. All of these are improvements over last week's result."
   ]
  },
  {
   "cell_type": "code",
   "execution_count": 22,
   "metadata": {},
   "outputs": [
    {
     "name": "stdout",
     "output_type": "stream",
     "text": [
      "Temperature prediction model R2 for test: 0.994\n",
      "Temperature prediction model MSE for test: 0.111\n",
      "Temperature prediction variance explanation for test: 99.38 percent\n"
     ]
    }
   ],
   "source": [
    "print(\"Temperature prediction model R2 for test:\", metrics.r2_score(y_test[\"T_degC\"], y_test[\"y_pred_sklearn\"]).round(3))\n",
    "print(\"Temperature prediction model MSE for test:\", \n",
    "      metrics.mean_squared_error(y_test[\"T_degC\"], y_test[\"y_pred_sklearn\"]).round(3))\n",
    "print(\"Temperature prediction variance explanation for test:\", \n",
    "      metrics.r2_score(y_test[\"T_degC\"], y_test[\"y_pred_sklearn\"]).round(4) * 100, \"percent\"\n",
    "     )"
   ]
  },
  {
   "cell_type": "markdown",
   "metadata": {},
   "source": [
    "#### Create a scatterplot that shows actual versus predicted values for the T_degC for the test data\n",
    "\n",
    "The plot between the predicted and actual values reinforces the goodness of fit metrics. Interestingly, there seems to be a slight non-linear trend between the values but, the predictions look very good overall."
   ]
  },
  {
   "cell_type": "code",
   "execution_count": 24,
   "metadata": {},
   "outputs": [
    {
     "data": {
      "text/plain": [
       "<matplotlib.axes._subplots.AxesSubplot at 0x2741c4558d0>"
      ]
     },
     "execution_count": 24,
     "metadata": {},
     "output_type": "execute_result"
    },
    {
     "data": {
      "image/png": "[encoded data removed]",
      "text/plain": [
       "<matplotlib.figure.Figure at 0x2741c4552b0>"
      ]
     },
     "metadata": {},
     "output_type": "display_data"
    }
   ],
   "source": [
    "y_test.plot(kind=\"scatter\", x=\"y_pred_sklearn\", y=\"T_degC\", alpha=.1,\n",
    "            title=\"Scatterplot between Actual & Sci-Kit Predictions \\n Predictions appear very close to actuals\")"
   ]
  },
  {
   "cell_type": "markdown",
   "metadata": {},
   "source": [
    "### Part D: Gradient Descent Mini-Batch\n",
    "\n",
    "#### Add a column of 1s to X_train_scaled and X_test_scaled.\n",
    "\n",
    "For the modelling work, I've started by adding an intercept column to both the  train and test predictor sets. The printout shows this was executed successfully."
   ]
  },
  {
   "cell_type": "code",
   "execution_count": 183,
   "metadata": {
    "scrolled": true
   },
   "outputs": [
    {
     "data": {
      "text/html": [
       "<div>\n",
       "<style scoped>\n",
       "    .dataframe tbody tr th:only-of-type {\n",
       "        vertical-align: middle;\n",
       "    }\n",
       "\n",
       "    .dataframe tbody tr th {\n",
       "        vertical-align: top;\n",
       "    }\n",
       "\n",
       "    .dataframe thead th {\n",
       "        text-align: right;\n",
       "    }\n",
       "</style>\n",
       "<table border=\"1\" class=\"dataframe\">\n",
       "  <thead>\n",
       "    <tr style=\"text-align: right;\">\n",
       "      <th></th>\n",
       "      <th>Intercept</th>\n",
       "      <th>Salnty</th>\n",
       "      <th>STheta</th>\n",
       "      <th>O2ml_L</th>\n",
       "      <th>Depthm</th>\n",
       "    </tr>\n",
       "  </thead>\n",
       "  <tbody>\n",
       "    <tr>\n",
       "      <th>369164</th>\n",
       "      <td>1.0</td>\n",
       "      <td>1.565894</td>\n",
       "      <td>1.578154</td>\n",
       "      <td>-1.423225</td>\n",
       "      <td>2.492032</td>\n",
       "    </tr>\n",
       "    <tr>\n",
       "      <th>687155</th>\n",
       "      <td>1.0</td>\n",
       "      <td>-0.393199</td>\n",
       "      <td>-0.094318</td>\n",
       "      <td>0.669625</td>\n",
       "      <td>-0.675067</td>\n",
       "    </tr>\n",
       "    <tr>\n",
       "      <th>310468</th>\n",
       "      <td>1.0</td>\n",
       "      <td>-0.571299</td>\n",
       "      <td>-0.793409</td>\n",
       "      <td>1.143295</td>\n",
       "      <td>-0.642881</td>\n",
       "    </tr>\n",
       "    <tr>\n",
       "      <th>210295</th>\n",
       "      <td>1.0</td>\n",
       "      <td>0.145443</td>\n",
       "      <td>0.245326</td>\n",
       "      <td>-0.466218</td>\n",
       "      <td>-0.385393</td>\n",
       "    </tr>\n",
       "    <tr>\n",
       "      <th>721907</th>\n",
       "      <td>1.0</td>\n",
       "      <td>-0.977452</td>\n",
       "      <td>-1.102356</td>\n",
       "      <td>1.157795</td>\n",
       "      <td>-0.675067</td>\n",
       "    </tr>\n",
       "  </tbody>\n",
       "</table>\n",
       "</div>"
      ],
      "text/plain": [
       "        Intercept    Salnty    STheta    O2ml_L    Depthm\n",
       "369164        1.0  1.565894  1.578154 -1.423225  2.492032\n",
       "687155        1.0 -0.393199 -0.094318  0.669625 -0.675067\n",
       "310468        1.0 -0.571299 -0.793409  1.143295 -0.642881\n",
       "210295        1.0  0.145443  0.245326 -0.466218 -0.385393\n",
       "721907        1.0 -0.977452 -1.102356  1.157795 -0.675067"
      ]
     },
     "execution_count": 183,
     "metadata": {},
     "output_type": "execute_result"
    }
   ],
   "source": [
    "X_train_scaled[\"Intercept\"] = np.ones(len(X_train_scaled))\n",
    "X_train_scaled = X_train_scaled[[\"Intercept\", \"Salnty\", \"STheta\", \"O2ml_L\", \"Depthm\"]]\n",
    "\n",
    "X_test_scaled[\"Intercept\"] = np.ones(len(X_test_scaled))\n",
    "X_test_scaled = X_test_scaled[[\"Intercept\", \"Salnty\", \"STheta\", \"O2ml_L\", \"Depthm\"]]"
   ]
  },
  {
   "cell_type": "markdown",
   "metadata": {},
   "source": [
    "The assignment calls for developing linear regression models with mini-batch gradient descent using different batch sizes. Additionally, it outlines the need to review train and test evaluation metrics alongside a scatterplot for the actuals versus predicted values. Given this coding work is repetitive since each batch size requires the same basic code structure, I've developed a function that develops the regression model using mini-batch gradient descent and then provides the metrics and plot in a dictionary, which can be accessed to review the work. The only input variable needed is the batch number; here, I'll be using 50, 250, and 2000 as mini-batch sizes. To eta and epoch size are set to .1 and 100 respectively.  "
   ]
  },
  {
   "cell_type": "code",
   "execution_count": 363,
   "metadata": {},
   "outputs": [],
   "source": [
    "def gradient_batch_review(batch_n):\n",
    "\n",
    "    theta_path_mgd = []\n",
    "\n",
    "    m = len(X_train_scaled)\n",
    "    n_iterations = 100\n",
    "    minibatch_size = batch_n\n",
    "\n",
    "    np.random.seed(1017)\n",
    "    theta = np.random.randn(5, 1)\n",
    "\n",
    "    for epoch in range(n_iterations):\n",
    "        shuffled_indices = np.random.permutation(m)\n",
    "        X_b_shuffled = np.array(X_train_scaled)[shuffled_indices]\n",
    "        y_shuffled = np.array(y_train)[shuffled_indices]\n",
    "        for i in range(0, m, minibatch_size):\n",
    "            xi = X_b_shuffled[i:i+minibatch_size]\n",
    "            yi = y_shuffled[i:i+minibatch_size]\n",
    "            gradients = 2 / minibatch_size * xi.T.dot(xi.dot(theta) - yi)\n",
    "            eta = .1\n",
    "            theta = theta - eta * gradients\n",
    "            theta_path_mgd.append(theta)\n",
    "            \n",
    "    train_fitted = X_train_scaled.dot(theta)\n",
    "    test_preds = X_test_scaled.dot(theta)\n",
    "    \n",
    "    theta_df = pd.DataFrame(theta, columns=[\"Coefficient\"])\n",
    "    theta_df[\"Variable\"] = pd.Series([\"Intercept\", \"Salnty\", \"STheta\", \"O2ml_L\", \"Depthm\"], dtype=\"category\")\n",
    "    theta_df = theta_df[[\"Variable\", \"Coefficient\"]]\n",
    "    \n",
    "    train_metrics = (metrics.r2_score(y_train[\"T_degC\"], train_fitted).round(3),\n",
    "                     metrics.mean_squared_error(y_train[\"T_degC\"], train_fitted).round(3),\n",
    "                     metrics.r2_score(y_train[\"T_degC\"], train_fitted).round(4) * 100)\n",
    "    \n",
    "    test_metrics = (metrics.r2_score(y_test[\"T_degC\"], test_preds).round(3),\n",
    "                    metrics.mean_squared_error(y_test[\"T_degC\"], test_preds).round(3),\n",
    "                    metrics.r2_score(y_test[\"T_degC\"], test_preds).round(4) * 100)\n",
    "    \n",
    "    model_metrics = pd.DataFrame({\n",
    "        \"Metric\": pd.Series([\"R2\", \"MSE\", \"Var_exp\"], dtype=\"category\"),\n",
    "        \"Test\": list(test_metrics),\n",
    "        \"Train\": list(train_metrics)\n",
    "    })\n",
    "    model_metrics = model_metrics[[\"Metric\", \"Train\", \"Test\"]]\n",
    "    \n",
    "    y_test[\"y_pred\"] = test_preds\n",
    "    plot = y_test.plot(kind=\"scatter\", x=\"y_pred\", y=\"T_degC\", alpha=.1,\n",
    "                       title=\"Scatterplot between Actual & Predictions \\n Predictions appear very close to actuals\")\n",
    "    \n",
    "    print(\"Gradient Descent batch number:\", batch_n)\n",
    "    \n",
    "    output = {\"metrics\": model_metrics, \"theta\": theta_df, \"plot\": plot}\n",
    "    \n",
    "    \n",
    "    return(output)"
   ]
  },
  {
   "cell_type": "markdown",
   "metadata": {},
   "source": [
    "#### 50 Batch Gradient Descent\n",
    "\n",
    "The plot for actuals versus predicted shows the 50 batch size provides excellent predictions. "
   ]
  },
  {
   "cell_type": "code",
   "execution_count": 364,
   "metadata": {},
   "outputs": [
    {
     "name": "stdout",
     "output_type": "stream",
     "text": [
      "Gradient Descent batch number: 50\n"
     ]
    },
    {
     "data": {
      "image/png": "[encoded data removed]",
      "text/plain": [
       "<matplotlib.figure.Figure at 0x267ade99320>"
      ]
     },
     "metadata": {},
     "output_type": "display_data"
    }
   ],
   "source": [
    "gradient_batch_50 = gradient_batch_review(batch_n=50)"
   ]
  },
  {
   "cell_type": "code",
   "execution_count": 351,
   "metadata": {
    "scrolled": true
   },
   "outputs": [
    {
     "data": {
      "text/html": [
       "<div>\n",
       "<style scoped>\n",
       "    .dataframe tbody tr th:only-of-type {\n",
       "        vertical-align: middle;\n",
       "    }\n",
       "\n",
       "    .dataframe tbody tr th {\n",
       "        vertical-align: top;\n",
       "    }\n",
       "\n",
       "    .dataframe thead th {\n",
       "        text-align: right;\n",
       "    }\n",
       "</style>\n",
       "<table border=\"1\" class=\"dataframe\">\n",
       "  <thead>\n",
       "    <tr style=\"text-align: right;\">\n",
       "      <th></th>\n",
       "      <th>Variable</th>\n",
       "      <th>Coefficient</th>\n",
       "    </tr>\n",
       "  </thead>\n",
       "  <tbody>\n",
       "    <tr>\n",
       "      <th>0</th>\n",
       "      <td>Intercept</td>\n",
       "      <td>10.948351</td>\n",
       "    </tr>\n",
       "    <tr>\n",
       "      <th>1</th>\n",
       "      <td>Salnty</td>\n",
       "      <td>1.692036</td>\n",
       "    </tr>\n",
       "    <tr>\n",
       "      <th>2</th>\n",
       "      <td>STheta</td>\n",
       "      <td>-4.731512</td>\n",
       "    </tr>\n",
       "    <tr>\n",
       "      <th>3</th>\n",
       "      <td>O2ml_L</td>\n",
       "      <td>0.284208</td>\n",
       "    </tr>\n",
       "    <tr>\n",
       "      <th>4</th>\n",
       "      <td>Depthm</td>\n",
       "      <td>-0.483179</td>\n",
       "    </tr>\n",
       "  </tbody>\n",
       "</table>\n",
       "</div>"
      ],
      "text/plain": [
       "    Variable  Coefficient\n",
       "0  Intercept    10.948351\n",
       "1     Salnty     1.692036\n",
       "2     STheta    -4.731512\n",
       "3     O2ml_L     0.284208\n",
       "4     Depthm    -0.483179"
      ]
     },
     "execution_count": 351,
     "metadata": {},
     "output_type": "execute_result"
    }
   ],
   "source": [
    "gradient_batch_50[\"theta\"]"
   ]
  },
  {
   "cell_type": "markdown",
   "metadata": {},
   "source": [
    "However, it does not have metrics equal to the sci-kit learn predictions. There is also a small drop between train and test. As such, this does not seem like the best solution."
   ]
  },
  {
   "cell_type": "code",
   "execution_count": 365,
   "metadata": {},
   "outputs": [
    {
     "data": {
      "text/html": [
       "<div>\n",
       "<style scoped>\n",
       "    .dataframe tbody tr th:only-of-type {\n",
       "        vertical-align: middle;\n",
       "    }\n",
       "\n",
       "    .dataframe tbody tr th {\n",
       "        vertical-align: top;\n",
       "    }\n",
       "\n",
       "    .dataframe thead th {\n",
       "        text-align: right;\n",
       "    }\n",
       "</style>\n",
       "<table border=\"1\" class=\"dataframe\">\n",
       "  <thead>\n",
       "    <tr style=\"text-align: right;\">\n",
       "      <th></th>\n",
       "      <th>Metric</th>\n",
       "      <th>Train</th>\n",
       "      <th>Test</th>\n",
       "    </tr>\n",
       "  </thead>\n",
       "  <tbody>\n",
       "    <tr>\n",
       "      <th>0</th>\n",
       "      <td>R2</td>\n",
       "      <td>0.994</td>\n",
       "      <td>0.993</td>\n",
       "    </tr>\n",
       "    <tr>\n",
       "      <th>1</th>\n",
       "      <td>MSE</td>\n",
       "      <td>0.116</td>\n",
       "      <td>0.117</td>\n",
       "    </tr>\n",
       "    <tr>\n",
       "      <th>2</th>\n",
       "      <td>Var_exp</td>\n",
       "      <td>99.350</td>\n",
       "      <td>99.340</td>\n",
       "    </tr>\n",
       "  </tbody>\n",
       "</table>\n",
       "</div>"
      ],
      "text/plain": [
       "    Metric   Train    Test\n",
       "0       R2   0.994   0.993\n",
       "1      MSE   0.116   0.117\n",
       "2  Var_exp  99.350  99.340"
      ]
     },
     "execution_count": 365,
     "metadata": {},
     "output_type": "execute_result"
    }
   ],
   "source": [
    "gradient_batch_50[\"metrics\"]"
   ]
  },
  {
   "cell_type": "markdown",
   "metadata": {},
   "source": [
    "#### 250 Batch Gradient Descent\n",
    "\n",
    "The plot for actuals versus predicted shows the 250 batch size again highlights excellent predictions. "
   ]
  },
  {
   "cell_type": "code",
   "execution_count": 367,
   "metadata": {
    "scrolled": true
   },
   "outputs": [
    {
     "name": "stdout",
     "output_type": "stream",
     "text": [
      "Gradient Descent batch number: 250\n"
     ]
    },
    {
     "data": {
      "image/png": "[encoded data removed]",
      "text/plain": [
       "<matplotlib.figure.Figure at 0x2678c39f6d8>"
      ]
     },
     "metadata": {},
     "output_type": "display_data"
    }
   ],
   "source": [
    "gradient_batch_250 = gradient_batch_review(batch_n=250)"
   ]
  },
  {
   "cell_type": "markdown",
   "metadata": {},
   "source": [
    "It's alo evident that the regression coefficients are changing with increased batch size. These values are slightly different than the 50 batch."
   ]
  },
  {
   "cell_type": "code",
   "execution_count": 369,
   "metadata": {
    "scrolled": true
   },
   "outputs": [
    {
     "data": {
      "text/html": [
       "<div>\n",
       "<style scoped>\n",
       "    .dataframe tbody tr th:only-of-type {\n",
       "        vertical-align: middle;\n",
       "    }\n",
       "\n",
       "    .dataframe tbody tr th {\n",
       "        vertical-align: top;\n",
       "    }\n",
       "\n",
       "    .dataframe thead th {\n",
       "        text-align: right;\n",
       "    }\n",
       "</style>\n",
       "<table border=\"1\" class=\"dataframe\">\n",
       "  <thead>\n",
       "    <tr style=\"text-align: right;\">\n",
       "      <th></th>\n",
       "      <th>Variable</th>\n",
       "      <th>Coefficient</th>\n",
       "    </tr>\n",
       "  </thead>\n",
       "  <tbody>\n",
       "    <tr>\n",
       "      <th>0</th>\n",
       "      <td>Intercept</td>\n",
       "      <td>10.930903</td>\n",
       "    </tr>\n",
       "    <tr>\n",
       "      <th>1</th>\n",
       "      <td>Salnty</td>\n",
       "      <td>1.655623</td>\n",
       "    </tr>\n",
       "    <tr>\n",
       "      <th>2</th>\n",
       "      <td>STheta</td>\n",
       "      <td>-4.663107</td>\n",
       "    </tr>\n",
       "    <tr>\n",
       "      <th>3</th>\n",
       "      <td>O2ml_L</td>\n",
       "      <td>0.287507</td>\n",
       "    </tr>\n",
       "    <tr>\n",
       "      <th>4</th>\n",
       "      <td>Depthm</td>\n",
       "      <td>-0.467058</td>\n",
       "    </tr>\n",
       "  </tbody>\n",
       "</table>\n",
       "</div>"
      ],
      "text/plain": [
       "    Variable  Coefficient\n",
       "0  Intercept    10.930903\n",
       "1     Salnty     1.655623\n",
       "2     STheta    -4.663107\n",
       "3     O2ml_L     0.287507\n",
       "4     Depthm    -0.467058"
      ]
     },
     "execution_count": 369,
     "metadata": {},
     "output_type": "execute_result"
    }
   ],
   "source": [
    "gradient_batch_250[\"theta\"]"
   ]
  },
  {
   "cell_type": "markdown",
   "metadata": {},
   "source": [
    "These evaluation metrics are closer to the sci-kit predictions but, still far slightly shows. The train and test drop is still evident as well."
   ]
  },
  {
   "cell_type": "code",
   "execution_count": 370,
   "metadata": {},
   "outputs": [
    {
     "data": {
      "text/html": [
       "<div>\n",
       "<style scoped>\n",
       "    .dataframe tbody tr th:only-of-type {\n",
       "        vertical-align: middle;\n",
       "    }\n",
       "\n",
       "    .dataframe tbody tr th {\n",
       "        vertical-align: top;\n",
       "    }\n",
       "\n",
       "    .dataframe thead th {\n",
       "        text-align: right;\n",
       "    }\n",
       "</style>\n",
       "<table border=\"1\" class=\"dataframe\">\n",
       "  <thead>\n",
       "    <tr style=\"text-align: right;\">\n",
       "      <th></th>\n",
       "      <th>Metric</th>\n",
       "      <th>Train</th>\n",
       "      <th>Test</th>\n",
       "    </tr>\n",
       "  </thead>\n",
       "  <tbody>\n",
       "    <tr>\n",
       "      <th>0</th>\n",
       "      <td>R2</td>\n",
       "      <td>0.994</td>\n",
       "      <td>0.994</td>\n",
       "    </tr>\n",
       "    <tr>\n",
       "      <th>1</th>\n",
       "      <td>MSE</td>\n",
       "      <td>0.111</td>\n",
       "      <td>0.112</td>\n",
       "    </tr>\n",
       "    <tr>\n",
       "      <th>2</th>\n",
       "      <td>Var_exp</td>\n",
       "      <td>99.380</td>\n",
       "      <td>99.370</td>\n",
       "    </tr>\n",
       "  </tbody>\n",
       "</table>\n",
       "</div>"
      ],
      "text/plain": [
       "    Metric   Train    Test\n",
       "0       R2   0.994   0.994\n",
       "1      MSE   0.111   0.112\n",
       "2  Var_exp  99.380  99.370"
      ]
     },
     "execution_count": 370,
     "metadata": {},
     "output_type": "execute_result"
    }
   ],
   "source": [
    "gradient_batch_250[\"metrics\"]"
   ]
  },
  {
   "cell_type": "markdown",
   "metadata": {},
   "source": [
    "#### 2000 Batch Gradient Descent\n",
    "\n",
    "The plot for actuals versus predicted shows the 2000 batch size provides excellent predictions, which is not surprising at this point. "
   ]
  },
  {
   "cell_type": "code",
   "execution_count": 371,
   "metadata": {},
   "outputs": [
    {
     "name": "stdout",
     "output_type": "stream",
     "text": [
      "Gradient Descent batch number: 2000\n"
     ]
    },
    {
     "data": {
      "image/png": "[encoded data removed]",
      "text/plain": [
       "<matplotlib.figure.Figure at 0x267a42d6470>"
      ]
     },
     "metadata": {},
     "output_type": "display_data"
    }
   ],
   "source": [
    "gradient_batch_2000 = gradient_batch_review(batch_n=2000)"
   ]
  },
  {
   "cell_type": "markdown",
   "metadata": {},
   "source": [
    "The coefficients have changed slightly again here."
   ]
  },
  {
   "cell_type": "code",
   "execution_count": 372,
   "metadata": {
    "scrolled": true
   },
   "outputs": [
    {
     "data": {
      "text/html": [
       "<div>\n",
       "<style scoped>\n",
       "    .dataframe tbody tr th:only-of-type {\n",
       "        vertical-align: middle;\n",
       "    }\n",
       "\n",
       "    .dataframe tbody tr th {\n",
       "        vertical-align: top;\n",
       "    }\n",
       "\n",
       "    .dataframe thead th {\n",
       "        text-align: right;\n",
       "    }\n",
       "</style>\n",
       "<table border=\"1\" class=\"dataframe\">\n",
       "  <thead>\n",
       "    <tr style=\"text-align: right;\">\n",
       "      <th></th>\n",
       "      <th>Variable</th>\n",
       "      <th>Coefficient</th>\n",
       "    </tr>\n",
       "  </thead>\n",
       "  <tbody>\n",
       "    <tr>\n",
       "      <th>0</th>\n",
       "      <td>Intercept</td>\n",
       "      <td>10.919585</td>\n",
       "    </tr>\n",
       "    <tr>\n",
       "      <th>1</th>\n",
       "      <td>Salnty</td>\n",
       "      <td>1.643405</td>\n",
       "    </tr>\n",
       "    <tr>\n",
       "      <th>2</th>\n",
       "      <td>STheta</td>\n",
       "      <td>-4.643295</td>\n",
       "    </tr>\n",
       "    <tr>\n",
       "      <th>3</th>\n",
       "      <td>O2ml_L</td>\n",
       "      <td>0.301819</td>\n",
       "    </tr>\n",
       "    <tr>\n",
       "      <th>4</th>\n",
       "      <td>Depthm</td>\n",
       "      <td>-0.472341</td>\n",
       "    </tr>\n",
       "  </tbody>\n",
       "</table>\n",
       "</div>"
      ],
      "text/plain": [
       "    Variable  Coefficient\n",
       "0  Intercept    10.919585\n",
       "1     Salnty     1.643405\n",
       "2     STheta    -4.643295\n",
       "3     O2ml_L     0.301819\n",
       "4     Depthm    -0.472341"
      ]
     },
     "execution_count": 372,
     "metadata": {},
     "output_type": "execute_result"
    }
   ],
   "source": [
    "gradient_batch_2000[\"theta\"]"
   ]
  },
  {
   "cell_type": "markdown",
   "metadata": {},
   "source": [
    "Finally, the larger batch size shows metrics equal to the sci-kit predictions. Interestingly, these are achieved with coefficients that are slightly different as well, though the difference is nominal."
   ]
  },
  {
   "cell_type": "code",
   "execution_count": 373,
   "metadata": {},
   "outputs": [
    {
     "data": {
      "text/html": [
       "<div>\n",
       "<style scoped>\n",
       "    .dataframe tbody tr th:only-of-type {\n",
       "        vertical-align: middle;\n",
       "    }\n",
       "\n",
       "    .dataframe tbody tr th {\n",
       "        vertical-align: top;\n",
       "    }\n",
       "\n",
       "    .dataframe thead th {\n",
       "        text-align: right;\n",
       "    }\n",
       "</style>\n",
       "<table border=\"1\" class=\"dataframe\">\n",
       "  <thead>\n",
       "    <tr style=\"text-align: right;\">\n",
       "      <th></th>\n",
       "      <th>Metric</th>\n",
       "      <th>Train</th>\n",
       "      <th>Test</th>\n",
       "    </tr>\n",
       "  </thead>\n",
       "  <tbody>\n",
       "    <tr>\n",
       "      <th>0</th>\n",
       "      <td>R2</td>\n",
       "      <td>0.994</td>\n",
       "      <td>0.994</td>\n",
       "    </tr>\n",
       "    <tr>\n",
       "      <th>1</th>\n",
       "      <td>MSE</td>\n",
       "      <td>0.111</td>\n",
       "      <td>0.111</td>\n",
       "    </tr>\n",
       "    <tr>\n",
       "      <th>2</th>\n",
       "      <td>Var_exp</td>\n",
       "      <td>99.380</td>\n",
       "      <td>99.380</td>\n",
       "    </tr>\n",
       "  </tbody>\n",
       "</table>\n",
       "</div>"
      ],
      "text/plain": [
       "    Metric   Train    Test\n",
       "0       R2   0.994   0.994\n",
       "1      MSE   0.111   0.111\n",
       "2  Var_exp  99.380  99.380"
      ]
     },
     "execution_count": 373,
     "metadata": {},
     "output_type": "execute_result"
    }
   ],
   "source": [
    "gradient_batch_2000[\"metrics\"]"
   ]
  },
  {
   "cell_type": "markdown",
   "metadata": {},
   "source": [
    "### Part E: Conceptual Questions\n",
    "\n",
    "#### 1) Describe how parameter estimation in Gradient Descent differs from using the normal equation.\n",
    "\n",
    "The normal equation computes parameters using a specified mathematical form (the equation). This means that the equation directly creates a best fit model using the given data. In contrast, gradient descent is a more iterative optimization approach. Using this method, the model parameters are continually updated over the training set as the given cost function is minimized. All considered, both methods will yield the same basic parameters but, the gradient descent approach is more iterative while the normal equation is a more fixed, closed equation.\n",
    "\n",
    "#### 2) We used Mini-Batch Gradient descent here, but there are a variety of options for Gradient Descent. How is Mini-Batch Gradient Descent different from Stochastic Gradient Descent?\n",
    "\n",
    "Stochastic gradient descent using a random point from the training data to compute gradient based on that point alone. In contrast to batch gradient descent which uses the entire set to compute gradients, thus becoming very slow and memory intensive, stochastic is computational efficient. However, because these points are chosen at random (i.e. stochastic) the gradient training can become irregular making jumps. While it can eventually come close to a minimum, the approach can still jump around when there so the final parameters are not as good as other methods. Mini-batch offers a compromise between batch and stochastic gradient descent because instead of using the whole set or one point, it uses a small set of randomized training data to compute gradients. This means that the method still has some jumping around but, is less erratic than the stochastic method. Overall, min-batch ends up being a more powerful than the stochastic variant which can result in performance boosts.\n",
    "\n",
    "#### 3) Identify your best-performing version of Gradient Descent and compare the error metrics for test data vs training data. Does this version of gradient descent show signs of overfitting? Explain.\n",
    "\n",
    "The best performing gradient descent I had was with 2000 batches. This not only showed the highest test metrics but, the best convergence between training and test. Overall, because the training and test metrics were fairly even throughout, none of the models showed any major overfitting. Overfitting occurs when there is a large variance between training and test metrics, which is not on display here. While the 250 and 50 batches showed some deviance between train and test but, even these were quite close so overall, I don’t think overfitting was an issue here.\n",
    "\n",
    "#### 4) Explain what the learning rate is for. Even though we did not, why might it be helpful to change the learning rate over time?\n",
    "\n",
    "Learning rate is the hyperparameter that controls the size of steps in gradient descent. Smaller learning rates means a slower convergence given the gradient descent has to go through more steps before finding a minimum. Conversely, a higher rate might find a convergence quicker but, also runs the risk of oscillating between two sides (jumping). This trade-off highlights why changing the rate over time might be useful. Starting high might be a good way to work towards convergence while also escaping local minima but, it might be a good choice to reduce the rate once close to the final point. For these reasons, it’s helpful to augment the learning rate over time, which in practice can be done by a function known as a learning schedule.\n",
    "\n",
    "#### 5) Why would a data scientist want to use early stopping in gradient descent?\n",
    "\n",
    "Early stopping can be essential because it helps avoid overfitting. In gradient descent, the learner might be at the bottom of the bowl or general convex but, slowly working towards a minimum without much progress. At this point, there might be a good solution but, continuing to look for a perfect minimum is time consuming. Further, this continued search may encourage overfitting where the iterations are over tuning the parameters on the training sample, which can hinder test performance. With this in mind, early stopping in gradient descent acts as a regularization method."
   ]
  },
  {
   "cell_type": "code",
   "execution_count": 374,
   "metadata": {},
   "outputs": [
    {
     "data": {
      "text/plain": [
       "'C:\\\\Users\\\\Mark\\\\Machine Learning 2'"
      ]
     },
     "execution_count": 374,
     "metadata": {},
     "output_type": "execute_result"
    }
   ],
   "source": [
    "import os\n",
    "os.getcwd()"
   ]
  }
 ],
 "metadata": {
  "kernelspec": {
   "display_name": "Python 3",
   "language": "python",
   "name": "python3"
  },
  "language_info": {
   "codemirror_mode": {
    "name": "ipython",
    "version": 3
   },
   "file_extension": ".py",
   "mimetype": "text/x-python",
   "name": "python",
   "nbconvert_exporter": "python",
   "pygments_lexer": "ipython3",
   "version": "3.6.4"
  }
 },
 "nbformat": 4,
 "nbformat_minor": 2
}
