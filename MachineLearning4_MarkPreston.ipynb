{
 "cells": [
  {
   "cell_type": "markdown",
   "metadata": {},
   "source": [
    "# Machine Learning 4: Random Forrest for Binary Classification\n",
    "\n",
    "## Submission by: Mark Preston\n",
    "\n",
    "This week, I'll be using a data set focused on consumer credit default. The set includes various features around financial history and demographic information. The target variable is \"default payment next month\", which is just a binary flag of whether a customer defaults on a payment in the next month. \n",
    "\n",
    "### Data Processing\n",
    "\n",
    "To start, I've loaded the initial data and highlighted the set dimensions."
   ]
  },
  {
   "cell_type": "code",
   "execution_count": 3,
   "metadata": {},
   "outputs": [
    {
     "name": "stdout",
     "output_type": "stream",
     "text": [
      "The initial credit default data has 30000 rows and 24 columns\n"
     ]
    }
   ],
   "source": [
    "import pandas as pd\n",
    "\n",
    "pd.options.mode.chained_assignment = None\n",
    "\n",
    "credit_default = pd.read_csv(\"credit_default_data.csv\", low_memory=False)\n",
    "\n",
    "print(\"The initial credit default data has\", \n",
    "      credit_default.shape[0], \"rows and\", \n",
    "      credit_default.shape[1],  \"columns\")"
   ]
  },
  {
   "cell_type": "markdown",
   "metadata": {},
   "source": [
    "As always, it's essential to review the cleanliness of the data set. To this end, I've constructed the null counts for each column. Fortunately, this data set doesn't seem to have any major hygiene issues so it can be used as is since there are no null values to drop."
   ]
  },
  {
   "cell_type": "code",
   "execution_count": 2,
   "metadata": {
    "scrolled": false
   },
   "outputs": [
    {
     "data": {
      "text/html": [
       "<div>\n",
       "<style scoped>\n",
       "    .dataframe tbody tr th:only-of-type {\n",
       "        vertical-align: middle;\n",
       "    }\n",
       "\n",
       "    .dataframe tbody tr th {\n",
       "        vertical-align: top;\n",
       "    }\n",
       "\n",
       "    .dataframe thead th {\n",
       "        text-align: right;\n",
       "    }\n",
       "</style>\n",
       "<table border=\"1\" class=\"dataframe\">\n",
       "  <thead>\n",
       "    <tr style=\"text-align: right;\">\n",
       "      <th></th>\n",
       "      <th>is_null_count</th>\n",
       "    </tr>\n",
       "  </thead>\n",
       "  <tbody>\n",
       "    <tr>\n",
       "      <th>LIMIT_BAL</th>\n",
       "      <td>0</td>\n",
       "    </tr>\n",
       "    <tr>\n",
       "      <th>SEX</th>\n",
       "      <td>0</td>\n",
       "    </tr>\n",
       "    <tr>\n",
       "      <th>EDUCATION</th>\n",
       "      <td>0</td>\n",
       "    </tr>\n",
       "    <tr>\n",
       "      <th>MARRIAGE</th>\n",
       "      <td>0</td>\n",
       "    </tr>\n",
       "    <tr>\n",
       "      <th>AGE</th>\n",
       "      <td>0</td>\n",
       "    </tr>\n",
       "    <tr>\n",
       "      <th>PAY_0</th>\n",
       "      <td>0</td>\n",
       "    </tr>\n",
       "    <tr>\n",
       "      <th>PAY_2</th>\n",
       "      <td>0</td>\n",
       "    </tr>\n",
       "    <tr>\n",
       "      <th>PAY_3</th>\n",
       "      <td>0</td>\n",
       "    </tr>\n",
       "    <tr>\n",
       "      <th>PAY_4</th>\n",
       "      <td>0</td>\n",
       "    </tr>\n",
       "    <tr>\n",
       "      <th>PAY_5</th>\n",
       "      <td>0</td>\n",
       "    </tr>\n",
       "    <tr>\n",
       "      <th>PAY_6</th>\n",
       "      <td>0</td>\n",
       "    </tr>\n",
       "    <tr>\n",
       "      <th>BILL_AMT1</th>\n",
       "      <td>0</td>\n",
       "    </tr>\n",
       "    <tr>\n",
       "      <th>BILL_AMT2</th>\n",
       "      <td>0</td>\n",
       "    </tr>\n",
       "    <tr>\n",
       "      <th>BILL_AMT3</th>\n",
       "      <td>0</td>\n",
       "    </tr>\n",
       "    <tr>\n",
       "      <th>BILL_AMT4</th>\n",
       "      <td>0</td>\n",
       "    </tr>\n",
       "    <tr>\n",
       "      <th>BILL_AMT5</th>\n",
       "      <td>0</td>\n",
       "    </tr>\n",
       "    <tr>\n",
       "      <th>BILL_AMT6</th>\n",
       "      <td>0</td>\n",
       "    </tr>\n",
       "    <tr>\n",
       "      <th>PAY_AMT1</th>\n",
       "      <td>0</td>\n",
       "    </tr>\n",
       "    <tr>\n",
       "      <th>PAY_AMT2</th>\n",
       "      <td>0</td>\n",
       "    </tr>\n",
       "    <tr>\n",
       "      <th>PAY_AMT3</th>\n",
       "      <td>0</td>\n",
       "    </tr>\n",
       "    <tr>\n",
       "      <th>PAY_AMT4</th>\n",
       "      <td>0</td>\n",
       "    </tr>\n",
       "    <tr>\n",
       "      <th>PAY_AMT5</th>\n",
       "      <td>0</td>\n",
       "    </tr>\n",
       "    <tr>\n",
       "      <th>PAY_AMT6</th>\n",
       "      <td>0</td>\n",
       "    </tr>\n",
       "    <tr>\n",
       "      <th>default payment next month</th>\n",
       "      <td>0</td>\n",
       "    </tr>\n",
       "  </tbody>\n",
       "</table>\n",
       "</div>"
      ],
      "text/plain": [
       "                            is_null_count\n",
       "LIMIT_BAL                               0\n",
       "SEX                                     0\n",
       "EDUCATION                               0\n",
       "MARRIAGE                                0\n",
       "AGE                                     0\n",
       "PAY_0                                   0\n",
       "PAY_2                                   0\n",
       "PAY_3                                   0\n",
       "PAY_4                                   0\n",
       "PAY_5                                   0\n",
       "PAY_6                                   0\n",
       "BILL_AMT1                               0\n",
       "BILL_AMT2                               0\n",
       "BILL_AMT3                               0\n",
       "BILL_AMT4                               0\n",
       "BILL_AMT5                               0\n",
       "BILL_AMT6                               0\n",
       "PAY_AMT1                                0\n",
       "PAY_AMT2                                0\n",
       "PAY_AMT3                                0\n",
       "PAY_AMT4                                0\n",
       "PAY_AMT5                                0\n",
       "PAY_AMT6                                0\n",
       "default payment next month              0"
      ]
     },
     "execution_count": 2,
     "metadata": {},
     "output_type": "execute_result"
    }
   ],
   "source": [
    "pd.DataFrame({\"is_null_count\": credit_default.isnull().sum()})"
   ]
  },
  {
   "cell_type": "markdown",
   "metadata": {},
   "source": [
    "As a small cosmetic change, I've also renamed the outcome variable to \"Default\" given the initial label is long and somewhat clunky."
   ]
  },
  {
   "cell_type": "code",
   "execution_count": 4,
   "metadata": {},
   "outputs": [],
   "source": [
    "credit_default = credit_default.rename(index=str, columns={\"default payment next month\": \"Default\"})"
   ]
  },
  {
   "cell_type": "markdown",
   "metadata": {},
   "source": [
    "With the cleaning complete, I've split the data into training and test for the modelling portion. I've elected to use a 70/30 split, which is confirmed by the dimensional prinout from the new sets."
   ]
  },
  {
   "cell_type": "code",
   "execution_count": 5,
   "metadata": {},
   "outputs": [
    {
     "name": "stdout",
     "output_type": "stream",
     "text": [
      "Training set rows: 21000 which is 70.0 percent of total records\n",
      "Test set rows: 9000 which is 30.0 percent of total records\n"
     ]
    }
   ],
   "source": [
    "from sklearn.model_selection import train_test_split\n",
    "import numpy as np\n",
    "\n",
    "predictors = credit_default.drop(columns=[\"Default\"], axis=1)\n",
    "\n",
    "outcome = credit_default[[\"Default\"]]\n",
    "\n",
    "X_train, X_test, y_train, y_test = train_test_split(predictors, outcome, random_state=1017, test_size=.3)\n",
    "\n",
    "print(\n",
    "\"Training set rows:\", X_train.shape[0], \"which is\", \n",
    "    np.round(X_train.shape[0] / credit_default.shape[0] * 100), \n",
    "    \"percent of total records\"\n",
    ")\n",
    "\n",
    "print(\n",
    "\"Test set rows:\", X_test.shape[0], \"which is\", \n",
    "    np.round(X_test.shape[0] / credit_default.shape[0] * 100),\n",
    "    \"percent of total records\"\n",
    ")"
   ]
  },
  {
   "cell_type": "markdown",
   "metadata": {},
   "source": [
    "### Random Forest Classifier: Developing a Baseline Model\n",
    "\n",
    "Prior to developing the first random forrest, I wanted to check on the class balance for default in the set. Not surprsingly, the outcome here is imbalanced given defaults are generally less prevalent than individuals who meet their credit obligations. The ratio here is about 7:2, or about about 78% of customers here who have not defaulted in the test set. This means that 22% customers here have defaulted."
   ]
  },
  {
   "cell_type": "code",
   "execution_count": 6,
   "metadata": {},
   "outputs": [
    {
     "data": {
      "text/html": [
       "<div>\n",
       "<style scoped>\n",
       "    .dataframe tbody tr th:only-of-type {\n",
       "        vertical-align: middle;\n",
       "    }\n",
       "\n",
       "    .dataframe tbody tr th {\n",
       "        vertical-align: top;\n",
       "    }\n",
       "\n",
       "    .dataframe thead th {\n",
       "        text-align: right;\n",
       "    }\n",
       "</style>\n",
       "<table border=\"1\" class=\"dataframe\">\n",
       "  <thead>\n",
       "    <tr style=\"text-align: right;\">\n",
       "      <th></th>\n",
       "      <th>Default</th>\n",
       "    </tr>\n",
       "  </thead>\n",
       "  <tbody>\n",
       "    <tr>\n",
       "      <th>0</th>\n",
       "      <td>6994</td>\n",
       "    </tr>\n",
       "    <tr>\n",
       "      <th>1</th>\n",
       "      <td>2006</td>\n",
       "    </tr>\n",
       "  </tbody>\n",
       "</table>\n",
       "</div>"
      ],
      "text/plain": [
       "   Default\n",
       "0     6994\n",
       "1     2006"
      ]
     },
     "execution_count": 6,
     "metadata": {},
     "output_type": "execute_result"
    }
   ],
   "source": [
    "pd.DataFrame(y_test[\"Default\"].value_counts())"
   ]
  },
  {
   "cell_type": "markdown",
   "metadata": {},
   "source": [
    "Moving into the modelling work, I've set the random forest up below. It's a baseline configuration without any tuning. The only specification I've made here is including a random state, which acts as a seed so the result is reproducible. Given the random nature of the model, having this included helps ensure the predictions can be replicated again."
   ]
  },
  {
   "cell_type": "code",
   "execution_count": 7,
   "metadata": {
    "scrolled": true
   },
   "outputs": [
    {
     "data": {
      "text/plain": [
       "RandomForestClassifier(bootstrap=True, class_weight=None, criterion='gini',\n",
       "            max_depth=None, max_features='auto', max_leaf_nodes=None,\n",
       "            min_impurity_decrease=0.0, min_impurity_split=None,\n",
       "            min_samples_leaf=1, min_samples_split=2,\n",
       "            min_weight_fraction_leaf=0.0, n_estimators=10, n_jobs=1,\n",
       "            oob_score=False, random_state=1017, verbose=0,\n",
       "            warm_start=False)"
      ]
     },
     "execution_count": 7,
     "metadata": {},
     "output_type": "execute_result"
    }
   ],
   "source": [
    "from sklearn.ensemble import RandomForestClassifier\n",
    "\n",
    "rf=RandomForestClassifier(random_state=1017)\n",
    "\n",
    "rf.fit(X_train, y_train.values.ravel())"
   ]
  },
  {
   "cell_type": "markdown",
   "metadata": {},
   "source": [
    "With the model fit, I've developed the default predictions below while including both class and probability values. Any probability values greater than .5 get classified as default. The first 5 rows from the classifier can be seen below."
   ]
  },
  {
   "cell_type": "code",
   "execution_count": 9,
   "metadata": {
    "scrolled": true
   },
   "outputs": [
    {
     "data": {
      "text/html": [
       "<div>\n",
       "<style scoped>\n",
       "    .dataframe tbody tr th:only-of-type {\n",
       "        vertical-align: middle;\n",
       "    }\n",
       "\n",
       "    .dataframe tbody tr th {\n",
       "        vertical-align: top;\n",
       "    }\n",
       "\n",
       "    .dataframe thead th {\n",
       "        text-align: right;\n",
       "    }\n",
       "</style>\n",
       "<table border=\"1\" class=\"dataframe\">\n",
       "  <thead>\n",
       "    <tr style=\"text-align: right;\">\n",
       "      <th></th>\n",
       "      <th>actual</th>\n",
       "      <th>class_pred</th>\n",
       "      <th>default_prob</th>\n",
       "      <th>no_default_prob</th>\n",
       "    </tr>\n",
       "  </thead>\n",
       "  <tbody>\n",
       "    <tr>\n",
       "      <th>21311</th>\n",
       "      <td>1</td>\n",
       "      <td>1</td>\n",
       "      <td>0.7</td>\n",
       "      <td>0.3</td>\n",
       "    </tr>\n",
       "    <tr>\n",
       "      <th>19046</th>\n",
       "      <td>0</td>\n",
       "      <td>0</td>\n",
       "      <td>0.0</td>\n",
       "      <td>1.0</td>\n",
       "    </tr>\n",
       "    <tr>\n",
       "      <th>18311</th>\n",
       "      <td>1</td>\n",
       "      <td>0</td>\n",
       "      <td>0.0</td>\n",
       "      <td>1.0</td>\n",
       "    </tr>\n",
       "    <tr>\n",
       "      <th>8868</th>\n",
       "      <td>0</td>\n",
       "      <td>0</td>\n",
       "      <td>0.2</td>\n",
       "      <td>0.8</td>\n",
       "    </tr>\n",
       "    <tr>\n",
       "      <th>23047</th>\n",
       "      <td>0</td>\n",
       "      <td>0</td>\n",
       "      <td>0.2</td>\n",
       "      <td>0.8</td>\n",
       "    </tr>\n",
       "  </tbody>\n",
       "</table>\n",
       "</div>"
      ],
      "text/plain": [
       "       actual  class_pred  default_prob  no_default_prob\n",
       "21311       1           1           0.7              0.3\n",
       "19046       0           0           0.0              1.0\n",
       "18311       1           0           0.0              1.0\n",
       "8868        0           0           0.2              0.8\n",
       "23047       0           0           0.2              0.8"
      ]
     },
     "execution_count": 9,
     "metadata": {},
     "output_type": "execute_result"
    }
   ],
   "source": [
    "baseline_rf_preds = pd.DataFrame({\n",
    "    \"actual\": y_test[\"Default\"],\n",
    "    \"class_pred\": rf.predict(X_test),\n",
    "    \"no_default_prob\": rf.predict_proba(X_test)[:,0],\n",
    "    \"default_prob\": rf.predict_proba(X_test)[:,1]\n",
    "})\n",
    "\n",
    "baseline_rf_preds.head()"
   ]
  },
  {
   "cell_type": "markdown",
   "metadata": {},
   "source": [
    "The initial confusion matrix shows good evaluation metrics overall but, the results could be enhanced given there is still a large number of Type I errors (i.e. false negatives). From a practical perspective, if a company was using this modelling approach, they would likely be interested in correctly classifying customers who default. Moreover, it would likely be preferable to have Type II errors (i.e. false positives) so the company could be cautionary about approaching customers who might default, even if they don't end up with the credit aberration. Fortunately, the model does show this pattern given there is a higher number of false positives as opposed to false negatives. "
   ]
  },
  {
   "cell_type": "code",
   "execution_count": 10,
   "metadata": {
    "scrolled": true
   },
   "outputs": [
    {
     "data": {
      "text/html": [
       "<div>\n",
       "<style scoped>\n",
       "    .dataframe tbody tr th:only-of-type {\n",
       "        vertical-align: middle;\n",
       "    }\n",
       "\n",
       "    .dataframe tbody tr th {\n",
       "        vertical-align: top;\n",
       "    }\n",
       "\n",
       "    .dataframe thead th {\n",
       "        text-align: right;\n",
       "    }\n",
       "</style>\n",
       "<table border=\"1\" class=\"dataframe\">\n",
       "  <thead>\n",
       "    <tr style=\"text-align: right;\">\n",
       "      <th></th>\n",
       "      <th>No Default</th>\n",
       "      <th>Default</th>\n",
       "    </tr>\n",
       "  </thead>\n",
       "  <tbody>\n",
       "    <tr>\n",
       "      <th>No Default</th>\n",
       "      <td>6586</td>\n",
       "      <td>408</td>\n",
       "    </tr>\n",
       "    <tr>\n",
       "      <th>Default</th>\n",
       "      <td>1370</td>\n",
       "      <td>636</td>\n",
       "    </tr>\n",
       "  </tbody>\n",
       "</table>\n",
       "</div>"
      ],
      "text/plain": [
       "            No Default  Default\n",
       "No Default        6586      408\n",
       "Default           1370      636"
      ]
     },
     "execution_count": 10,
     "metadata": {},
     "output_type": "execute_result"
    }
   ],
   "source": [
    "from sklearn.metrics import confusion_matrix\n",
    "\n",
    "default_cm = pd.DataFrame(confusion_matrix(y_true=y_test[\"Default\"], \n",
    "                                           y_pred=baseline_rf_preds[\"class_pred\"]), \n",
    "                          columns=pd.Series([\"No Default\", \"Default\"], dtype=\"category\"),\n",
    "                          index=pd.Series([\"No Default\", \"Default\"], dtype=\"category\"))\n",
    "\n",
    "default_cm"
   ]
  },
  {
   "cell_type": "markdown",
   "metadata": {},
   "source": [
    "The confusion matrix heat map reaffirms this. Ideally, I'd like to see the bottom right quadrant as a bright colour. However, this is not the case given the true negative and false negatives are reasonably close. While the model does well at classifying customers who do not default, it's the largest class so this isn't as helpful from a business utility perspective."
   ]
  },
  {
   "cell_type": "code",
   "execution_count": 9,
   "metadata": {},
   "outputs": [
    {
     "data": {
      "text/plain": [
       "Text(0.5,1,'Confusion matrix for credit default random forest: Classifier shows reasonable default predictions')"
      ]
     },
     "execution_count": 9,
     "metadata": {},
     "output_type": "execute_result"
    }
   ],
   "source": [
    "import matplotlib.pyplot as plt\n",
    "import seaborn as sns\n",
    "\n",
    "plt.figure(figsize = (12, 7))\n",
    "\n",
    "sns.heatmap(default_cm, \n",
    "            annot=True).set_title(\"Confusion matrix for credit default random forest: Classifier shows reasonable default predictions\")"
   ]
  },
  {
   "cell_type": "markdown",
   "metadata": {},
   "source": [
    "Keeping with this thinking, the initial classification does provide some positive signs. For example, the .61 precision indicates the model has about a 61% success rate for classifying default cases. The .32 recall is troubling here but, I think precision is likely the metric to focus on given the application."
   ]
  },
  {
   "cell_type": "code",
   "execution_count": 11,
   "metadata": {},
   "outputs": [
    {
     "name": "stdout",
     "output_type": "stream",
     "text": [
      "             precision    recall  f1-score   support\n",
      "\n",
      "          0       0.83      0.94      0.88      6994\n",
      "          1       0.61      0.32      0.42      2006\n",
      "\n",
      "avg / total       0.78      0.80      0.78      9000\n",
      "\n"
     ]
    }
   ],
   "source": [
    "from sklearn.metrics import classification_report\n",
    "\n",
    "print(classification_report(y_test[\"Default\"], baseline_rf_preds[\"class_pred\"]))"
   ]
  },
  {
   "cell_type": "markdown",
   "metadata": {},
   "source": [
    "Further validating the model, the AUC score here isn't too bad. As a rule of thumb, a value over .7 would show the model has a decent trade-off between true and false positives. This is definitely a positive, given the model hasn't been tuned at all, but I think the recall still needs improvement."
   ]
  },
  {
   "cell_type": "code",
   "execution_count": 12,
   "metadata": {},
   "outputs": [
    {
     "name": "stdout",
     "output_type": "stream",
     "text": [
      "Initial random forest default model AUC: 0.7285\n"
     ]
    }
   ],
   "source": [
    "import sklearn.metrics as metrics\n",
    "\n",
    "print(\"Initial random forest default model AUC:\", \n",
    "      metrics.roc_auc_score(y_test[\"Default\"], baseline_rf_preds[\"default_prob\"]).round(4))"
   ]
  },
  {
   "cell_type": "code",
   "execution_count": 12,
   "metadata": {},
   "outputs": [
    {
     "data": {
      "image/png": "[encoded data removed]",
      "text/plain": [
       "<matplotlib.figure.Figure at 0x16d6bb3c198>"
      ]
     },
     "metadata": {},
     "output_type": "display_data"
    }
   ],
   "source": [
    "fpr, tpr, _ = metrics.roc_curve(y_test[\"Default\"],  baseline_rf_preds[\"default_prob\"])\n",
    "\n",
    "plt.figure(figsize = (12, 7))\n",
    "\n",
    "plt.plot(fpr,tpr,label = \"RF Baseline\")\n",
    "plt.legend(loc = 4)\n",
    "plt.xlabel(\"FPR\")\n",
    "plt.ylabel(\"TPR\")\n",
    "plt.title(\"ROC curve for baseline random forest\")\n",
    "plt.show()"
   ]
  },
  {
   "cell_type": "markdown",
   "metadata": {},
   "source": [
    "#### Calculate predictions for the training data & build the classification report & roc_auc_score. Are there signs of overfitting? Why or why not?\n",
    "\n",
    "To evlauate how the model predictions shange from train to test, I've developed the training values below. The initial five rows, all of which are correct and have high default probabilities, suggest the model does very well on train."
   ]
  },
  {
   "cell_type": "code",
   "execution_count": 13,
   "metadata": {},
   "outputs": [
    {
     "data": {
      "text/html": [
       "<div>\n",
       "<style scoped>\n",
       "    .dataframe tbody tr th:only-of-type {\n",
       "        vertical-align: middle;\n",
       "    }\n",
       "\n",
       "    .dataframe tbody tr th {\n",
       "        vertical-align: top;\n",
       "    }\n",
       "\n",
       "    .dataframe thead th {\n",
       "        text-align: right;\n",
       "    }\n",
       "</style>\n",
       "<table border=\"1\" class=\"dataframe\">\n",
       "  <thead>\n",
       "    <tr style=\"text-align: right;\">\n",
       "      <th></th>\n",
       "      <th>actual</th>\n",
       "      <th>class_pred</th>\n",
       "      <th>default_prob</th>\n",
       "      <th>no_default_prob</th>\n",
       "    </tr>\n",
       "  </thead>\n",
       "  <tbody>\n",
       "    <tr>\n",
       "      <th>2805</th>\n",
       "      <td>0</td>\n",
       "      <td>0</td>\n",
       "      <td>0.0</td>\n",
       "      <td>1.0</td>\n",
       "    </tr>\n",
       "    <tr>\n",
       "      <th>9536</th>\n",
       "      <td>1</td>\n",
       "      <td>1</td>\n",
       "      <td>0.6</td>\n",
       "      <td>0.4</td>\n",
       "    </tr>\n",
       "    <tr>\n",
       "      <th>15867</th>\n",
       "      <td>1</td>\n",
       "      <td>1</td>\n",
       "      <td>0.9</td>\n",
       "      <td>0.1</td>\n",
       "    </tr>\n",
       "    <tr>\n",
       "      <th>27579</th>\n",
       "      <td>1</td>\n",
       "      <td>1</td>\n",
       "      <td>0.8</td>\n",
       "      <td>0.2</td>\n",
       "    </tr>\n",
       "    <tr>\n",
       "      <th>19683</th>\n",
       "      <td>1</td>\n",
       "      <td>1</td>\n",
       "      <td>0.8</td>\n",
       "      <td>0.2</td>\n",
       "    </tr>\n",
       "  </tbody>\n",
       "</table>\n",
       "</div>"
      ],
      "text/plain": [
       "       actual  class_pred  default_prob  no_default_prob\n",
       "2805        0           0           0.0              1.0\n",
       "9536        1           1           0.6              0.4\n",
       "15867       1           1           0.9              0.1\n",
       "27579       1           1           0.8              0.2\n",
       "19683       1           1           0.8              0.2"
      ]
     },
     "execution_count": 13,
     "metadata": {},
     "output_type": "execute_result"
    }
   ],
   "source": [
    "baseline_rf_train_preds = pd.DataFrame({\n",
    "    \"actual\": y_train[\"Default\"],\n",
    "    \"class_pred\": rf.predict(X_train),\n",
    "    \"no_default_prob\": rf.predict_proba(X_train)[:,0],\n",
    "    \"default_prob\": rf.predict_proba(X_train)[:,1]\n",
    "})\n",
    "\n",
    "baseline_rf_train_preds.head()"
   ]
  },
  {
   "cell_type": "markdown",
   "metadata": {},
   "source": [
    "The confusion matrix confirms this.  The training accuracy is very high. However, this isn't a great sign given the test metrics showed cause for concern. The gulf between these results highlight a very high generalization error for the model, which is indicative of overfitting."
   ]
  },
  {
   "cell_type": "code",
   "execution_count": 14,
   "metadata": {},
   "outputs": [
    {
     "data": {
      "text/html": [
       "<div>\n",
       "<style scoped>\n",
       "    .dataframe tbody tr th:only-of-type {\n",
       "        vertical-align: middle;\n",
       "    }\n",
       "\n",
       "    .dataframe tbody tr th {\n",
       "        vertical-align: top;\n",
       "    }\n",
       "\n",
       "    .dataframe thead th {\n",
       "        text-align: right;\n",
       "    }\n",
       "</style>\n",
       "<table border=\"1\" class=\"dataframe\">\n",
       "  <thead>\n",
       "    <tr style=\"text-align: right;\">\n",
       "      <th></th>\n",
       "      <th>No Default</th>\n",
       "      <th>Default</th>\n",
       "    </tr>\n",
       "  </thead>\n",
       "  <tbody>\n",
       "    <tr>\n",
       "      <th>No Default</th>\n",
       "      <td>16343</td>\n",
       "      <td>27</td>\n",
       "    </tr>\n",
       "    <tr>\n",
       "      <th>Default</th>\n",
       "      <td>414</td>\n",
       "      <td>4216</td>\n",
       "    </tr>\n",
       "  </tbody>\n",
       "</table>\n",
       "</div>"
      ],
      "text/plain": [
       "            No Default  Default\n",
       "No Default       16343       27\n",
       "Default            414     4216"
      ]
     },
     "execution_count": 14,
     "metadata": {},
     "output_type": "execute_result"
    }
   ],
   "source": [
    "default_train_cm = pd.DataFrame(confusion_matrix(y_true=y_train[\"Default\"], \n",
    "                                                 y_pred=baseline_rf_train_preds[\"class_pred\"]),\n",
    "                                columns=pd.Series([\"No Default\", \"Default\"], dtype=\"category\"),\n",
    "                                index=pd.Series([\"No Default\", \"Default\"], dtype=\"category\"))\n",
    "\n",
    "default_train_cm"
   ]
  },
  {
   "cell_type": "markdown",
   "metadata": {},
   "source": [
    "The evaluation report further bolsters this thinking. For example, the training recall is .91 while the test metric is .32. This is a huge drop off from train to test indicating the model is fitting the training data too closely and therefore, does not generalize well to new data. This is kind of deviation is typical of overfitting. "
   ]
  },
  {
   "cell_type": "code",
   "execution_count": 15,
   "metadata": {},
   "outputs": [
    {
     "name": "stdout",
     "output_type": "stream",
     "text": [
      "             precision    recall  f1-score   support\n",
      "\n",
      "          0       0.98      1.00      0.99     16370\n",
      "          1       0.99      0.91      0.95      4630\n",
      "\n",
      "avg / total       0.98      0.98      0.98     21000\n",
      "\n",
      "Initial random forest default model training AUC: 0.999\n"
     ]
    }
   ],
   "source": [
    "print(classification_report(y_train[\"Default\"], baseline_rf_train_preds[\"class_pred\"]))\n",
    "print(\"Initial random forest default model training AUC:\", \n",
    "      metrics.roc_auc_score(y_train[\"Default\"], baseline_rf_train_preds[\"default_prob\"]).round(4))"
   ]
  },
  {
   "cell_type": "markdown",
   "metadata": {},
   "source": [
    "### Random Forest Classifier: Grid Search Approach\n",
    "\n",
    "The initial baseline random forest showed some promise but, ultimately is very over fit. However, this model was constructed without any tuning. A random forest has numerous hyperparameters that can be used to refine a given model. Looking at combinations of these manually is one possibility but, given the large number of parameters and their combinations, a more automated approach is preferable. Grid Search is this automated process, which will be used as the approach for constructing the next model.\n",
    "\n",
    "To this end, I've developed a function that can produce all the necessary assignments requirements including, confusion matrices, classification reports, and AUC metrics for train and test. The idea here is to pass the function a new set of tuning parameters and the requisite objects will be returned. The first try at this is found below using the provided parameters. Using this approach, the best parameters are a max depth of 10, max features of 4, and n estimators of 500."
   ]
  },
  {
   "cell_type": "code",
   "execution_count": 13,
   "metadata": {},
   "outputs": [
    {
     "name": "stdout",
     "output_type": "stream",
     "text": [
      "Fitting 5 folds for each of 36 candidates, totalling 180 fits\n"
     ]
    },
    {
     "name": "stderr",
     "output_type": "stream",
     "text": [
      "[Parallel(n_jobs=-1)]: Done  10 tasks      | elapsed:    8.9s\n",
      "[Parallel(n_jobs=-1)]: Done  64 tasks      | elapsed:  2.1min\n",
      "[Parallel(n_jobs=-1)]: Done 154 tasks      | elapsed:  6.7min\n",
      "[Parallel(n_jobs=-1)]: Done 180 out of 180 | elapsed:  8.9min finished\n"
     ]
    },
    {
     "name": "stdout",
     "output_type": "stream",
     "text": [
      "Best model parameters from Grid Search:\n",
      "{'max_depth': 10, 'max_features': 4, 'n_estimators': 500, 'random_state': 1017}\n"
     ]
    }
   ],
   "source": [
    "from sklearn.model_selection import GridSearchCV\n",
    "\n",
    "tune_rf=RandomForestClassifier()\n",
    "\n",
    "def custom_grid_rf(tune_params):\n",
    "    #creating and tuning rf\n",
    "    grid_search_rf = GridSearchCV(tune_rf, tune_params, cv = 5, scoring = \"roc_auc\", refit = True, n_jobs = -1, verbose = 5)\n",
    "    grid_search_rf.fit(X_train, y_train.values.ravel())\n",
    "    \n",
    "    #developing predictions using model fit\n",
    "    grid_search_train_preds = pd.DataFrame({\n",
    "    \"actual\": y_train[\"Default\"],\n",
    "    \"class_pred\": grid_search_rf.best_estimator_.predict(X_train),\n",
    "    \"no_default_prob\": grid_search_rf.best_estimator_.predict_proba(X_train)[:,0],\n",
    "    \"default_prob\": grid_search_rf.best_estimator_.predict_proba(X_train)[:,1]\n",
    "    })\n",
    "    \n",
    "    grid_search_test_preds = pd.DataFrame({\n",
    "    \"actual\": y_test[\"Default\"],\n",
    "    \"class_pred\": grid_search_rf.predict(X_test),\n",
    "    \"no_default_prob\": grid_search_rf.best_estimator_.predict_proba(X_test)[:,0],\n",
    "    \"default_prob\": grid_search_rf.best_estimator_.predict_proba(X_test)[:,1]\n",
    "    })\n",
    "    \n",
    "    #creating confusion matrix for preds\n",
    "    default_tuned_train_cm = pd.DataFrame(confusion_matrix(y_true=y_train[\"Default\"], \n",
    "                                                           y_pred=grid_search_train_preds[\"class_pred\"]), \n",
    "                                          columns=pd.Series([\"No Default\", \"Default\"], dtype=\"category\"),\n",
    "                                          index=pd.Series([\"No Default\", \"Default\"], dtype=\"category\"))\n",
    "    \n",
    "    default_tuned_test_cm = pd.DataFrame(confusion_matrix(y_true=y_test[\"Default\"], \n",
    "                                                          y_pred=grid_search_test_preds[\"class_pred\"]), \n",
    "                                          columns=pd.Series([\"No Default\", \"Default\"], dtype=\"category\"),\n",
    "                                          index=pd.Series([\"No Default\", \"Default\"], dtype=\"category\"))\n",
    "    \n",
    "    #creating classification reports\n",
    "    train_class_report = classification_report(y_train[\"Default\"], \n",
    "                                               grid_search_train_preds[\"class_pred\"])\n",
    "    test_class_report = classification_report(y_test[\"Default\"], \n",
    "                                              grid_search_test_preds[\"class_pred\"])\n",
    "    \n",
    "    #creating auc\n",
    "    train_auc = metrics.roc_auc_score(y_train[\"Default\"], grid_search_train_preds[\"default_prob\"]).round(4)\n",
    "    test_auc = metrics.roc_auc_score(y_test[\"Default\"], grid_search_test_preds[\"default_prob\"]).round(4)\n",
    "    \n",
    "    #creating feature importance\n",
    "    feature_importance = grid_search_rf.best_estimator_.feature_importances_\n",
    "    \n",
    "    output = {\"test_cm\": default_tuned_test_cm,\n",
    "              \"train_cm\": default_tuned_train_cm,\n",
    "              \"test_report\": test_class_report,\n",
    "              \"train_report\": train_class_report,\n",
    "              \"test_auc\": test_auc,\n",
    "              \"train_auc\": train_auc,\n",
    "              \"feature_importance\": feature_importance\n",
    "              }\n",
    "    \n",
    "    print(\"Best model parameters from Grid Search:\")\n",
    "    print(grid_search_rf.best_params_)\n",
    "    \n",
    "    \n",
    "    return(output)\n",
    "\n",
    "grid_parameters = {\n",
    "    \"max_depth\": [6, 8, 10, 12],\n",
    "    \"n_estimators\": [50, 100, 500],\n",
    "    \"max_features\": [2, 4, 6],\n",
    "    \"random_state\":[1017]\n",
    "}\n",
    "    \n",
    "tuned_rf = custom_grid_rf(tune_params= grid_parameters)"
   ]
  },
  {
   "cell_type": "markdown",
   "metadata": {},
   "source": [
    "The initial confusion matrix shows a nice upgrade from the baseline model, espeically with respect to true negative predictions."
   ]
  },
  {
   "cell_type": "code",
   "execution_count": 22,
   "metadata": {},
   "outputs": [
    {
     "data": {
      "text/html": [
       "<div>\n",
       "<style scoped>\n",
       "    .dataframe tbody tr th:only-of-type {\n",
       "        vertical-align: middle;\n",
       "    }\n",
       "\n",
       "    .dataframe tbody tr th {\n",
       "        vertical-align: top;\n",
       "    }\n",
       "\n",
       "    .dataframe thead th {\n",
       "        text-align: right;\n",
       "    }\n",
       "</style>\n",
       "<table border=\"1\" class=\"dataframe\">\n",
       "  <thead>\n",
       "    <tr style=\"text-align: right;\">\n",
       "      <th></th>\n",
       "      <th>No Default</th>\n",
       "      <th>Default</th>\n",
       "    </tr>\n",
       "  </thead>\n",
       "  <tbody>\n",
       "    <tr>\n",
       "      <th>No Default</th>\n",
       "      <td>6639</td>\n",
       "      <td>355</td>\n",
       "    </tr>\n",
       "    <tr>\n",
       "      <th>Default</th>\n",
       "      <td>1287</td>\n",
       "      <td>719</td>\n",
       "    </tr>\n",
       "  </tbody>\n",
       "</table>\n",
       "</div>"
      ],
      "text/plain": [
       "            No Default  Default\n",
       "No Default        6639      355\n",
       "Default           1287      719"
      ]
     },
     "execution_count": 22,
     "metadata": {},
     "output_type": "execute_result"
    }
   ],
   "source": [
    "tuned_rf[\"test_cm\"]"
   ]
  },
  {
   "cell_type": "markdown",
   "metadata": {},
   "source": [
    "Furthering this conclusion, the test report shows an increase across all the average metrics by about 2 points. More specifically for this problem, I think the 6 point increase in precision is the most interesting upgrade. This means that the company using the model is finding 6% credit defaults using this method, which could be a substantial business boost."
   ]
  },
  {
   "cell_type": "code",
   "execution_count": 23,
   "metadata": {
    "scrolled": true
   },
   "outputs": [
    {
     "name": "stdout",
     "output_type": "stream",
     "text": [
      "             precision    recall  f1-score   support\n",
      "\n",
      "          0       0.84      0.95      0.89      6994\n",
      "          1       0.67      0.36      0.47      2006\n",
      "\n",
      "avg / total       0.80      0.82      0.80      9000\n",
      "\n"
     ]
    }
   ],
   "source": [
    "print(tuned_rf[\"test_report\"])"
   ]
  },
  {
   "cell_type": "markdown",
   "metadata": {},
   "source": [
    "In the same vein as the other evaluation metrics, the AUC using a more tuned model shows an increase. The baseline model had an AUC of .7285 so the tuned model has almost a 6 point increase. "
   ]
  },
  {
   "cell_type": "code",
   "execution_count": 24,
   "metadata": {},
   "outputs": [
    {
     "name": "stdout",
     "output_type": "stream",
     "text": [
      "Tuned random forest model test AUC: 0.7856\n"
     ]
    }
   ],
   "source": [
    "print(\"Tuned random forest model test AUC:\", tuned_rf[\"test_auc\"])"
   ]
  },
  {
   "cell_type": "markdown",
   "metadata": {},
   "source": [
    "One of the interesting questions here is how the train and test compare. The baseline model was very overfit, which manifested itself as a large divergence between train and test evaluation metrics. The train confusion matrix here shows a much more reasonable balance as opposed to baseline model. I think this implies the overfitting has been eased slightly."
   ]
  },
  {
   "cell_type": "code",
   "execution_count": 25,
   "metadata": {},
   "outputs": [
    {
     "data": {
      "text/html": [
       "<div>\n",
       "<style scoped>\n",
       "    .dataframe tbody tr th:only-of-type {\n",
       "        vertical-align: middle;\n",
       "    }\n",
       "\n",
       "    .dataframe tbody tr th {\n",
       "        vertical-align: top;\n",
       "    }\n",
       "\n",
       "    .dataframe thead th {\n",
       "        text-align: right;\n",
       "    }\n",
       "</style>\n",
       "<table border=\"1\" class=\"dataframe\">\n",
       "  <thead>\n",
       "    <tr style=\"text-align: right;\">\n",
       "      <th></th>\n",
       "      <th>No Default</th>\n",
       "      <th>Default</th>\n",
       "    </tr>\n",
       "  </thead>\n",
       "  <tbody>\n",
       "    <tr>\n",
       "      <th>No Default</th>\n",
       "      <td>15959</td>\n",
       "      <td>411</td>\n",
       "    </tr>\n",
       "    <tr>\n",
       "      <th>Default</th>\n",
       "      <td>2552</td>\n",
       "      <td>2078</td>\n",
       "    </tr>\n",
       "  </tbody>\n",
       "</table>\n",
       "</div>"
      ],
      "text/plain": [
       "            No Default  Default\n",
       "No Default       15959      411\n",
       "Default           2552     2078"
      ]
     },
     "execution_count": 25,
     "metadata": {},
     "output_type": "execute_result"
    }
   ],
   "source": [
    "tuned_rf[\"train_cm\"]"
   ]
  },
  {
   "cell_type": "markdown",
   "metadata": {},
   "source": [
    "The report confirms this, which shows the metrics are much more aligned. There may be some overfitting, as the train and test are not perfectly aligned, but the values are much closer. For example, the precision goes from .83 to .67, which though not ideal, is still a great improvement from the baseline model. Additionally, the AUC values are more congruent, though still show some gap."
   ]
  },
  {
   "cell_type": "code",
   "execution_count": 28,
   "metadata": {},
   "outputs": [
    {
     "name": "stdout",
     "output_type": "stream",
     "text": [
      "             precision    recall  f1-score   support\n",
      "\n",
      "          0       0.86      0.97      0.92     16370\n",
      "          1       0.83      0.45      0.58      4630\n",
      "\n",
      "avg / total       0.86      0.86      0.84     21000\n",
      "\n"
     ]
    }
   ],
   "source": [
    "print(tuned_rf[\"train_report\"])"
   ]
  },
  {
   "cell_type": "code",
   "execution_count": 29,
   "metadata": {},
   "outputs": [
    {
     "name": "stdout",
     "output_type": "stream",
     "text": [
      "Tuned random forest model train AUC: 0.859\n"
     ]
    }
   ],
   "source": [
    "print(\"Tuned random forest model train AUC:\", tuned_rf[\"train_auc\"])"
   ]
  },
  {
   "cell_type": "markdown",
   "metadata": {},
   "source": [
    "Given there were some signs of overfitting, I wanted to try a second tuned model with different parameters. I selected them using the initial parameter estimations so there might be a difference between the models. With this in mind, the parameters for max depth and minimum sample split are in the new selection but, with higher values after these. The assortment can be seen below. Th downside to adding further tuning options, for number of estimators as an example, is the training time increases drastically. The initial tuning took about 30 seconds while this variant was over an hour. The final model parameters from this are printed below."
   ]
  },
  {
   "cell_type": "code",
   "execution_count": 44,
   "metadata": {},
   "outputs": [
    {
     "name": "stdout",
     "output_type": "stream",
     "text": [
      "Fitting 5 folds for each of 162 candidates, totalling 810 fits\n"
     ]
    },
    {
     "name": "stderr",
     "output_type": "stream",
     "text": [
      "[Parallel(n_jobs=-1)]: Done  10 tasks      | elapsed:   39.4s\n",
      "[Parallel(n_jobs=-1)]: Done  64 tasks      | elapsed:  3.8min\n",
      "[Parallel(n_jobs=-1)]: Done 154 tasks      | elapsed:  9.4min\n",
      "[Parallel(n_jobs=-1)]: Done 280 tasks      | elapsed: 18.6min\n",
      "[Parallel(n_jobs=-1)]: Done 442 tasks      | elapsed: 31.9min\n",
      "[Parallel(n_jobs=-1)]: Done 640 tasks      | elapsed: 50.6min\n",
      "[Parallel(n_jobs=-1)]: Done 810 out of 810 | elapsed: 67.9min finished\n"
     ]
    },
    {
     "name": "stdout",
     "output_type": "stream",
     "text": [
      "Best model parameters from Grid Search:\n",
      "{'bootstrap': True, 'max_depth': 10, 'min_samples_leaf': 4, 'min_samples_split': 7, 'n_estimators': 300, 'random_state': 1017}\n"
     ]
    }
   ],
   "source": [
    "grid_parameters_expanded = {\n",
    "    \"bootstrap\": [True, False],\n",
    "    \"max_depth\": [8, 10, 12],\n",
    "    \"min_samples_leaf\": [2, 3, 4],\n",
    "    \"min_samples_split\": [7, 8, 9],\n",
    "    \"n_estimators\": [100, 200, 300],\n",
    "    \"random_state\":[1017]\n",
    "}\n",
    "\n",
    "expanded_tuned_rf = custom_grid_rf(tune_params= grid_parameters_expanded)"
   ]
  },
  {
   "cell_type": "markdown",
   "metadata": {},
   "source": [
    "Unfortunately, the confusion matrix does not seem improved. The classification report is fairly similar but, the F1 score average is slightly decreased. The AUC is also identical."
   ]
  },
  {
   "cell_type": "code",
   "execution_count": 45,
   "metadata": {},
   "outputs": [
    {
     "data": {
      "text/html": [
       "<div>\n",
       "<style scoped>\n",
       "    .dataframe tbody tr th:only-of-type {\n",
       "        vertical-align: middle;\n",
       "    }\n",
       "\n",
       "    .dataframe tbody tr th {\n",
       "        vertical-align: top;\n",
       "    }\n",
       "\n",
       "    .dataframe thead th {\n",
       "        text-align: right;\n",
       "    }\n",
       "</style>\n",
       "<table border=\"1\" class=\"dataframe\">\n",
       "  <thead>\n",
       "    <tr style=\"text-align: right;\">\n",
       "      <th></th>\n",
       "      <th>No Default</th>\n",
       "      <th>Default</th>\n",
       "    </tr>\n",
       "  </thead>\n",
       "  <tbody>\n",
       "    <tr>\n",
       "      <th>No Default</th>\n",
       "      <td>6638</td>\n",
       "      <td>356</td>\n",
       "    </tr>\n",
       "    <tr>\n",
       "      <th>Default</th>\n",
       "      <td>1292</td>\n",
       "      <td>714</td>\n",
       "    </tr>\n",
       "  </tbody>\n",
       "</table>\n",
       "</div>"
      ],
      "text/plain": [
       "            No Default  Default\n",
       "No Default        6638      356\n",
       "Default           1292      714"
      ]
     },
     "execution_count": 45,
     "metadata": {},
     "output_type": "execute_result"
    }
   ],
   "source": [
    "expanded_tuned_rf[\"test_cm\"]"
   ]
  },
  {
   "cell_type": "code",
   "execution_count": 49,
   "metadata": {
    "scrolled": true
   },
   "outputs": [
    {
     "name": "stdout",
     "output_type": "stream",
     "text": [
      "             precision    recall  f1-score   support\n",
      "\n",
      "          0       0.84      0.95      0.89      6994\n",
      "          1       0.67      0.36      0.46      2006\n",
      "\n",
      "avg / total       0.80      0.82      0.79      9000\n",
      "\n"
     ]
    }
   ],
   "source": [
    "print(expanded_tuned_rf[\"test_report\"])"
   ]
  },
  {
   "cell_type": "code",
   "execution_count": 48,
   "metadata": {},
   "outputs": [
    {
     "name": "stdout",
     "output_type": "stream",
     "text": [
      "Tuned random forest model test AUC: 0.7865\n"
     ]
    }
   ],
   "source": [
    "print(\"Further tuned random forest model test AUC:\", expanded_tuned_rf[\"test_auc\"])"
   ]
  },
  {
   "cell_type": "markdown",
   "metadata": {},
   "source": [
    "The training metrics below also quite similar. Given the added computational time and an almost identical fit, I think the initial tuning option produces a more suitable model here."
   ]
  },
  {
   "cell_type": "code",
   "execution_count": 54,
   "metadata": {},
   "outputs": [
    {
     "data": {
      "text/html": [
       "<div>\n",
       "<style scoped>\n",
       "    .dataframe tbody tr th:only-of-type {\n",
       "        vertical-align: middle;\n",
       "    }\n",
       "\n",
       "    .dataframe tbody tr th {\n",
       "        vertical-align: top;\n",
       "    }\n",
       "\n",
       "    .dataframe thead th {\n",
       "        text-align: right;\n",
       "    }\n",
       "</style>\n",
       "<table border=\"1\" class=\"dataframe\">\n",
       "  <thead>\n",
       "    <tr style=\"text-align: right;\">\n",
       "      <th></th>\n",
       "      <th>No Default</th>\n",
       "      <th>Default</th>\n",
       "    </tr>\n",
       "  </thead>\n",
       "  <tbody>\n",
       "    <tr>\n",
       "      <th>No Default</th>\n",
       "      <td>15880</td>\n",
       "      <td>490</td>\n",
       "    </tr>\n",
       "    <tr>\n",
       "      <th>Default</th>\n",
       "      <td>2642</td>\n",
       "      <td>1988</td>\n",
       "    </tr>\n",
       "  </tbody>\n",
       "</table>\n",
       "</div>"
      ],
      "text/plain": [
       "            No Default  Default\n",
       "No Default       15880      490\n",
       "Default           2642     1988"
      ]
     },
     "execution_count": 54,
     "metadata": {},
     "output_type": "execute_result"
    }
   ],
   "source": [
    "expanded_tuned_rf[\"train_cm\"]"
   ]
  },
  {
   "cell_type": "code",
   "execution_count": 53,
   "metadata": {},
   "outputs": [
    {
     "name": "stdout",
     "output_type": "stream",
     "text": [
      "             precision    recall  f1-score   support\n",
      "\n",
      "          0       0.86      0.97      0.91     16370\n",
      "          1       0.80      0.43      0.56      4630\n",
      "\n",
      "avg / total       0.85      0.85      0.83     21000\n",
      "\n"
     ]
    }
   ],
   "source": [
    "print(expanded_tuned_rf[\"train_report\"])"
   ]
  },
  {
   "cell_type": "code",
   "execution_count": 51,
   "metadata": {},
   "outputs": [
    {
     "name": "stdout",
     "output_type": "stream",
     "text": [
      "Tuned random forest model test AUC: 0.852\n"
     ]
    }
   ],
   "source": [
    "print(\"Tuned random forest model test AUC:\", expanded_tuned_rf[\"train_auc\"])"
   ]
  },
  {
   "cell_type": "markdown",
   "metadata": {},
   "source": [
    "### Create a feature importance plot for your best performing model. What are the top 5 features for this model?\n",
    "\n",
    "I've included a variable importance plot from the preferred random forest model below. The values are derived using Gini importance or mean decrease impurity across all the tree splits, which I'll explain in more depth in the next section. Using it as an importance metric, it appears that Pay 0 is the most important variable. The top 5 are also printed out below; these show payment related variables as the most important to the model. Without a formal dictionary, their exact meaning is unknown so it's hard to vet the result too much but, they might be some payment scheduling. Additionally, it appears the sum of money being paid is important, which seems intuitive."
   ]
  },
  {
   "cell_type": "code",
   "execution_count": 31,
   "metadata": {},
   "outputs": [
    {
     "data": {
      "image/png": "[encoded data removed]",
      "text/plain": [
       "<matplotlib.figure.Figure at 0x16d6bbcab38>"
      ]
     },
     "metadata": {},
     "output_type": "display_data"
    },
    {
     "data": {
      "text/html": [
       "<div>\n",
       "<style scoped>\n",
       "    .dataframe tbody tr th:only-of-type {\n",
       "        vertical-align: middle;\n",
       "    }\n",
       "\n",
       "    .dataframe tbody tr th {\n",
       "        vertical-align: top;\n",
       "    }\n",
       "\n",
       "    .dataframe thead th {\n",
       "        text-align: right;\n",
       "    }\n",
       "</style>\n",
       "<table border=\"1\" class=\"dataframe\">\n",
       "  <thead>\n",
       "    <tr style=\"text-align: right;\">\n",
       "      <th></th>\n",
       "      <th>name</th>\n",
       "      <th>var_importance</th>\n",
       "    </tr>\n",
       "  </thead>\n",
       "  <tbody>\n",
       "    <tr>\n",
       "      <th>5</th>\n",
       "      <td>PAY_0</td>\n",
       "      <td>0.247940</td>\n",
       "    </tr>\n",
       "    <tr>\n",
       "      <th>6</th>\n",
       "      <td>PAY_2</td>\n",
       "      <td>0.114200</td>\n",
       "    </tr>\n",
       "    <tr>\n",
       "      <th>7</th>\n",
       "      <td>PAY_3</td>\n",
       "      <td>0.060460</td>\n",
       "    </tr>\n",
       "    <tr>\n",
       "      <th>8</th>\n",
       "      <td>PAY_4</td>\n",
       "      <td>0.048880</td>\n",
       "    </tr>\n",
       "    <tr>\n",
       "      <th>17</th>\n",
       "      <td>PAY_AMT1</td>\n",
       "      <td>0.040967</td>\n",
       "    </tr>\n",
       "  </tbody>\n",
       "</table>\n",
       "</div>"
      ],
      "text/plain": [
       "        name  var_importance\n",
       "5      PAY_0        0.247940\n",
       "6      PAY_2        0.114200\n",
       "7      PAY_3        0.060460\n",
       "8      PAY_4        0.048880\n",
       "17  PAY_AMT1        0.040967"
      ]
     },
     "execution_count": 31,
     "metadata": {},
     "output_type": "execute_result"
    }
   ],
   "source": [
    "tuned_rf_importance = pd.DataFrame({\n",
    "    \"name\": list(predictors.head(0)),\n",
    "    \"var_importance\": tuned_rf[\"feature_importance\"]\n",
    "})\n",
    "\n",
    "plt.figure(figsize = (12, 7))\n",
    "\n",
    "plt.bar(tuned_rf_importance[\"name\"], tuned_rf_importance[\"var_importance\"],)\n",
    "plt.xlabel(\"Variable\")\n",
    "plt.xticks(rotation=90)\n",
    "plt.ylabel(\"Variable Importance\")\n",
    "plt.title(\"Default variable importance plot- Pay 0 shows highest value \\n Top 5: Pay 0, 2, 3, 4, Pay Amount\")\n",
    "plt.show()\n",
    "\n",
    "tuned_rf_importance.sort_values(by=[\"var_importance\"], ascending=False).head()"
   ]
  },
  {
   "cell_type": "markdown",
   "metadata": {},
   "source": [
    "### Conceptual Questions\n",
    "\n",
    "#### What are the best parameters from the Grid Search in Question # 3? Does the Model from 3 outperform Model 2? Explain why.\n",
    "\n",
    "I included the best parameters from the initial model development but, have included them here again for convenience:\n",
    "\n",
    "Best model parameters from Grid Search:\n",
    "{'max_depth': 10, 'max_features': 4, 'n_estimators': 500, 'random_state': 1017}\n",
    "\n",
    "The tuned model outperformed the baseline model by a fair margin. The overall accuracy metrics improved, including precision, while the AUC also showed improvements. Further, the noticeable overfitting was reduced as seen by a narrowing between the training and test set accuracy metrics. \n",
    "\n",
    "The parameter tuning the biggest reason why this improvement can be found. Random Forest's are a very flexible model class and make no assumptions about the data. While this flexibility generally helps, it can lead to overfitting as the model adapts too closely to the training data. This was evident in the first model which had 99% accuracy on the training set, a metric that is too good to be true in most cases. Thereafter, there was a big decrease in test evaluation metrics. However, when the tree growth was capped (using max depth = 10), the model growth is regularized. In this sense, the model is constrained and cannot overfit as easily because the shape is governed more tightly. This is just one example of how hyperparameter tuning increases accuracy, which ultimately leads to the differences between the baseline model (2) and the updated model (3). \n",
    "\n",
    "#### Overfitting is always a concern in ML problems. Does Model  3 overfit data more or less than Model 2? Explain why you think this is the case. \n",
    "\n",
    "I mentioned this in the previous section but the baseline model showed far more overfitting. This is evaluated on the difference between the training and test evaluation metrics, which when showing a large gap, signal overfitting. The overfitting is from the random forest fitting the training data too closely. The baseline, default setting has no cap on tree growth, governed by max depth, so it ends up providing a model that is almost perfectly fit to the training data (hence the 99% accuracy). When that growth is capped, the model is much less overfit, though there was still some delta between train and test with the tuned model. \n",
    "\n",
    "#### The lecture notes describe the Gini Index which is the default criterion used for splitting in sklearn's version of RandomForestClassifier. How does the Gini Index work? (i.e. How is it used to build a top-performing model?).\n",
    "\n",
    "The Gini index is the main metric used to develop the tree splits in a random forest. In a set with numerous variables, there needs to be a method for picking which node could be split. At each node, the model could be split by different variables, which is where the index comes in. The algorithm searches for the split that provides the lowest Gini index value, which signals a more pure split (stemming from entropy and information studies). The next resulting split will have categorization based on the split, which can then be reassessed. With this in mind, it's the main metric that guides the tree development process. The final numbers from each split can then be used to assess variable importance once they have been summed and averaged.\n",
    "\n",
    "#### Describe how Random Forest is different from bagging & why this difference can yield improved results\n",
    "\n",
    "Bagging, or bootstrap aggregation, takes random with replacement samples from a data set and develops models on them. During this process every feature is considered, which in the case of the default models means all 23 predictors being included. By contrast, a random forest works on a randomized subset of features and rows. From this selection, the best feature is used to split the resulting trees. In the tuned model developed here, this is further capped by setting the max features to a specific value (4 in the final mode). Additionally, the appropriate number of randomized features can be selected using the out of bag error, which inherently means that an approximation of test error is being built into the model construction. With, this can yield better accuracy results.\n",
    "\n",
    "#### Describe the importance of the max_depth parameter in Random Forest. Do not just provide a definition, rather think through how bias-variance trade off might be impacted by the max_depth parameter.\n",
    "\n",
    "I've alluded to this hyperparameter already and described how it affects tree growth but, I'll reemphasize here as well. Using the baseline model as an example, without any max depth set the trees can grow unconstrained. This yields a model that is almost perfectly fit for the training data. The issue with this is that is leads to very low training bias but, very high variance because the model doesn't generalize well to new, unseen samples. By constraining the model growth with max depth, the tree can only grow to a certain size thereby limiting its ability to mirror the training data too closely. As a result, the generalization error is also reduced. In this way, max depth directly helps govern the bias-variance trade off by ensuring the training model cannot fit the initial data too closely.\n",
    "\n",
    "#### In this homework we used k-fold cross-validation while determining the optimal hyperparameters for our Random Forest model. Describe how k-fold cross-validation works.  What benefit do we gain by using k-fold cross-validation when tuning our Random Forest model versus only using the train-test split approach?\n",
    "\n",
    "K-fold cross validation refers to dividing the project data into k different groups, five in the modelling work here, which are comprised of different sections from the initial set. With five folds, the set is broken into four sections for training and one section for testing. For example, one iterations might be 1, 2, 3, 4, with 5 as a test and then 1, 2, 3, 5, and 4 with the test. This is repeated for each fold permutation (5 times total). Using these five folds, an evaluation metric is derived and averaged. However, given the nature of random forests, a lot of this construction is inherently included in the method. As such, the main benefit when using it with the random forest model is tuning the hyperparameters for the second model. Using CV here enhances the approach to selecting these hyperparameters and evaluating which combinations and specifications perform best. For example, when the grid search is being conducted, the message indicates: \"Fitting 5 folds for each of 36 candidates, totalling 180 fits\". These added permutations helps narrow down the best hyperparameter combinations. As such, it is a worthwhile addition. "
   ]
  },
  {
   "cell_type": "code",
   "execution_count": 20,
   "metadata": {},
   "outputs": [
    {
     "data": {
      "text/plain": [
       "'C:\\\\Users\\\\Mark\\\\Machine Learning 4'"
      ]
     },
     "execution_count": 20,
     "metadata": {},
     "output_type": "execute_result"
    }
   ],
   "source": [
    "import os\n",
    "os.getcwd()"
   ]
  }
 ],
 "metadata": {
  "kernelspec": {
   "display_name": "Python 3",
   "language": "python",
   "name": "python3"
  },
  "language_info": {
   "codemirror_mode": {
    "name": "ipython",
    "version": 3
   },
   "file_extension": ".py",
   "mimetype": "text/x-python",
   "name": "python",
   "nbconvert_exporter": "python",
   "pygments_lexer": "ipython3",
   "version": "3.6.4"
  }
 },
 "nbformat": 4,
 "nbformat_minor": 2
}
