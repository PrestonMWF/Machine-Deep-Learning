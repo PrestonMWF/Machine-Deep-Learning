{
 "cells": [
  {
   "cell_type": "markdown",
   "metadata": {},
   "source": [
    "# Machine Learning 5: Boosting\n",
    "\n",
    "## Submission by: Mark Preston\n",
    "\n",
    "This week, I'll be using a census data set to classify individual adults that make above and below 50K in a given year. The set includes a variety of individual traits for a person, including age, race, work details, educational attainment, and family background, to name a few. Since the data set doesn't include a header here, I've manually added it during the data loading using the `names` parameter. The target variable is whether an individual will make above or below 50K in a year, which is just a binary flag I've names income_bracket in the set.\n",
    "\n",
    "### Data Processing\n",
    "\n",
    "Beginning the analysis, the main data processing stems from needing to download the data from the UCI Machine Learning Repository. The data should be relatively clean coming from a well known data source but, I did need to add in header names using the set's data dictionary (https://archive.ics.uci.edu/ml/datasets/Adult). With the basic processing, I've loaded the set in and evaluated the shape below."
   ]
  },
  {
   "cell_type": "code",
   "execution_count": 2,
   "metadata": {},
   "outputs": [
    {
     "name": "stdout",
     "output_type": "stream",
     "text": [
      "The census data has 32561 rows and 15 columns\n"
     ]
    }
   ],
   "source": [
    "import pandas as pd\n",
    "\n",
    "adult_census = pd.read_csv(\n",
    "    \"https://archive.ics.uci.edu/ml/machine-learning-databases/adult/adult.data\", \n",
    "    header = None, \n",
    "    skipinitialspace = True, \n",
    "    names = [\"age\", \"work_class\", \"fnlwgt\", \"education\", \"edu_years\", \"marital_status\", \n",
    "             \"occupation\", \"relationship\", \"race\", \"sex\", \"capital_gain\", \"capital_loss\",\n",
    "             \"hours_per_week\", \"native_country\", \"income_bracket\"]\n",
    ")\n",
    "\n",
    "print(\"The census data has\", \n",
    "      adult_census.shape[0], \"rows and\", \n",
    "      adult_census.shape[1],  \"columns\")"
   ]
  },
  {
   "cell_type": "markdown",
   "metadata": {},
   "source": [
    "Working with data from the UCI usually means a clean set. To verify this though, I've counted the null values in the set below. As seen, there are no null values so the set is clean and well maintained."
   ]
  },
  {
   "cell_type": "code",
   "execution_count": 27,
   "metadata": {},
   "outputs": [
    {
     "data": {
      "text/html": [
       "<div>\n",
       "<style scoped>\n",
       "    .dataframe tbody tr th:only-of-type {\n",
       "        vertical-align: middle;\n",
       "    }\n",
       "\n",
       "    .dataframe tbody tr th {\n",
       "        vertical-align: top;\n",
       "    }\n",
       "\n",
       "    .dataframe thead th {\n",
       "        text-align: right;\n",
       "    }\n",
       "</style>\n",
       "<table border=\"1\" class=\"dataframe\">\n",
       "  <thead>\n",
       "    <tr style=\"text-align: right;\">\n",
       "      <th></th>\n",
       "      <th>is_null_count</th>\n",
       "    </tr>\n",
       "  </thead>\n",
       "  <tbody>\n",
       "    <tr>\n",
       "      <th>age</th>\n",
       "      <td>0</td>\n",
       "    </tr>\n",
       "    <tr>\n",
       "      <th>work_class</th>\n",
       "      <td>0</td>\n",
       "    </tr>\n",
       "    <tr>\n",
       "      <th>fnlwgt</th>\n",
       "      <td>0</td>\n",
       "    </tr>\n",
       "    <tr>\n",
       "      <th>education</th>\n",
       "      <td>0</td>\n",
       "    </tr>\n",
       "    <tr>\n",
       "      <th>edu_years</th>\n",
       "      <td>0</td>\n",
       "    </tr>\n",
       "    <tr>\n",
       "      <th>marital_status</th>\n",
       "      <td>0</td>\n",
       "    </tr>\n",
       "    <tr>\n",
       "      <th>occupation</th>\n",
       "      <td>0</td>\n",
       "    </tr>\n",
       "    <tr>\n",
       "      <th>relationship</th>\n",
       "      <td>0</td>\n",
       "    </tr>\n",
       "    <tr>\n",
       "      <th>race</th>\n",
       "      <td>0</td>\n",
       "    </tr>\n",
       "    <tr>\n",
       "      <th>sex</th>\n",
       "      <td>0</td>\n",
       "    </tr>\n",
       "    <tr>\n",
       "      <th>capital_gain</th>\n",
       "      <td>0</td>\n",
       "    </tr>\n",
       "    <tr>\n",
       "      <th>capital_loss</th>\n",
       "      <td>0</td>\n",
       "    </tr>\n",
       "    <tr>\n",
       "      <th>hours_per_week</th>\n",
       "      <td>0</td>\n",
       "    </tr>\n",
       "    <tr>\n",
       "      <th>native_country</th>\n",
       "      <td>0</td>\n",
       "    </tr>\n",
       "    <tr>\n",
       "      <th>income_bracket</th>\n",
       "      <td>0</td>\n",
       "    </tr>\n",
       "  </tbody>\n",
       "</table>\n",
       "</div>"
      ],
      "text/plain": [
       "                is_null_count\n",
       "age                         0\n",
       "work_class                  0\n",
       "fnlwgt                      0\n",
       "education                   0\n",
       "edu_years                   0\n",
       "marital_status              0\n",
       "occupation                  0\n",
       "relationship                0\n",
       "race                        0\n",
       "sex                         0\n",
       "capital_gain                0\n",
       "capital_loss                0\n",
       "hours_per_week              0\n",
       "native_country              0\n",
       "income_bracket              0"
      ]
     },
     "execution_count": 27,
     "metadata": {},
     "output_type": "execute_result"
    }
   ],
   "source": [
    "pd.DataFrame({\"is_null_count\": adult_census.isnull().sum()})"
   ]
  },
  {
   "cell_type": "markdown",
   "metadata": {},
   "source": [
    "As another small update, I'm also dropping the fnlwgt column as well. With this, there are 14 columns remaining for the modelling work."
   ]
  },
  {
   "cell_type": "code",
   "execution_count": 3,
   "metadata": {},
   "outputs": [
    {
     "name": "stdout",
     "output_type": "stream",
     "text": [
      "The updated census data has 32561 rows and 14 columns\n"
     ]
    }
   ],
   "source": [
    "adult_census = adult_census.drop(columns=[\"fnlwgt\"])\n",
    "\n",
    "print(\"The updated census data has\", \n",
    "      adult_census.shape[0], \"rows and\", \n",
    "      adult_census.shape[1],  \"columns\")"
   ]
  },
  {
   "cell_type": "markdown",
   "metadata": {},
   "source": [
    "The final formal update to the set is replacing the categorical income bracket labels with numeric values. For this,  $50K \\leq$ becomes a zero while over 50K a one. To validate that the replacement worked, I've done a value count for each level in the variable. As seen, the labels are now numeric. The set has about 76% of individuals $50K \\leq$ yearly."
   ]
  },
  {
   "cell_type": "code",
   "execution_count": 4,
   "metadata": {},
   "outputs": [
    {
     "data": {
      "text/html": [
       "<div>\n",
       "<style scoped>\n",
       "    .dataframe tbody tr th:only-of-type {\n",
       "        vertical-align: middle;\n",
       "    }\n",
       "\n",
       "    .dataframe tbody tr th {\n",
       "        vertical-align: top;\n",
       "    }\n",
       "\n",
       "    .dataframe thead th {\n",
       "        text-align: right;\n",
       "    }\n",
       "</style>\n",
       "<table border=\"1\" class=\"dataframe\">\n",
       "  <thead>\n",
       "    <tr style=\"text-align: right;\">\n",
       "      <th></th>\n",
       "      <th>income_count</th>\n",
       "    </tr>\n",
       "  </thead>\n",
       "  <tbody>\n",
       "    <tr>\n",
       "      <th>0</th>\n",
       "      <td>24720</td>\n",
       "    </tr>\n",
       "    <tr>\n",
       "      <th>1</th>\n",
       "      <td>7841</td>\n",
       "    </tr>\n",
       "  </tbody>\n",
       "</table>\n",
       "</div>"
      ],
      "text/plain": [
       "   income_count\n",
       "0         24720\n",
       "1          7841"
      ]
     },
     "execution_count": 4,
     "metadata": {},
     "output_type": "execute_result"
    }
   ],
   "source": [
    "adult_census[\"income_bracket\"] = adult_census[\"income_bracket\"].replace([\"<=50K\", \">50K\"], [0, 1])\n",
    "\n",
    "pd.DataFrame({\"income_count\": adult_census[\"income_bracket\"].value_counts()})"
   ]
  },
  {
   "cell_type": "markdown",
   "metadata": {},
   "source": [
    "With the cleaning complete, I've split the data into training and test for the modelling portion. I've elected to use a 70/30 split, which is confirmed by the dimensional prinout from the new sets. As an additional update, I've used dummy coding for the categorical features. This expands the set to 107 columns."
   ]
  },
  {
   "cell_type": "code",
   "execution_count": 5,
   "metadata": {},
   "outputs": [
    {
     "name": "stdout",
     "output_type": "stream",
     "text": [
      "Training set rows: 22792 which is 70.0 percent of total records\n",
      "Test set rows: 9769 which is 30.0 percent of total records\n",
      "Training set columns: 107\n",
      "Test set columns: 107\n"
     ]
    }
   ],
   "source": [
    "from sklearn.model_selection import train_test_split\n",
    "import numpy as np\n",
    "\n",
    "predictors = adult_census.drop(columns=[\"income_bracket\"], axis=1)\n",
    "\n",
    "X_encoded = pd.get_dummies(predictors)\n",
    "\n",
    "outcome = adult_census[[\"income_bracket\"]]\n",
    "\n",
    "X_train, X_test, y_train, y_test = train_test_split(X_encoded, outcome, random_state=1017, test_size=.3)\n",
    "\n",
    "print(\n",
    "\"Training set rows:\", X_train.shape[0], \"which is\", \n",
    "    np.round(X_train.shape[0] / adult_census.shape[0] * 100), \n",
    "    \"percent of total records\"\n",
    ")\n",
    "\n",
    "print(\n",
    "\"Test set rows:\", X_test.shape[0], \"which is\", \n",
    "    np.round(X_test.shape[0] / adult_census.shape[0] * 100),\n",
    "    \"percent of total records\"\n",
    ")\n",
    "\n",
    "print(\"Training set columns:\", X_train.shape[1])\n",
    "print(\"Test set columns:\", X_test.shape[1])"
   ]
  },
  {
   "cell_type": "code",
   "execution_count": 76,
   "metadata": {},
   "outputs": [
    {
     "data": {
      "text/html": [
       "<div>\n",
       "<style scoped>\n",
       "    .dataframe tbody tr th:only-of-type {\n",
       "        vertical-align: middle;\n",
       "    }\n",
       "\n",
       "    .dataframe tbody tr th {\n",
       "        vertical-align: top;\n",
       "    }\n",
       "\n",
       "    .dataframe thead th {\n",
       "        text-align: right;\n",
       "    }\n",
       "</style>\n",
       "<table border=\"1\" class=\"dataframe\">\n",
       "  <thead>\n",
       "    <tr style=\"text-align: right;\">\n",
       "      <th></th>\n",
       "      <th>income_bracket</th>\n",
       "    </tr>\n",
       "  </thead>\n",
       "  <tbody>\n",
       "    <tr>\n",
       "      <th>14561</th>\n",
       "      <td>0</td>\n",
       "    </tr>\n",
       "    <tr>\n",
       "      <th>11939</th>\n",
       "      <td>0</td>\n",
       "    </tr>\n",
       "    <tr>\n",
       "      <th>29771</th>\n",
       "      <td>1</td>\n",
       "    </tr>\n",
       "    <tr>\n",
       "      <th>15006</th>\n",
       "      <td>1</td>\n",
       "    </tr>\n",
       "    <tr>\n",
       "      <th>27503</th>\n",
       "      <td>0</td>\n",
       "    </tr>\n",
       "  </tbody>\n",
       "</table>\n",
       "</div>"
      ],
      "text/plain": [
       "       income_bracket\n",
       "14561               0\n",
       "11939               0\n",
       "29771               1\n",
       "15006               1\n",
       "27503               0"
      ]
     },
     "execution_count": 76,
     "metadata": {},
     "output_type": "execute_result"
    }
   ],
   "source": [
    "y_train.head()"
   ]
  },
  {
   "cell_type": "markdown",
   "metadata": {},
   "source": [
    "### Baseline Random Forest Classifier\n",
    "\n",
    "The baseline random forest is an okay starting point for getting a better understanding of the prediction task. That said, without any tuning parameters, especially max depth, the model should be very overfit. There's still some value to using it as a starting point though. Below, I've fit the baseline model."
   ]
  },
  {
   "cell_type": "code",
   "execution_count": 140,
   "metadata": {},
   "outputs": [
    {
     "data": {
      "text/plain": [
       "RandomForestClassifier(bootstrap=True, class_weight=None, criterion='gini',\n",
       "            max_depth=None, max_features='auto', max_leaf_nodes=None,\n",
       "            min_impurity_decrease=0.0, min_impurity_split=None,\n",
       "            min_samples_leaf=1, min_samples_split=2,\n",
       "            min_weight_fraction_leaf=0.0, n_estimators=10, n_jobs=1,\n",
       "            oob_score=False, random_state=1017, verbose=0,\n",
       "            warm_start=False)"
      ]
     },
     "execution_count": 140,
     "metadata": {},
     "output_type": "execute_result"
    }
   ],
   "source": [
    "from sklearn.ensemble import RandomForestClassifier\n",
    "\n",
    "rf=RandomForestClassifier(random_state=1017)\n",
    "\n",
    "rf.fit(X_train, y_train.values.ravel())"
   ]
  },
  {
   "cell_type": "markdown",
   "metadata": {},
   "source": [
    "The initial few predictions look promising enough. The classifier shows all five records are accurate here."
   ]
  },
  {
   "cell_type": "code",
   "execution_count": 141,
   "metadata": {},
   "outputs": [
    {
     "data": {
      "text/html": [
       "<div>\n",
       "<style scoped>\n",
       "    .dataframe tbody tr th:only-of-type {\n",
       "        vertical-align: middle;\n",
       "    }\n",
       "\n",
       "    .dataframe tbody tr th {\n",
       "        vertical-align: top;\n",
       "    }\n",
       "\n",
       "    .dataframe thead th {\n",
       "        text-align: right;\n",
       "    }\n",
       "</style>\n",
       "<table border=\"1\" class=\"dataframe\">\n",
       "  <thead>\n",
       "    <tr style=\"text-align: right;\">\n",
       "      <th></th>\n",
       "      <th>actual</th>\n",
       "      <th>class_pred</th>\n",
       "      <th>over_50_prob</th>\n",
       "      <th>under_50_prob</th>\n",
       "    </tr>\n",
       "  </thead>\n",
       "  <tbody>\n",
       "    <tr>\n",
       "      <th>8584</th>\n",
       "      <td>1</td>\n",
       "      <td>1</td>\n",
       "      <td>0.7</td>\n",
       "      <td>0.3</td>\n",
       "    </tr>\n",
       "    <tr>\n",
       "      <th>16101</th>\n",
       "      <td>0</td>\n",
       "      <td>0</td>\n",
       "      <td>0.0</td>\n",
       "      <td>1.0</td>\n",
       "    </tr>\n",
       "    <tr>\n",
       "      <th>15201</th>\n",
       "      <td>0</td>\n",
       "      <td>0</td>\n",
       "      <td>0.4</td>\n",
       "      <td>0.6</td>\n",
       "    </tr>\n",
       "    <tr>\n",
       "      <th>15160</th>\n",
       "      <td>1</td>\n",
       "      <td>1</td>\n",
       "      <td>1.0</td>\n",
       "      <td>0.0</td>\n",
       "    </tr>\n",
       "    <tr>\n",
       "      <th>11843</th>\n",
       "      <td>0</td>\n",
       "      <td>0</td>\n",
       "      <td>0.0</td>\n",
       "      <td>1.0</td>\n",
       "    </tr>\n",
       "  </tbody>\n",
       "</table>\n",
       "</div>"
      ],
      "text/plain": [
       "       actual  class_pred  over_50_prob  under_50_prob\n",
       "8584        1           1           0.7            0.3\n",
       "16101       0           0           0.0            1.0\n",
       "15201       0           0           0.4            0.6\n",
       "15160       1           1           1.0            0.0\n",
       "11843       0           0           0.0            1.0"
      ]
     },
     "execution_count": 141,
     "metadata": {},
     "output_type": "execute_result"
    }
   ],
   "source": [
    "baseline_rf_preds = pd.DataFrame({\n",
    "    \"actual\": y_test[\"income_bracket\"],\n",
    "    \"class_pred\": rf.predict(X_test),\n",
    "    \"under_50_prob\": rf.predict_proba(X_test)[:,0],\n",
    "    \"over_50_prob\": rf.predict_proba(X_test)[:,1]\n",
    "})\n",
    "\n",
    "baseline_rf_preds.head()"
   ]
  },
  {
   "cell_type": "markdown",
   "metadata": {},
   "source": [
    "The confusion matrix shows a reasonable first result. I'm not in tune with the business or social research context but, I'm assuming the idea is to have a good balanced accuracy here. The under 50 predictions are more reasonable here but, the true over 50 values still seem good."
   ]
  },
  {
   "cell_type": "code",
   "execution_count": 142,
   "metadata": {},
   "outputs": [
    {
     "data": {
      "text/html": [
       "<div>\n",
       "<style scoped>\n",
       "    .dataframe tbody tr th:only-of-type {\n",
       "        vertical-align: middle;\n",
       "    }\n",
       "\n",
       "    .dataframe tbody tr th {\n",
       "        vertical-align: top;\n",
       "    }\n",
       "\n",
       "    .dataframe thead th {\n",
       "        text-align: right;\n",
       "    }\n",
       "</style>\n",
       "<table border=\"1\" class=\"dataframe\">\n",
       "  <thead>\n",
       "    <tr style=\"text-align: right;\">\n",
       "      <th></th>\n",
       "      <th>Under 50</th>\n",
       "      <th>Over 50</th>\n",
       "    </tr>\n",
       "  </thead>\n",
       "  <tbody>\n",
       "    <tr>\n",
       "      <th>Under 50</th>\n",
       "      <td>6793</td>\n",
       "      <td>635</td>\n",
       "    </tr>\n",
       "    <tr>\n",
       "      <th>Over 50</th>\n",
       "      <td>941</td>\n",
       "      <td>1400</td>\n",
       "    </tr>\n",
       "  </tbody>\n",
       "</table>\n",
       "</div>"
      ],
      "text/plain": [
       "          Under 50  Over 50\n",
       "Under 50      6793      635\n",
       "Over 50        941     1400"
      ]
     },
     "execution_count": 142,
     "metadata": {},
     "output_type": "execute_result"
    }
   ],
   "source": [
    "import sklearn.metrics as metrics\n",
    "\n",
    "earnings_cm = pd.DataFrame(confusion_matrix(y_true=y_test[\"income_bracket\"], \n",
    "                                           y_pred=baseline_rf_preds[\"class_pred\"]), \n",
    "                          columns=pd.Series([\"Under 50\", \"Over 50\"], dtype=\"category\"),\n",
    "                          index=pd.Series([\"Under 50\", \"Over 50\"], dtype=\"category\"))\n",
    "\n",
    "earnings_cm"
   ]
  },
  {
   "cell_type": "markdown",
   "metadata": {},
   "source": [
    "the classification report seems to add more depth to the balance argument. Overall, the metrics seem balanced across all classes, though they are better for under 50 predictions."
   ]
  },
  {
   "cell_type": "code",
   "execution_count": 143,
   "metadata": {},
   "outputs": [
    {
     "name": "stdout",
     "output_type": "stream",
     "text": [
      "             precision    recall  f1-score   support\n",
      "\n",
      "          0       0.88      0.91      0.90      7428\n",
      "          1       0.69      0.60      0.64      2341\n",
      "\n",
      "avg / total       0.83      0.84      0.83      9769\n",
      "\n"
     ]
    }
   ],
   "source": [
    "print(classification_report(y_test[\"income_bracket\"], baseline_rf_preds[\"class_pred\"]))"
   ]
  },
  {
   "cell_type": "markdown",
   "metadata": {},
   "source": [
    "The test AUC score is also very impressive showing about .87. Given this is the baseline model, this seems to suggest the tuned models will be able to provide very good predictions."
   ]
  },
  {
   "cell_type": "code",
   "execution_count": 85,
   "metadata": {},
   "outputs": [
    {
     "name": "stdout",
     "output_type": "stream",
     "text": [
      "Initial random forest default model AUC: 0.8692\n"
     ]
    }
   ],
   "source": [
    "print(\"Initial random forest default model AUC:\", \n",
    "      metrics.roc_auc_score(y_test[\"income_bracket\"], baseline_rf_preds[\"over_50_prob\"]).round(4))"
   ]
  },
  {
   "cell_type": "markdown",
   "metadata": {},
   "source": [
    "Looking into what might be driving this result, I've included the top 5 variables by importance here. Age appears as the most important. Putting them all together, my intuition is educated, older, and married individuals do better. The capital gains variable feels like it might be slight data leakage given this represents a tax from the sale of specific types of assets, including stocks, bonds, precious metals and real estate. Inherently, an individual needs a reasonable amount of money to make these types of sales so it's not surprising to see it as important for classifyig individuals who would make over 50K."
   ]
  },
  {
   "cell_type": "code",
   "execution_count": 144,
   "metadata": {},
   "outputs": [
    {
     "data": {
      "text/html": [
       "<div>\n",
       "<style scoped>\n",
       "    .dataframe tbody tr th:only-of-type {\n",
       "        vertical-align: middle;\n",
       "    }\n",
       "\n",
       "    .dataframe tbody tr th {\n",
       "        vertical-align: top;\n",
       "    }\n",
       "\n",
       "    .dataframe thead th {\n",
       "        text-align: right;\n",
       "    }\n",
       "</style>\n",
       "<table border=\"1\" class=\"dataframe\">\n",
       "  <thead>\n",
       "    <tr style=\"text-align: right;\">\n",
       "      <th></th>\n",
       "      <th>name</th>\n",
       "      <th>var_importance</th>\n",
       "    </tr>\n",
       "  </thead>\n",
       "  <tbody>\n",
       "    <tr>\n",
       "      <th>0</th>\n",
       "      <td>age</td>\n",
       "      <td>0.235792</td>\n",
       "    </tr>\n",
       "    <tr>\n",
       "      <th>4</th>\n",
       "      <td>hours_per_week</td>\n",
       "      <td>0.116604</td>\n",
       "    </tr>\n",
       "    <tr>\n",
       "      <th>2</th>\n",
       "      <td>capital_gain</td>\n",
       "      <td>0.099821</td>\n",
       "    </tr>\n",
       "    <tr>\n",
       "      <th>32</th>\n",
       "      <td>marital_status_Married-civ-spouse</td>\n",
       "      <td>0.081542</td>\n",
       "    </tr>\n",
       "    <tr>\n",
       "      <th>1</th>\n",
       "      <td>edu_years</td>\n",
       "      <td>0.064467</td>\n",
       "    </tr>\n",
       "  </tbody>\n",
       "</table>\n",
       "</div>"
      ],
      "text/plain": [
       "                                 name  var_importance\n",
       "0                                 age        0.235792\n",
       "4                      hours_per_week        0.116604\n",
       "2                        capital_gain        0.099821\n",
       "32  marital_status_Married-civ-spouse        0.081542\n",
       "1                           edu_years        0.064467"
      ]
     },
     "execution_count": 144,
     "metadata": {},
     "output_type": "execute_result"
    }
   ],
   "source": [
    "var_importance =  pd.DataFrame({\n",
    "    \"name\": list(X_train.head(0)),\n",
    "    \"var_importance\": rf.feature_importances_}) \n",
    "\n",
    "var_importance.sort_values(by=[\"var_importance\"], ascending=False).head()"
   ]
  },
  {
   "cell_type": "markdown",
   "metadata": {},
   "source": [
    "Checking on overfitting, it's not surprising to see such a high model accuracy and AUC. As I mentioned, the default tree setting has no max depth specified so it fits the data nearly perfectly creating the overfit model; that's sort of given with this baseline model. That said, the initial accuracy metrics in test are a reasonable starting point. A tuned model should show some evaluation metric increases."
   ]
  },
  {
   "cell_type": "code",
   "execution_count": 95,
   "metadata": {},
   "outputs": [
    {
     "name": "stdout",
     "output_type": "stream",
     "text": [
      "             precision    recall  f1-score   support\n",
      "\n",
      "          0       0.97      0.99      0.98     17292\n",
      "          1       0.96      0.91      0.94      5500\n",
      "\n",
      "avg / total       0.97      0.97      0.97     22792\n",
      "\n",
      "Initial random forest default model training AUC: 0.9958\n"
     ]
    }
   ],
   "source": [
    "baseline_rf_train_preds = pd.DataFrame({\n",
    "    \"actual\": y_train[\"income_bracket\"],\n",
    "    \"class_pred\": rf.predict(X_train),\n",
    "    \"under_50_prob\": rf.predict_proba(X_train)[:,0],\n",
    "    \"over_50_prob\": rf.predict_proba(X_train)[:,1]\n",
    "})\n",
    "\n",
    "print(classification_report(y_train[\"income_bracket\"], baseline_rf_train_preds[\"class_pred\"]))\n",
    "print(\"Initial random forest default model training AUC:\", \n",
    "      metrics.roc_auc_score(y_train[\"income_bracket\"], baseline_rf_train_preds[\"over_50_prob\"]).round(4))"
   ]
  },
  {
   "cell_type": "markdown",
   "metadata": {},
   "source": [
    "### AdaBoost Classifier with Grid Search\n",
    "\n",
    "With the baseline established, I'll work to develop some more tuned options. Starting this, I've included an AdaBoost model. It's being tuned with a grid search operation using ROC as the evaluation metric. Since I'll be constructing three tuned models with different search methods and parameters, I've developed a function that can accommodate the necessary customization and return the necessary evaluation objects, including reports and confusion matrices."
   ]
  },
  {
   "cell_type": "code",
   "execution_count": 33,
   "metadata": {},
   "outputs": [
    {
     "name": "stdout",
     "output_type": "stream",
     "text": [
      "Fitting 5 folds for each of 24 candidates, totalling 120 fits\n"
     ]
    },
    {
     "name": "stderr",
     "output_type": "stream",
     "text": [
      "[Parallel(n_jobs=-1)]: Done  10 tasks      | elapsed:   23.6s\n",
      "[Parallel(n_jobs=-1)]: Done  64 tasks      | elapsed:  2.8min\n",
      "[Parallel(n_jobs=-1)]: Done 120 out of 120 | elapsed:  5.5min finished\n"
     ]
    },
    {
     "name": "stdout",
     "output_type": "stream",
     "text": [
      "Best model parameters from Grid Search:\n",
      "{'learning_rate': 1.2, 'n_estimators': 400, 'random_state': 1017}\n"
     ]
    }
   ],
   "source": [
    "from sklearn.ensemble import AdaBoostClassifier\n",
    "from sklearn.ensemble import GradientBoostingClassifier\n",
    "from sklearn.model_selection import GridSearchCV\n",
    "\n",
    "def custom_tune(classifier, search, tune_params):\n",
    "    grid_search_model = search(classifier, tune_params, cv = 5, \n",
    "                               scoring = \"roc_auc\", refit = True, n_jobs = -1, verbose = 5)\n",
    "    grid_search_model.fit(X_train, y_train.values.ravel())\n",
    "    \n",
    "    #developing predictions using model fit\n",
    "    grid_search_train_preds = pd.DataFrame({\n",
    "    \"actual\": y_train[\"income_bracket\"],\n",
    "    \"class_pred\": grid_search_model.best_estimator_.predict(X_train),\n",
    "    \"under_50_prob\": grid_search_model.best_estimator_.predict_proba(X_train)[:,0],\n",
    "    \"over_50_prob\": grid_search_model.best_estimator_.predict_proba(X_train)[:,1]\n",
    "    })\n",
    "    \n",
    "    grid_search_test_preds = pd.DataFrame({\n",
    "    \"actual\": y_test[\"income_bracket\"],\n",
    "    \"class_pred\": grid_search_model.best_estimator_.predict(X_test),\n",
    "    \"under_50_prob\": grid_search_model.best_estimator_.predict_proba(X_test)[:,0],\n",
    "    \"over_50_prob\": grid_search_model.best_estimator_.predict_proba(X_test)[:,1]\n",
    "    })\n",
    "    \n",
    "    #creating confusion matrix for preds\n",
    "    tuned_train_cm = pd.DataFrame(confusion_matrix(y_true=y_train[\"income_bracket\"], \n",
    "                                                           y_pred=grid_search_train_preds[\"class_pred\"]), \n",
    "                                          columns=pd.Series([\"Under 50\", \"Over 50\"], dtype=\"category\"),\n",
    "                                          index=pd.Series([\"Under 50\", \"Over 50\"], dtype=\"category\"))\n",
    "    \n",
    "    tuned_test_cm = pd.DataFrame(confusion_matrix(y_true=y_test[\"income_bracket\"], \n",
    "                                                           y_pred=grid_search_test_preds[\"class_pred\"]), \n",
    "                                          columns=pd.Series([\"Under 50\", \"Over 50\"], dtype=\"category\"),\n",
    "                                          index=pd.Series([\"Under 50\", \"Over 50\"], dtype=\"category\"))\n",
    "    \n",
    "    #creating classification reports\n",
    "    train_class_report = classification_report(y_train[\"income_bracket\"], \n",
    "                                               grid_search_train_preds[\"class_pred\"])\n",
    "    test_class_report = classification_report(y_test[\"income_bracket\"], \n",
    "                                              grid_search_test_preds[\"class_pred\"])\n",
    "    \n",
    "    #creating auc\n",
    "    train_auc = metrics.roc_auc_score(y_train[\"income_bracket\"], grid_search_train_preds[\"over_50_prob\"]).round(4)\n",
    "    test_auc = metrics.roc_auc_score(y_test[\"income_bracket\"], grid_search_test_preds[\"over_50_prob\"]).round(4)\n",
    "    \n",
    "    #creating feature importance\n",
    "    feature_importance = grid_search_model.best_estimator_.feature_importances_\n",
    "    \n",
    "    output = {\"test_cm\": tuned_test_cm,\n",
    "              \"train_cm\": tuned_train_cm,\n",
    "              \"test_report\": test_class_report,\n",
    "              \"train_report\": train_class_report,\n",
    "              \"test_auc\": test_auc,\n",
    "              \"train_auc\": train_auc,\n",
    "              \"test_results\": grid_search_test_preds,\n",
    "              \"feature_importance\": feature_importance\n",
    "              }\n",
    "    \n",
    "    print(\"Best model parameters from Grid Search:\")\n",
    "    print(grid_search_model.best_params_)\n",
    "    \n",
    "    \n",
    "    return(output)\n",
    "\n",
    "ada=AdaBoostClassifier(random_state=1017)\n",
    "\n",
    "ada_parameters = {\n",
    "    \"learning_rate\": [0.2, 0.4, 0.6, 0.8, 1,  1.2],\n",
    "    \"n_estimators\": [100, 200, 300, 400],\n",
    "    \"random_state\":[1017]\n",
    "}\n",
    "\n",
    "tuned_ada = custom_tune(classifier=ada, search=GridSearchCV, tune_params=ada_parameters)"
   ]
  },
  {
   "cell_type": "markdown",
   "metadata": {},
   "source": [
    "the initial test confusion matrix shows a nice upgrade from the baseline random forest. The true negatives were 1400 in that model and have risen to 1509 here highlighting better predictive powers. "
   ]
  },
  {
   "cell_type": "code",
   "execution_count": 34,
   "metadata": {
    "scrolled": true
   },
   "outputs": [
    {
     "data": {
      "text/html": [
       "<div>\n",
       "<style scoped>\n",
       "    .dataframe tbody tr th:only-of-type {\n",
       "        vertical-align: middle;\n",
       "    }\n",
       "\n",
       "    .dataframe tbody tr th {\n",
       "        vertical-align: top;\n",
       "    }\n",
       "\n",
       "    .dataframe thead th {\n",
       "        text-align: right;\n",
       "    }\n",
       "</style>\n",
       "<table border=\"1\" class=\"dataframe\">\n",
       "  <thead>\n",
       "    <tr style=\"text-align: right;\">\n",
       "      <th></th>\n",
       "      <th>Under 50</th>\n",
       "      <th>Over 50</th>\n",
       "    </tr>\n",
       "  </thead>\n",
       "  <tbody>\n",
       "    <tr>\n",
       "      <th>Under 50</th>\n",
       "      <td>6974</td>\n",
       "      <td>454</td>\n",
       "    </tr>\n",
       "    <tr>\n",
       "      <th>Over 50</th>\n",
       "      <td>832</td>\n",
       "      <td>1509</td>\n",
       "    </tr>\n",
       "  </tbody>\n",
       "</table>\n",
       "</div>"
      ],
      "text/plain": [
       "          Under 50  Over 50\n",
       "Under 50      6974      454\n",
       "Over 50        832     1509"
      ]
     },
     "execution_count": 34,
     "metadata": {},
     "output_type": "execute_result"
    }
   ],
   "source": [
    "tuned_ada[\"test_cm\"]"
   ]
  },
  {
   "cell_type": "markdown",
   "metadata": {},
   "source": [
    "The classification report further bolsters this. The average metrics are each up 3 points from the random forest. This highlights that the tuning, and boosting model, seem to help improve the predictive work."
   ]
  },
  {
   "cell_type": "code",
   "execution_count": 103,
   "metadata": {
    "scrolled": true
   },
   "outputs": [
    {
     "name": "stdout",
     "output_type": "stream",
     "text": [
      "             precision    recall  f1-score   support\n",
      "\n",
      "          0       0.89      0.94      0.92      7428\n",
      "          1       0.77      0.64      0.70      2341\n",
      "\n",
      "avg / total       0.86      0.87      0.86      9769\n",
      "\n"
     ]
    }
   ],
   "source": [
    "print(tuned_ada[\"test_report\"])"
   ]
  },
  {
   "cell_type": "markdown",
   "metadata": {},
   "source": [
    "As a final evaluation metric, the AdaBoost AUC is about .925, another increase from the original .869 from the random forest."
   ]
  },
  {
   "cell_type": "code",
   "execution_count": 125,
   "metadata": {},
   "outputs": [
    {
     "name": "stdout",
     "output_type": "stream",
     "text": [
      "Tuned AdaBoost model test AUC: 0.9252\n"
     ]
    }
   ],
   "source": [
    "print(\"Tuned AdaBoost model test AUC:\", tuned_ada[\"test_auc\"])"
   ]
  },
  {
   "cell_type": "markdown",
   "metadata": {},
   "source": [
    "The prediction evaluation output for the fitted training values are found below. The results show the model is perhaps slightly overfit but, in general the evaluation metrics between train and test have been greatly reduced. For example, all the classification report average metrics are more or less equal while the AUC is also congruent. While there is still some generalization error gap, the overfitting has been diminished."
   ]
  },
  {
   "cell_type": "code",
   "execution_count": 105,
   "metadata": {},
   "outputs": [
    {
     "data": {
      "text/html": [
       "<div>\n",
       "<style scoped>\n",
       "    .dataframe tbody tr th:only-of-type {\n",
       "        vertical-align: middle;\n",
       "    }\n",
       "\n",
       "    .dataframe tbody tr th {\n",
       "        vertical-align: top;\n",
       "    }\n",
       "\n",
       "    .dataframe thead th {\n",
       "        text-align: right;\n",
       "    }\n",
       "</style>\n",
       "<table border=\"1\" class=\"dataframe\">\n",
       "  <thead>\n",
       "    <tr style=\"text-align: right;\">\n",
       "      <th></th>\n",
       "      <th>Under 50</th>\n",
       "      <th>Over 50</th>\n",
       "    </tr>\n",
       "  </thead>\n",
       "  <tbody>\n",
       "    <tr>\n",
       "      <th>Under 50</th>\n",
       "      <td>16296</td>\n",
       "      <td>996</td>\n",
       "    </tr>\n",
       "    <tr>\n",
       "      <th>Over 50</th>\n",
       "      <td>1911</td>\n",
       "      <td>3589</td>\n",
       "    </tr>\n",
       "  </tbody>\n",
       "</table>\n",
       "</div>"
      ],
      "text/plain": [
       "          Under 50  Over 50\n",
       "Under 50     16296      996\n",
       "Over 50       1911     3589"
      ]
     },
     "execution_count": 105,
     "metadata": {},
     "output_type": "execute_result"
    }
   ],
   "source": [
    "tuned_ada[\"train_cm\"]"
   ]
  },
  {
   "cell_type": "code",
   "execution_count": 107,
   "metadata": {},
   "outputs": [
    {
     "name": "stdout",
     "output_type": "stream",
     "text": [
      "             precision    recall  f1-score   support\n",
      "\n",
      "          0       0.90      0.94      0.92     17292\n",
      "          1       0.78      0.65      0.71      5500\n",
      "\n",
      "avg / total       0.87      0.87      0.87     22792\n",
      "\n"
     ]
    }
   ],
   "source": [
    "print(tuned_ada[\"train_report\"])"
   ]
  },
  {
   "cell_type": "code",
   "execution_count": 106,
   "metadata": {},
   "outputs": [
    {
     "name": "stdout",
     "output_type": "stream",
     "text": [
      "Tuned AdaBoost model train AUC: 0.9312\n"
     ]
    }
   ],
   "source": [
    "print(\"Tuned AdaBoost model train AUC:\", tuned_ada[\"train_auc\"])"
   ]
  },
  {
   "cell_type": "markdown",
   "metadata": {},
   "source": [
    "The top 5 features here show some similarities with the random forest but, there are some differences. Now, both capital losses and gains are shown as being the top two predictors. Again, I think this makes intuitive sense given they're linked to transactions commonly linked to wealthier people. The other three were still identified by the the random forest, though not in the ranking order. Overall though, there is clear commonality between the model's on feature importance."
   ]
  },
  {
   "cell_type": "code",
   "execution_count": 42,
   "metadata": {
    "scrolled": true
   },
   "outputs": [
    {
     "data": {
      "text/html": [
       "<div>\n",
       "<style scoped>\n",
       "    .dataframe tbody tr th:only-of-type {\n",
       "        vertical-align: middle;\n",
       "    }\n",
       "\n",
       "    .dataframe tbody tr th {\n",
       "        vertical-align: top;\n",
       "    }\n",
       "\n",
       "    .dataframe thead th {\n",
       "        text-align: right;\n",
       "    }\n",
       "</style>\n",
       "<table border=\"1\" class=\"dataframe\">\n",
       "  <thead>\n",
       "    <tr style=\"text-align: right;\">\n",
       "      <th></th>\n",
       "      <th>name</th>\n",
       "      <th>var_importance</th>\n",
       "    </tr>\n",
       "  </thead>\n",
       "  <tbody>\n",
       "    <tr>\n",
       "      <th>2</th>\n",
       "      <td>capital_gain</td>\n",
       "      <td>0.4125</td>\n",
       "    </tr>\n",
       "    <tr>\n",
       "      <th>3</th>\n",
       "      <td>capital_loss</td>\n",
       "      <td>0.1925</td>\n",
       "    </tr>\n",
       "    <tr>\n",
       "      <th>0</th>\n",
       "      <td>age</td>\n",
       "      <td>0.1100</td>\n",
       "    </tr>\n",
       "    <tr>\n",
       "      <th>4</th>\n",
       "      <td>hours_per_week</td>\n",
       "      <td>0.0625</td>\n",
       "    </tr>\n",
       "    <tr>\n",
       "      <th>1</th>\n",
       "      <td>edu_years</td>\n",
       "      <td>0.0150</td>\n",
       "    </tr>\n",
       "  </tbody>\n",
       "</table>\n",
       "</div>"
      ],
      "text/plain": [
       "             name  var_importance\n",
       "2    capital_gain          0.4125\n",
       "3    capital_loss          0.1925\n",
       "0             age          0.1100\n",
       "4  hours_per_week          0.0625\n",
       "1       edu_years          0.0150"
      ]
     },
     "execution_count": 42,
     "metadata": {},
     "output_type": "execute_result"
    }
   ],
   "source": [
    "tuned_ada_importance = pd.DataFrame({\n",
    "    \"name\": list(X_train.head(0)),\n",
    "    \"var_importance\": tuned_ada[\"feature_importance\"]\n",
    "})\n",
    "\n",
    "tuned_ada_importance.sort_values(by=[\"var_importance\"], ascending=False).head()"
   ]
  },
  {
   "cell_type": "markdown",
   "metadata": {},
   "source": [
    "### Gradient Boosting Classifier with Grid Search\n",
    "\n",
    "The next model is a gradient boosting classifier constructed using grid search."
   ]
  },
  {
   "cell_type": "code",
   "execution_count": 29,
   "metadata": {
    "scrolled": true
   },
   "outputs": [
    {
     "name": "stdout",
     "output_type": "stream",
     "text": [
      "Fitting 5 folds for each of 24 candidates, totalling 120 fits\n"
     ]
    },
    {
     "name": "stderr",
     "output_type": "stream",
     "text": [
      "[Parallel(n_jobs=-1)]: Done  10 tasks      | elapsed:   12.0s\n",
      "[Parallel(n_jobs=-1)]: Done  64 tasks      | elapsed:  2.0min\n",
      "[Parallel(n_jobs=-1)]: Done 120 out of 120 | elapsed:  4.2min finished\n"
     ]
    },
    {
     "name": "stdout",
     "output_type": "stream",
     "text": [
      "Best model parameters from Grid Search:\n",
      "{'learning_rate': 0.4, 'max_depth': 2, 'n_estimators': 400, 'random_state': 1017}\n"
     ]
    }
   ],
   "source": [
    "gbc=GradientBoostingClassifier(random_state=1017)\n",
    "\n",
    "gbc_parameters = {\n",
    "    \"max_depth\": [1, 2],\n",
    "    \"learning_rate\": [0.2, 0.4, 0.6],\n",
    "    \"n_estimators\": [100, 200, 300, 400],\n",
    "    \"random_state\":[1017]\n",
    "}\n",
    "\n",
    "tuned_gbc = custom_tune(classifier=gbc, search=GridSearchCV, tune_params=gbc_parameters)"
   ]
  },
  {
   "cell_type": "markdown",
   "metadata": {},
   "source": [
    "The initial confusion matrix seems to highlight that GBM is slightly better than the Ada model. The report also shows the average metrics have improved slightly so I think this iteration is preferable to the Ada construction."
   ]
  },
  {
   "cell_type": "code",
   "execution_count": 30,
   "metadata": {
    "scrolled": true
   },
   "outputs": [
    {
     "data": {
      "text/html": [
       "<div>\n",
       "<style scoped>\n",
       "    .dataframe tbody tr th:only-of-type {\n",
       "        vertical-align: middle;\n",
       "    }\n",
       "\n",
       "    .dataframe tbody tr th {\n",
       "        vertical-align: top;\n",
       "    }\n",
       "\n",
       "    .dataframe thead th {\n",
       "        text-align: right;\n",
       "    }\n",
       "</style>\n",
       "<table border=\"1\" class=\"dataframe\">\n",
       "  <thead>\n",
       "    <tr style=\"text-align: right;\">\n",
       "      <th></th>\n",
       "      <th>Under 50</th>\n",
       "      <th>Over 50</th>\n",
       "    </tr>\n",
       "  </thead>\n",
       "  <tbody>\n",
       "    <tr>\n",
       "      <th>Under 50</th>\n",
       "      <td>6991</td>\n",
       "      <td>437</td>\n",
       "    </tr>\n",
       "    <tr>\n",
       "      <th>Over 50</th>\n",
       "      <td>828</td>\n",
       "      <td>1513</td>\n",
       "    </tr>\n",
       "  </tbody>\n",
       "</table>\n",
       "</div>"
      ],
      "text/plain": [
       "          Under 50  Over 50\n",
       "Under 50      6991      437\n",
       "Over 50        828     1513"
      ]
     },
     "execution_count": 30,
     "metadata": {},
     "output_type": "execute_result"
    }
   ],
   "source": [
    "tuned_gbc[\"test_cm\"]"
   ]
  },
  {
   "cell_type": "code",
   "execution_count": 114,
   "metadata": {
    "scrolled": true
   },
   "outputs": [
    {
     "name": "stdout",
     "output_type": "stream",
     "text": [
      "             precision    recall  f1-score   support\n",
      "\n",
      "          0       0.89      0.94      0.92      7428\n",
      "          1       0.78      0.65      0.71      2341\n",
      "\n",
      "avg / total       0.87      0.87      0.87      9769\n",
      "\n"
     ]
    }
   ],
   "source": [
    "print(tuned_gbc[\"test_report\"])"
   ]
  },
  {
   "cell_type": "markdown",
   "metadata": {},
   "source": [
    "Likewise, the AUC has improved from .925 to .927."
   ]
  },
  {
   "cell_type": "code",
   "execution_count": 116,
   "metadata": {},
   "outputs": [
    {
     "name": "stdout",
     "output_type": "stream",
     "text": [
      "Tuned Gradient Boost Classifier model test AUC: 0.9266\n"
     ]
    }
   ],
   "source": [
    "print(\"Tuned Gradient Boost Classifier model test AUC:\", tuned_gbc[\"test_auc\"])"
   ]
  },
  {
   "cell_type": "markdown",
   "metadata": {},
   "source": [
    "Similar to the Ada model, the overfitting here appears marginal. The train and test evaluation metrics are close, though no perfectly overlapping."
   ]
  },
  {
   "cell_type": "code",
   "execution_count": 117,
   "metadata": {},
   "outputs": [
    {
     "data": {
      "text/html": [
       "<div>\n",
       "<style scoped>\n",
       "    .dataframe tbody tr th:only-of-type {\n",
       "        vertical-align: middle;\n",
       "    }\n",
       "\n",
       "    .dataframe tbody tr th {\n",
       "        vertical-align: top;\n",
       "    }\n",
       "\n",
       "    .dataframe thead th {\n",
       "        text-align: right;\n",
       "    }\n",
       "</style>\n",
       "<table border=\"1\" class=\"dataframe\">\n",
       "  <thead>\n",
       "    <tr style=\"text-align: right;\">\n",
       "      <th></th>\n",
       "      <th>Under 50</th>\n",
       "      <th>Over 50</th>\n",
       "    </tr>\n",
       "  </thead>\n",
       "  <tbody>\n",
       "    <tr>\n",
       "      <th>Under 50</th>\n",
       "      <td>16425</td>\n",
       "      <td>867</td>\n",
       "    </tr>\n",
       "    <tr>\n",
       "      <th>Over 50</th>\n",
       "      <td>1721</td>\n",
       "      <td>3779</td>\n",
       "    </tr>\n",
       "  </tbody>\n",
       "</table>\n",
       "</div>"
      ],
      "text/plain": [
       "          Under 50  Over 50\n",
       "Under 50     16425      867\n",
       "Over 50       1721     3779"
      ]
     },
     "execution_count": 117,
     "metadata": {},
     "output_type": "execute_result"
    }
   ],
   "source": [
    "tuned_gbc[\"train_cm\"]"
   ]
  },
  {
   "cell_type": "code",
   "execution_count": 118,
   "metadata": {},
   "outputs": [
    {
     "name": "stdout",
     "output_type": "stream",
     "text": [
      "             precision    recall  f1-score   support\n",
      "\n",
      "          0       0.91      0.95      0.93     17292\n",
      "          1       0.81      0.69      0.74      5500\n",
      "\n",
      "avg / total       0.88      0.89      0.88     22792\n",
      "\n"
     ]
    }
   ],
   "source": [
    "print(tuned_gbc[\"train_report\"])"
   ]
  },
  {
   "cell_type": "code",
   "execution_count": 119,
   "metadata": {},
   "outputs": [
    {
     "name": "stdout",
     "output_type": "stream",
     "text": [
      "Tuned Gradient Boost Classifier model train AUC: 0.9435\n"
     ]
    }
   ],
   "source": [
    "print(\"Tuned Gradient Boost Classifier model train AUC:\", tuned_gbc[\"train_auc\"])"
   ]
  },
  {
   "cell_type": "markdown",
   "metadata": {},
   "source": [
    "The top 5 features by variables by importance are the same as the Ada model but, in a different order. What's nice though is that the different model classes broadly align on the features given most of these have shown up across different options."
   ]
  },
  {
   "cell_type": "code",
   "execution_count": 41,
   "metadata": {},
   "outputs": [
    {
     "data": {
      "text/html": [
       "<div>\n",
       "<style scoped>\n",
       "    .dataframe tbody tr th:only-of-type {\n",
       "        vertical-align: middle;\n",
       "    }\n",
       "\n",
       "    .dataframe tbody tr th {\n",
       "        vertical-align: top;\n",
       "    }\n",
       "\n",
       "    .dataframe thead th {\n",
       "        text-align: right;\n",
       "    }\n",
       "</style>\n",
       "<table border=\"1\" class=\"dataframe\">\n",
       "  <thead>\n",
       "    <tr style=\"text-align: right;\">\n",
       "      <th></th>\n",
       "      <th>name</th>\n",
       "      <th>var_importance</th>\n",
       "    </tr>\n",
       "  </thead>\n",
       "  <tbody>\n",
       "    <tr>\n",
       "      <th>0</th>\n",
       "      <td>age</td>\n",
       "      <td>0.121181</td>\n",
       "    </tr>\n",
       "    <tr>\n",
       "      <th>3</th>\n",
       "      <td>capital_loss</td>\n",
       "      <td>0.109562</td>\n",
       "    </tr>\n",
       "    <tr>\n",
       "      <th>4</th>\n",
       "      <td>hours_per_week</td>\n",
       "      <td>0.104289</td>\n",
       "    </tr>\n",
       "    <tr>\n",
       "      <th>2</th>\n",
       "      <td>capital_gain</td>\n",
       "      <td>0.082247</td>\n",
       "    </tr>\n",
       "    <tr>\n",
       "      <th>1</th>\n",
       "      <td>edu_years</td>\n",
       "      <td>0.058285</td>\n",
       "    </tr>\n",
       "  </tbody>\n",
       "</table>\n",
       "</div>"
      ],
      "text/plain": [
       "             name  var_importance\n",
       "0             age        0.121181\n",
       "3    capital_loss        0.109562\n",
       "4  hours_per_week        0.104289\n",
       "2    capital_gain        0.082247\n",
       "1       edu_years        0.058285"
      ]
     },
     "execution_count": 41,
     "metadata": {},
     "output_type": "execute_result"
    }
   ],
   "source": [
    "tuned_gbc_importance = pd.DataFrame({\n",
    "    \"name\": list(X_train.head(0)),\n",
    "    \"var_importance\": tuned_gbc[\"feature_importance\"]\n",
    "})\n",
    "\n",
    "tuned_gbc_importance.sort_values(by=[\"var_importance\"], ascending=False).head()"
   ]
  },
  {
   "cell_type": "markdown",
   "metadata": {},
   "source": [
    "### Extreme Gradient Boosting (XGB) with Randomized CV Search\n",
    "\n",
    "The final construction here is an Extreme Gradient Boosting (XGB) with Randomized CV Search. The evaluation metrics highlight that it is the strongest option based on AUC. That said, it shows a slightly worse classification report than the GBM."
   ]
  },
  {
   "cell_type": "code",
   "execution_count": 21,
   "metadata": {},
   "outputs": [
    {
     "name": "stdout",
     "output_type": "stream",
     "text": [
      "Fitting 5 folds for each of 10 candidates, totalling 50 fits\n"
     ]
    },
    {
     "name": "stderr",
     "output_type": "stream",
     "text": [
      "[Parallel(n_jobs=-1)]: Done  10 tasks      | elapsed:  4.1min\n",
      "[Parallel(n_jobs=-1)]: Done  50 out of  50 | elapsed: 13.0min finished\n",
      "C:\\Users\\Mark\\Anaconda3\\lib\\site-packages\\sklearn\\preprocessing\\label.py:151: DeprecationWarning: The truth value of an empty array is ambiguous. Returning False, but in future this will result in an error. Use `array.size > 0` to check that an array is not empty.\n",
      "  if diff:\n",
      "C:\\Users\\Mark\\Anaconda3\\lib\\site-packages\\sklearn\\preprocessing\\label.py:151: DeprecationWarning: The truth value of an empty array is ambiguous. Returning False, but in future this will result in an error. Use `array.size > 0` to check that an array is not empty.\n",
      "  if diff:\n"
     ]
    },
    {
     "name": "stdout",
     "output_type": "stream",
     "text": [
      "Best model parameters from Grid Search:\n",
      "{'n_estimators': 400, 'max_depth': 2, 'learning_rate:': 1.0, 'gamma': 1.0}\n"
     ]
    }
   ],
   "source": [
    "from xgboost.sklearn import XGBClassifier\n",
    "from sklearn.model_selection import RandomizedSearchCV\n",
    "\n",
    "xgb=XGBClassifier(random_state=1017)\n",
    "\n",
    "xgb_parameters = {\"max_depth\": [1, 2],\n",
    "                  \"n_estimators\": list(range(100, 1000 + 1, 50)),\n",
    "                  \"learning_rate:\": np.linspace(0.1, 1.6, 17).round(1),\n",
    "                  \"gamma\": np.linspace(0, 5, 21)\n",
    "                 }\n",
    "\n",
    "tuned_xgb = custom_tune(classifier=xgb, search=RandomizedSearchCV, tune_params=xgb_parameters)"
   ]
  },
  {
   "cell_type": "code",
   "execution_count": 22,
   "metadata": {
    "scrolled": true
   },
   "outputs": [
    {
     "data": {
      "text/html": [
       "<div>\n",
       "<style scoped>\n",
       "    .dataframe tbody tr th:only-of-type {\n",
       "        vertical-align: middle;\n",
       "    }\n",
       "\n",
       "    .dataframe tbody tr th {\n",
       "        vertical-align: top;\n",
       "    }\n",
       "\n",
       "    .dataframe thead th {\n",
       "        text-align: right;\n",
       "    }\n",
       "</style>\n",
       "<table border=\"1\" class=\"dataframe\">\n",
       "  <thead>\n",
       "    <tr style=\"text-align: right;\">\n",
       "      <th></th>\n",
       "      <th>Under 50</th>\n",
       "      <th>Over 50</th>\n",
       "    </tr>\n",
       "  </thead>\n",
       "  <tbody>\n",
       "    <tr>\n",
       "      <th>Under 50</th>\n",
       "      <td>7030</td>\n",
       "      <td>398</td>\n",
       "    </tr>\n",
       "    <tr>\n",
       "      <th>Over 50</th>\n",
       "      <td>884</td>\n",
       "      <td>1457</td>\n",
       "    </tr>\n",
       "  </tbody>\n",
       "</table>\n",
       "</div>"
      ],
      "text/plain": [
       "          Under 50  Over 50\n",
       "Under 50      7030      398\n",
       "Over 50        884     1457"
      ]
     },
     "execution_count": 22,
     "metadata": {},
     "output_type": "execute_result"
    }
   ],
   "source": [
    "tuned_xgb[\"test_cm\"]"
   ]
  },
  {
   "cell_type": "code",
   "execution_count": 23,
   "metadata": {},
   "outputs": [
    {
     "name": "stdout",
     "output_type": "stream",
     "text": [
      "             precision    recall  f1-score   support\n",
      "\n",
      "          0       0.89      0.95      0.92      7428\n",
      "          1       0.79      0.62      0.69      2341\n",
      "\n",
      "avg / total       0.86      0.87      0.86      9769\n",
      "\n"
     ]
    }
   ],
   "source": [
    "print(tuned_xgb[\"test_report\"])"
   ]
  },
  {
   "cell_type": "code",
   "execution_count": 25,
   "metadata": {},
   "outputs": [
    {
     "name": "stdout",
     "output_type": "stream",
     "text": [
      "Tuned Extreme Gradient Boost model test AUC: 0.927\n"
     ]
    }
   ],
   "source": [
    "print(\"Tuned Extreme Gradient Boost model test AUC:\", tuned_xgb[\"test_auc\"])"
   ]
  },
  {
   "cell_type": "code",
   "execution_count": 15,
   "metadata": {},
   "outputs": [
    {
     "data": {
      "text/html": [
       "<div>\n",
       "<style scoped>\n",
       "    .dataframe tbody tr th:only-of-type {\n",
       "        vertical-align: middle;\n",
       "    }\n",
       "\n",
       "    .dataframe tbody tr th {\n",
       "        vertical-align: top;\n",
       "    }\n",
       "\n",
       "    .dataframe thead th {\n",
       "        text-align: right;\n",
       "    }\n",
       "</style>\n",
       "<table border=\"1\" class=\"dataframe\">\n",
       "  <thead>\n",
       "    <tr style=\"text-align: right;\">\n",
       "      <th></th>\n",
       "      <th>Under 50</th>\n",
       "      <th>Over 50</th>\n",
       "    </tr>\n",
       "  </thead>\n",
       "  <tbody>\n",
       "    <tr>\n",
       "      <th>Under 50</th>\n",
       "      <td>16401</td>\n",
       "      <td>891</td>\n",
       "    </tr>\n",
       "    <tr>\n",
       "      <th>Over 50</th>\n",
       "      <td>1959</td>\n",
       "      <td>3541</td>\n",
       "    </tr>\n",
       "  </tbody>\n",
       "</table>\n",
       "</div>"
      ],
      "text/plain": [
       "          Under 50  Over 50\n",
       "Under 50     16401      891\n",
       "Over 50       1959     3541"
      ]
     },
     "execution_count": 15,
     "metadata": {},
     "output_type": "execute_result"
    }
   ],
   "source": [
    "tuned_xgb[\"train_cm\"]"
   ]
  },
  {
   "cell_type": "code",
   "execution_count": 16,
   "metadata": {},
   "outputs": [
    {
     "name": "stdout",
     "output_type": "stream",
     "text": [
      "             precision    recall  f1-score   support\n",
      "\n",
      "          0       0.89      0.95      0.92     17292\n",
      "          1       0.80      0.64      0.71      5500\n",
      "\n",
      "avg / total       0.87      0.87      0.87     22792\n",
      "\n"
     ]
    }
   ],
   "source": [
    "print(tuned_xgb[\"train_report\"])"
   ]
  },
  {
   "cell_type": "code",
   "execution_count": 17,
   "metadata": {},
   "outputs": [
    {
     "name": "stdout",
     "output_type": "stream",
     "text": [
      "Tuned Extreme Gradient Boost model train AUC: 0.9316\n"
     ]
    }
   ],
   "source": [
    "print(\"Tuned Extreme Gradient Boost model train AUC:\", tuned_xgb[\"train_auc\"])"
   ]
  },
  {
   "cell_type": "code",
   "execution_count": 40,
   "metadata": {},
   "outputs": [
    {
     "data": {
      "text/html": [
       "<div>\n",
       "<style scoped>\n",
       "    .dataframe tbody tr th:only-of-type {\n",
       "        vertical-align: middle;\n",
       "    }\n",
       "\n",
       "    .dataframe tbody tr th {\n",
       "        vertical-align: top;\n",
       "    }\n",
       "\n",
       "    .dataframe thead th {\n",
       "        text-align: right;\n",
       "    }\n",
       "</style>\n",
       "<table border=\"1\" class=\"dataframe\">\n",
       "  <thead>\n",
       "    <tr style=\"text-align: right;\">\n",
       "      <th></th>\n",
       "      <th>name</th>\n",
       "      <th>var_importance</th>\n",
       "    </tr>\n",
       "  </thead>\n",
       "  <tbody>\n",
       "    <tr>\n",
       "      <th>2</th>\n",
       "      <td>capital_gain</td>\n",
       "      <td>0.180438</td>\n",
       "    </tr>\n",
       "    <tr>\n",
       "      <th>3</th>\n",
       "      <td>capital_loss</td>\n",
       "      <td>0.128162</td>\n",
       "    </tr>\n",
       "    <tr>\n",
       "      <th>0</th>\n",
       "      <td>age</td>\n",
       "      <td>0.124789</td>\n",
       "    </tr>\n",
       "    <tr>\n",
       "      <th>1</th>\n",
       "      <td>edu_years</td>\n",
       "      <td>0.065767</td>\n",
       "    </tr>\n",
       "    <tr>\n",
       "      <th>4</th>\n",
       "      <td>hours_per_week</td>\n",
       "      <td>0.060708</td>\n",
       "    </tr>\n",
       "  </tbody>\n",
       "</table>\n",
       "</div>"
      ],
      "text/plain": [
       "             name  var_importance\n",
       "2    capital_gain        0.180438\n",
       "3    capital_loss        0.128162\n",
       "0             age        0.124789\n",
       "1       edu_years        0.065767\n",
       "4  hours_per_week        0.060708"
      ]
     },
     "execution_count": 40,
     "metadata": {},
     "output_type": "execute_result"
    }
   ],
   "source": [
    "tuned_xgb_importance = pd.DataFrame({\n",
    "    \"name\": list(X_train.head(0)),\n",
    "    \"var_importance\": tuned_xgb[\"feature_importance\"]\n",
    "})\n",
    "\n",
    "tuned_xgb_importance.sort_values(by=[\"var_importance\"], ascending=False).head()"
   ]
  },
  {
   "cell_type": "markdown",
   "metadata": {
    "scrolled": true
   },
   "source": [
    "### Conceptual Questions\n",
    "\n",
    "#### In Ada Boost explain how the final predicted class is determined. Mark reference to the alpha parameter and explain what it represents.\n",
    "\n",
    "To begin, adaptive boosting, or Ada Boost, works by fitting numerous models sequentially on single predictors and combining weak learners (i.e. underfit models) to make stronger predictions as the ensemble progresses. This process ensures that hard cases are continually focused on. Formally, this happens by assigning weights to misclassified records, training a second model with updated weights from the first predictor and deriving predictions, and then updating weights again. This sequential, iterative process slowly updates before yielding final predictions. Once these ensemble of predictions are collected, the method, like bagging, are combined but, with these weights helping to determine the overall accuracy. The predicted class is the one that receives the majority of weighted votes.\n",
    "\n",
    "The alpha parameter is central to this process. The initial record weight is set to $\\frac{1}{m}$ and then updated once an error rate has been derived ($r_j$). Following this when the next predictor is used, an updated weight is calculated, and this is alpha ($\\alpha_j$). The alpha calculation takes into account the learning rate and $r_j$ to calculate a weight. The higher the value, the more accurate the prediction is and vice versa. With these, the final predictions can be made where each predictor is weighted using alpha.\n",
    "\n",
    "#### In Gradient Boosting, what is the role of the max_depth parameter? Why is it important to tune on this parameter?\n",
    "\n",
    "Max depth determines how deep a tree can grow. At larger values, the tree is larger exhibiting more splits. Inherently, this means that a larger tree fits the training data more closely. In gradient boosting, the idea is to limit max depth so grow shallow trees, which produce weak classifiers. Iteratively, these are used to update the ongoing predictions and taken together at the end as an ensemble. Additionally, the shallow tree depth also helps ensure the method is faster than developing a very deep random forest.\n",
    "\n",
    "#### In Part (e) of Steps 2-5 you determined the top 5 predictors across each model. Do any predictors show up in the top 5 predictors for all three models? If so, comment on if the predictor makes sense given what you are attempting to predict.\n",
    "\n",
    "I've put all five top predictors from each model into a common data frame so they can be reviewed in concert. I've included just the names to start but, the actual gini values are below as well. As seen, the top 5 predictors are common across all the models which have been tuned. However, the ordering is slightly different. For example, capital gains is the top predictor for ADA and XGB but, the fourth most important in GBC. The outlier here is the baseline random forest, which shows spouse as being in the top 5 in place of capital loss. Otherwise, the other four predictor are consistent with the tuned models.\n",
    "\n",
    "I think these all make sense intuitively. I've touched upon why capital gains and losses would be associated with making more than 50K per year. In realty, this might be a case of data leakage even though they aren't perfectly related. Hours per week and educational years also make sense given longer hours and higher attainment would generally be thought of as relevant to yearly earnings. Age also makes sense given older works, especially those with other factors like higher education, would be more advanced in their career and therefore, make more than 50K."
   ]
  },
  {
   "cell_type": "code",
   "execution_count": 146,
   "metadata": {},
   "outputs": [
    {
     "data": {
      "text/html": [
       "<div>\n",
       "<style scoped>\n",
       "    .dataframe tbody tr th:only-of-type {\n",
       "        vertical-align: middle;\n",
       "    }\n",
       "\n",
       "    .dataframe tbody tr th {\n",
       "        vertical-align: top;\n",
       "    }\n",
       "\n",
       "    .dataframe thead th {\n",
       "        text-align: right;\n",
       "    }\n",
       "</style>\n",
       "<table border=\"1\" class=\"dataframe\">\n",
       "  <thead>\n",
       "    <tr style=\"text-align: right;\">\n",
       "      <th></th>\n",
       "      <th>ada_top_5</th>\n",
       "      <th>gbc_top_5</th>\n",
       "      <th>rf_top_5</th>\n",
       "      <th>xgb_top_5</th>\n",
       "    </tr>\n",
       "  </thead>\n",
       "  <tbody>\n",
       "    <tr>\n",
       "      <th>0</th>\n",
       "      <td>capital_gain</td>\n",
       "      <td>age</td>\n",
       "      <td>age</td>\n",
       "      <td>capital_gain</td>\n",
       "    </tr>\n",
       "    <tr>\n",
       "      <th>1</th>\n",
       "      <td>capital_loss</td>\n",
       "      <td>capital_loss</td>\n",
       "      <td>hours_per_week</td>\n",
       "      <td>capital_loss</td>\n",
       "    </tr>\n",
       "    <tr>\n",
       "      <th>2</th>\n",
       "      <td>age</td>\n",
       "      <td>hours_per_week</td>\n",
       "      <td>capital_gain</td>\n",
       "      <td>age</td>\n",
       "    </tr>\n",
       "    <tr>\n",
       "      <th>3</th>\n",
       "      <td>hours_per_week</td>\n",
       "      <td>capital_gain</td>\n",
       "      <td>marital_status_Married-civ-spouse</td>\n",
       "      <td>edu_years</td>\n",
       "    </tr>\n",
       "    <tr>\n",
       "      <th>4</th>\n",
       "      <td>edu_years</td>\n",
       "      <td>edu_years</td>\n",
       "      <td>edu_years</td>\n",
       "      <td>hours_per_week</td>\n",
       "    </tr>\n",
       "  </tbody>\n",
       "</table>\n",
       "</div>"
      ],
      "text/plain": [
       "        ada_top_5       gbc_top_5                           rf_top_5  \\\n",
       "0    capital_gain             age                                age   \n",
       "1    capital_loss    capital_loss                     hours_per_week   \n",
       "2             age  hours_per_week                       capital_gain   \n",
       "3  hours_per_week    capital_gain  marital_status_Married-civ-spouse   \n",
       "4       edu_years       edu_years                          edu_years   \n",
       "\n",
       "        xgb_top_5  \n",
       "0    capital_gain  \n",
       "1    capital_loss  \n",
       "2             age  \n",
       "3       edu_years  \n",
       "4  hours_per_week  "
      ]
     },
     "execution_count": 146,
     "metadata": {},
     "output_type": "execute_result"
    }
   ],
   "source": [
    "pd.DataFrame({\n",
    "    \"ada_top_5\": list(tuned_ada_importance.sort_values(by=[\"var_importance\"], ascending=False).head()[\"name\"]),\n",
    "    \"gbc_top_5\": list(tuned_gbc_importance.sort_values(by=[\"var_importance\"], ascending=False).head()[\"name\"]),\n",
    "    \"rf_top_5\": list(var_importance.sort_values(by=[\"var_importance\"], ascending=False).head()[\"name\"]),\n",
    "    \"xgb_top_5\": list(tuned_xgb_importance.sort_values(by=[\"var_importance\"], ascending=False).head()[\"name\"])\n",
    "})"
   ]
  },
  {
   "cell_type": "code",
   "execution_count": 145,
   "metadata": {},
   "outputs": [
    {
     "data": {
      "text/html": [
       "<div>\n",
       "<style scoped>\n",
       "    .dataframe tbody tr th:only-of-type {\n",
       "        vertical-align: middle;\n",
       "    }\n",
       "\n",
       "    .dataframe tbody tr th {\n",
       "        vertical-align: top;\n",
       "    }\n",
       "\n",
       "    .dataframe thead th {\n",
       "        text-align: right;\n",
       "    }\n",
       "</style>\n",
       "<table border=\"1\" class=\"dataframe\">\n",
       "  <thead>\n",
       "    <tr style=\"text-align: right;\">\n",
       "      <th></th>\n",
       "      <th>model</th>\n",
       "      <th>name</th>\n",
       "      <th>var_importance</th>\n",
       "    </tr>\n",
       "  </thead>\n",
       "  <tbody>\n",
       "    <tr>\n",
       "      <th>0</th>\n",
       "      <td>ADA</td>\n",
       "      <td>capital_gain</td>\n",
       "      <td>0.412500</td>\n",
       "    </tr>\n",
       "    <tr>\n",
       "      <th>1</th>\n",
       "      <td>ADA</td>\n",
       "      <td>capital_loss</td>\n",
       "      <td>0.192500</td>\n",
       "    </tr>\n",
       "    <tr>\n",
       "      <th>2</th>\n",
       "      <td>ADA</td>\n",
       "      <td>age</td>\n",
       "      <td>0.110000</td>\n",
       "    </tr>\n",
       "    <tr>\n",
       "      <th>3</th>\n",
       "      <td>ADA</td>\n",
       "      <td>hours_per_week</td>\n",
       "      <td>0.062500</td>\n",
       "    </tr>\n",
       "    <tr>\n",
       "      <th>4</th>\n",
       "      <td>ADA</td>\n",
       "      <td>edu_years</td>\n",
       "      <td>0.015000</td>\n",
       "    </tr>\n",
       "    <tr>\n",
       "      <th>5</th>\n",
       "      <td>GBC</td>\n",
       "      <td>age</td>\n",
       "      <td>0.121181</td>\n",
       "    </tr>\n",
       "    <tr>\n",
       "      <th>6</th>\n",
       "      <td>GBC</td>\n",
       "      <td>capital_loss</td>\n",
       "      <td>0.109562</td>\n",
       "    </tr>\n",
       "    <tr>\n",
       "      <th>7</th>\n",
       "      <td>GBC</td>\n",
       "      <td>hours_per_week</td>\n",
       "      <td>0.104289</td>\n",
       "    </tr>\n",
       "    <tr>\n",
       "      <th>8</th>\n",
       "      <td>GBC</td>\n",
       "      <td>capital_gain</td>\n",
       "      <td>0.082247</td>\n",
       "    </tr>\n",
       "    <tr>\n",
       "      <th>9</th>\n",
       "      <td>GBC</td>\n",
       "      <td>edu_years</td>\n",
       "      <td>0.058285</td>\n",
       "    </tr>\n",
       "    <tr>\n",
       "      <th>10</th>\n",
       "      <td>RF</td>\n",
       "      <td>age</td>\n",
       "      <td>0.235792</td>\n",
       "    </tr>\n",
       "    <tr>\n",
       "      <th>11</th>\n",
       "      <td>RF</td>\n",
       "      <td>hours_per_week</td>\n",
       "      <td>0.116604</td>\n",
       "    </tr>\n",
       "    <tr>\n",
       "      <th>12</th>\n",
       "      <td>RF</td>\n",
       "      <td>capital_gain</td>\n",
       "      <td>0.099821</td>\n",
       "    </tr>\n",
       "    <tr>\n",
       "      <th>13</th>\n",
       "      <td>RF</td>\n",
       "      <td>marital_status_Married-civ-spouse</td>\n",
       "      <td>0.081542</td>\n",
       "    </tr>\n",
       "    <tr>\n",
       "      <th>14</th>\n",
       "      <td>RF</td>\n",
       "      <td>edu_years</td>\n",
       "      <td>0.064467</td>\n",
       "    </tr>\n",
       "    <tr>\n",
       "      <th>15</th>\n",
       "      <td>XGB</td>\n",
       "      <td>capital_gain</td>\n",
       "      <td>0.180438</td>\n",
       "    </tr>\n",
       "    <tr>\n",
       "      <th>16</th>\n",
       "      <td>XGB</td>\n",
       "      <td>capital_loss</td>\n",
       "      <td>0.128162</td>\n",
       "    </tr>\n",
       "    <tr>\n",
       "      <th>17</th>\n",
       "      <td>XGB</td>\n",
       "      <td>age</td>\n",
       "      <td>0.124789</td>\n",
       "    </tr>\n",
       "    <tr>\n",
       "      <th>18</th>\n",
       "      <td>XGB</td>\n",
       "      <td>edu_years</td>\n",
       "      <td>0.065767</td>\n",
       "    </tr>\n",
       "    <tr>\n",
       "      <th>19</th>\n",
       "      <td>XGB</td>\n",
       "      <td>hours_per_week</td>\n",
       "      <td>0.060708</td>\n",
       "    </tr>\n",
       "  </tbody>\n",
       "</table>\n",
       "</div>"
      ],
      "text/plain": [
       "   model                               name  var_importance\n",
       "0    ADA                       capital_gain        0.412500\n",
       "1    ADA                       capital_loss        0.192500\n",
       "2    ADA                                age        0.110000\n",
       "3    ADA                     hours_per_week        0.062500\n",
       "4    ADA                          edu_years        0.015000\n",
       "5    GBC                                age        0.121181\n",
       "6    GBC                       capital_loss        0.109562\n",
       "7    GBC                     hours_per_week        0.104289\n",
       "8    GBC                       capital_gain        0.082247\n",
       "9    GBC                          edu_years        0.058285\n",
       "10    RF                                age        0.235792\n",
       "11    RF                     hours_per_week        0.116604\n",
       "12    RF                       capital_gain        0.099821\n",
       "13    RF  marital_status_Married-civ-spouse        0.081542\n",
       "14    RF                          edu_years        0.064467\n",
       "15   XGB                       capital_gain        0.180438\n",
       "16   XGB                       capital_loss        0.128162\n",
       "17   XGB                                age        0.124789\n",
       "18   XGB                          edu_years        0.065767\n",
       "19   XGB                     hours_per_week        0.060708"
      ]
     },
     "execution_count": 145,
     "metadata": {},
     "output_type": "execute_result"
    }
   ],
   "source": [
    "model = pd.DataFrame({\n",
    "    \"model\": pd.Series([\"ADA\", \"GBC\", \"RF\", \"XGB\"] * 5)\n",
    "}).sort_values(by=[\"model\"], ascending=True).reset_index(drop=True)\n",
    "\n",
    "top_five_predictors = pd.concat(\n",
    "    [tuned_ada_importance.sort_values(by=[\"var_importance\"], ascending=False).head(), \n",
    "     tuned_gbc_importance.sort_values(by=[\"var_importance\"], ascending=False).head(),\n",
    "     var_importance.sort_values(by=[\"var_importance\"], ascending=False).head(),\n",
    "     tuned_xgb_importance.sort_values(by=[\"var_importance\"], ascending=False).head()]\n",
    ").reset_index(drop=True)\n",
    "\n",
    "pd.concat([model, top_five_predictors],axis=1)"
   ]
  },
  {
   "cell_type": "markdown",
   "metadata": {},
   "source": [
    "#### From the models run in steps 2-5, which performs the best based on the Classification Report? Support your reasoning with evidence from your test data and be sure to share the optimal hyper parameters found from your grid search.\n",
    "\n",
    "The classification report highlights that GBC has the best evaluation metrics. This is seen given it has the highest average values across all three evaluation metrics. For comparison, I've included all four reports below which provides evidence of this. While the XGB model had a slightly higher AUC, the prediction accuracy is better for GBC so I'm carrying it forward as my preferred model."
   ]
  },
  {
   "cell_type": "code",
   "execution_count": 148,
   "metadata": {
    "scrolled": true
   },
   "outputs": [
    {
     "name": "stdout",
     "output_type": "stream",
     "text": [
      "RF              precision    recall  f1-score   support\n",
      "\n",
      "          0       0.88      0.91      0.90      7428\n",
      "          1       0.69      0.60      0.64      2341\n",
      "\n",
      "avg / total       0.83      0.84      0.83      9769\n",
      "\n",
      "ADA              precision    recall  f1-score   support\n",
      "\n",
      "          0       0.89      0.94      0.92      7428\n",
      "          1       0.77      0.64      0.70      2341\n",
      "\n",
      "avg / total       0.86      0.87      0.86      9769\n",
      "\n",
      "Best model parameters from GBC: learning_rate: 0.4, max_depth: 2, n_estimators: 400, random_state: 1017 \n",
      "\n",
      "GBC              precision    recall  f1-score   support\n",
      "\n",
      "          0       0.89      0.94      0.92      7428\n",
      "          1       0.78      0.65      0.71      2341\n",
      "\n",
      "avg / total       0.87      0.87      0.87      9769\n",
      "\n",
      "XGB              precision    recall  f1-score   support\n",
      "\n",
      "          0       0.89      0.95      0.92      7428\n",
      "          1       0.79      0.62      0.69      2341\n",
      "\n",
      "avg / total       0.86      0.87      0.86      9769\n",
      "\n"
     ]
    }
   ],
   "source": [
    "print(\"RF\", classification_report(y_test[\"income_bracket\"], baseline_rf_preds[\"class_pred\"]))\n",
    "print(\"ADA\", tuned_ada[\"test_report\"])\n",
    "print(\"Best model parameters from GBC: learning_rate: 0.4, max_depth: 2, n_estimators: 400, random_state: 1017 \\n\")\n",
    "print(\"GBC\", tuned_gbc[\"test_report\"])\n",
    "print(\"XGB\", tuned_xgb[\"test_report\"])"
   ]
  },
  {
   "cell_type": "markdown",
   "metadata": {},
   "source": [
    "#### For your best performing model, plot out an ROC curve using your test data. Describe what the x-axis & y-axis of the ROC curve tell us about a classifier.\n",
    "\n",
    "The ROC plot shows the false positive rate (x-axis) and the true positive rate (y-axis). The false positive rate reviews records that are actually negative but, are classified as positive. Essentially, this visualization helps highlight the review the sensitivity and specificity for a model. These are important for classification modelling as they provide an important visualization that accounts for various evaluation metrics simultaneously."
   ]
  },
  {
   "cell_type": "code",
   "execution_count": 138,
   "metadata": {},
   "outputs": [
    {
     "data": {
      "image/png": "[encoded data removed]",
      "text/plain": [
       "<matplotlib.figure.Figure at 0x2343cd16780>"
      ]
     },
     "metadata": {},
     "output_type": "display_data"
    }
   ],
   "source": [
    "import matplotlib.pyplot as plt\n",
    "\n",
    "fpr, tpr, _ = metrics.roc_curve(y_test[\"income_bracket\"],  tuned_gbc[\"test_results\"][\"over_50_prob\"])\n",
    "\n",
    "plt.figure(figsize = (12, 7))\n",
    "\n",
    "plt.plot(fpr, tpr, label = \"GBC ROC curve (AUC = %0.2f)\" % tuned_gbc[\"test_auc\"])\n",
    "plt.plot([0, 1], [0, 1], color = \"orange\")\n",
    "plt.legend(loc = 4)\n",
    "plt.xlabel(\"FPR\")\n",
    "plt.ylabel(\"TPR\")\n",
    "\n",
    "plt.title(\"ROC curve for Gradient Boosted Classifier model\")\n",
    "plt.show()"
   ]
  },
  {
   "cell_type": "code",
   "execution_count": 137,
   "metadata": {},
   "outputs": [
    {
     "data": {
      "text/plain": [
       "'C:\\\\Users\\\\Mark\\\\Machine Learning 5'"
      ]
     },
     "execution_count": 137,
     "metadata": {},
     "output_type": "execute_result"
    }
   ],
   "source": [
    "import os\n",
    "os.getcwd()"
   ]
  }
 ],
 "metadata": {
  "kernelspec": {
   "display_name": "Python 3",
   "language": "python",
   "name": "python3"
  },
  "language_info": {
   "codemirror_mode": {
    "name": "ipython",
    "version": 3
   },
   "file_extension": ".py",
   "mimetype": "text/x-python",
   "name": "python",
   "nbconvert_exporter": "python",
   "pygments_lexer": "ipython3",
   "version": "3.6.4"
  }
 },
 "nbformat": 4,
 "nbformat_minor": 2
}
